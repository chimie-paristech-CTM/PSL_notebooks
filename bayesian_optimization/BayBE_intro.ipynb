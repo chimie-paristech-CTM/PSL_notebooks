{
 "cells": [
  {
   "cell_type": "markdown",
   "metadata": {},
   "source": [
    "# A Introduction Bayesian optimization for chemical reactions with BayBE"
   ]
  },
  {
   "cell_type": "markdown",
   "metadata": {},
   "source": [
    "BayBE is s a general-purpose toolbox for Bayesian Design of (chemical) experiments, developed by the pharmaceutical company Merck: https://emdgroup.github.io/baybe/stable/. Here, we will first introduce the basic functionality of this software package by focusing on a \"dummy\" experiment, after which you will be able to experiment on a real-world high-throughput experimentation dataset of Suzuki cross-coupling reactions.\n",
    "\n"
   ]
  },
  {
   "cell_type": "code",
   "execution_count": null,
   "metadata": {},
   "outputs": [],
   "source": [
    "%load_ext autoreload\n",
    "%autoreload 0"
   ]
  },
  {
   "cell_type": "code",
   "execution_count": null,
   "metadata": {},
   "outputs": [],
   "source": [
    "!curl -O https://raw.githubusercontent.com/chimie-paristech-CTM/PSL_notebooks/main/bayesian_optimization/baybe_functions.py"
   ]
  },
  {
   "cell_type": "code",
   "execution_count": null,
   "metadata": {},
   "outputs": [],
   "source": [
    "!pip install scikit-learn numpy==1.26 matplotlib scipy\n",
    "!pip install baybe[chem,simulation]==0.12.2"
   ]
  },
  {
   "cell_type": "code",
   "execution_count": 2,
   "metadata": {},
   "outputs": [],
   "source": [
    "import pandas as pd\n",
    "import numpy as np\n",
    "import matplotlib.pyplot as plt\n",
    "from baybe import Campaign\n",
    "from baybe.objectives import SingleTargetObjective\n",
    "from baybe.parameters import NumericalDiscreteParameter, SubstanceParameter, NumericalContinuousParameter, TaskParameter\n",
    "from baybe.recommenders import (\n",
    "    BotorchRecommender,\n",
    "    RandomRecommender,\n",
    "    TwoPhaseMetaRecommender,\n",
    ")\n",
    "from baybe.constraints import ContinuousLinearConstraint, DiscreteCustomConstraint\n",
    "from baybe.constraints.base import ContinuousNonlinearConstraint\n",
    "\n",
    "\n",
    "from baybe.acquisition import qUpperConfidenceBound, qExpectedImprovement, qProbabilityOfImprovement, qLogExpectedImprovement\n",
    "\n",
    "from baybe.searchspace import SearchSpace\n",
    "from baybe.surrogates import GaussianProcessSurrogate\n",
    "from baybe.surrogates.base import Surrogate\n",
    "from baybe.targets import NumericalTarget\n",
    "from baybe.utils.basic import get_subclasses\n",
    "from baybe.utils.dataframe import add_fake_measurements\n",
    "from baybe.utils.sampling_algorithms import DiscreteSamplingMethod\n",
    "\n",
    "from baybe_functions import *"
   ]
  },
  {
   "cell_type": "markdown",
   "metadata": {},
   "source": [
    "# A First optimization Campaign with BayBe"
   ]
  },
  {
   "cell_type": "markdown",
   "metadata": {},
   "source": [
    "## 1. Setting up the search space"
   ]
  },
  {
   "cell_type": "markdown",
   "metadata": {},
   "source": [
    "<h3> a. Defining molecules and Encoding </h3>"
   ]
  },
  {
   "cell_type": "markdown",
   "metadata": {},
   "source": [
    "We focus here on an imaginary direct arylation reaction, where we are able to fine tune solvent, ligand, base as well as concentration and temperature. The first three variables are categorical, so we need to enumerate all the options for each of these variables first and foremost."
   ]
  },
  {
   "cell_type": "code",
   "execution_count": 3,
   "metadata": {},
   "outputs": [],
   "source": [
    "dict_solvent = {\n",
    "    \"DMAc\": r\"CC(N(C)C)=O\",\n",
    "    \"Butyornitrile\": r\"CCCC#N\",\n",
    "    \"Butyl Ester\": r\"CCCCOC(C)=O\",\n",
    "    \"p-Xylene\": r\"CC1=CC=C(C)C=C1\",\n",
    "}\n",
    "\n",
    "dict_base = {\n",
    "    \"Potassium acetate\": r\"O=C([O-])C.[K+]\",\n",
    "    \"Potassium pivalate\": r\"O=C([O-])C(C)(C)C.[K+]\",\n",
    "    \"Cesium acetate\": r\"O=C([O-])C.[Cs+]\",\n",
    "    \"Cesium pivalate\": r\"O=C([O-])C(C)(C)C.[Cs+]\",\n",
    "}\n",
    "\n",
    "dict_ligand = {\n",
    "    \"BrettPhos\": r\"CC(C)C1=CC(C(C)C)=C(C(C(C)C)=C1)C2=C(P(C3CCCCC3)C4CCCCC4)C(OC)=\"\n",
    "    \"CC=C2OC\",\n",
    "    \"Di-tert-butylphenylphosphine\": r\"CC(C)(C)P(C1=CC=CC=C1)C(C)(C)C\",\n",
    "    \"(t-Bu)PhCPhos\": r\"CN(C)C1=CC=CC(N(C)C)=C1C2=CC=CC=C2P(C(C)(C)C)C3=CC=CC=C3\",\n",
    "}"
   ]
  },
  {
   "cell_type": "markdown",
   "metadata": {},
   "source": [
    "Next, we need to define a numerical representation for each of the substances, i.e., we need to assign a vector to each compound. This will enable us to define a \"distance\" between individual compounds, and thus quantify the covariance between pairs of compounds.\n",
    "\n",
    "Here, we will work with a MORDRED encoding (the default in BayBE). Mordred is a Python library used to compute molecular descriptors from chemical structures. A Mordred encoding of chemical compounds refers to the set of molecular descriptors generated using this library. These descriptors numerically represent various structural, topological, electronic, and physicochemical properties of a molecule, making them useful for machine learning, cheminformatics, and QSAR (Quantitative Structure-Activity Relationship) studies."
   ]
  },
  {
   "cell_type": "code",
   "execution_count": 4,
   "metadata": {},
   "outputs": [
    {
     "name": "stderr",
     "output_type": "stream",
     "text": [
      "c:\\Users\\external\\miniconda3\\envs\\bayesian\\lib\\site-packages\\tqdm\\auto.py:21: TqdmWarning: IProgress not found. Please update jupyter and ipywidgets. See https://ipywidgets.readthedocs.io/en/stable/user_install.html\n",
      "  from .autonotebook import tqdm as notebook_tqdm\n"
     ]
    }
   ],
   "source": [
    "solvent = SubstanceParameter(\"Solvent\", data=dict_solvent, encoding=\"MORDRED\")\n",
    "base = SubstanceParameter(\"Base\", data=dict_base, encoding=\"MORDRED\")\n",
    "ligand = SubstanceParameter(\"Ligand\", data=dict_ligand, encoding=\"MORDRED\")"
   ]
  },
  {
   "cell_type": "markdown",
   "metadata": {},
   "source": [
    "<h3> b. Numerical parameters </h3>"
   ]
  },
  {
   "cell_type": "markdown",
   "metadata": {},
   "source": [
    "Next, we proceed by defining the numerical variables. The numerical variables can be discrete or continuous with pre-defined bounds."
   ]
  },
  {
   "cell_type": "code",
   "execution_count": 5,
   "metadata": {},
   "outputs": [],
   "source": [
    "temperature = NumericalDiscreteParameter(\n",
    "    \"Temperature\", values=[90, 105, 120], tolerance=2\n",
    ")\n",
    "concentration = NumericalDiscreteParameter(\n",
    "    \"Concentration\", values=[0.057, 0.1, 0.153], tolerance=0.005\n",
    ")\n",
    "catalyst_loading = NumericalContinuousParameter(\n",
    "    name=\"Catalyst Loading\",\n",
    "    bounds=(0.5, 5.0)\n",
    ")"
   ]
  },
  {
   "cell_type": "markdown",
   "metadata": {},
   "source": [
    "<h3> c. Adding constraints to the experiment </h3>"
   ]
  },
  {
   "cell_type": "markdown",
   "metadata": {},
   "source": [
    "BayBE lets you mirror real-world experimental rules by **filtering** or **restricting** the space of possible experiments before optimization even begins. In practice, you define:\n",
    "\n",
    "\n",
    "Continuous constraints\n",
    "- Carve out valid regions of your numeric parameters.  \n",
    "- **Example:** Forcing mixture components to sum to 1.0, or limiting how many reagents can be “active” at once (e.g. at least one and at most two non-zero concentrations).  \n",
    "- Ensures the optimizer only proposes concentration or temperature combinations that actually make sense in the lab (e.g. no “negative” or impossible sums).\n",
    "\n",
    "Discrete constraints\n",
    "- Remove invalid categorical or grid-based combinations.  \n",
    "- **Examples:**  \n",
    "  - Ban known incompatibilities (e.g. a certain catalyst with high temperatures)  \n",
    "  - Gate parameters behind an “on/off” switch (extra knobs only appear when the switch is “on”)  \n",
    "  - Prevent duplicate selections across multiple reagent slots  \n",
    "- Under the hood, BayBE enumerates all candidate combinations and then **filters** them against these rules so your optimizer never even sees the disallowed entries.\n",
    "\n",
    "\n",
    "By layering these continuous and discrete filters—optionally tied to simple logical conditions —you precisely reflect your lab’s limitations (mixture fractions summing to unity, reagent–temperature incompatibilities, conditional parameters, etc.) while still letting the Bayesian engine focus on finding the best experiments.\n"
   ]
  },
  {
   "cell_type": "code",
   "execution_count": 6,
   "metadata": {},
   "outputs": [],
   "source": [
    "\n",
    "# your solvent → boiling point map (°C)\n",
    "dict_boiling_points = {\n",
    "    \"DMAc\": 165.0,\n",
    "    \"Butyornitrile\": 117.6,\n",
    "    \"Butyl Ester\": 126.1,\n",
    "    \"p-Xylene\": 138.35 \n",
    "}\n",
    "\n",
    "T_margin = 5.0  # °C safety margin\n",
    "\n",
    "# Create a function which verifies if the expirement temperature meets the boiling point criteria\n",
    "def solvent_bp_ok(df: pd.DataFrame) -> pd.Series:\n",
    "    bp_series = df[\"Solvent\"].map(dict_boiling_points)\n",
    "    return df[\"Temperature\"] <= (bp_series - T_margin)\n",
    "\n",
    "# wrap it in a BayBE custom discrete‐space constraint\n",
    "constraint_bp = DiscreteCustomConstraint(\n",
    "    parameters=[\"Solvent\", \"Temperature\"],\n",
    "    validator=solvent_bp_ok\n",
    ")"
   ]
  },
  {
   "cell_type": "markdown",
   "metadata": {},
   "source": [
    "<h3> d. Set-up final search space </h3>"
   ]
  },
  {
   "cell_type": "markdown",
   "metadata": {},
   "source": [
    "Finally, we can set up the search space. The term “search space” refers to the domain of possible values for the parameters that are being optimized during a campaign. A search space represents the space within which BayBE explores and searches for the optimal solution. It is implemented via the SearchSpace class."
   ]
  },
  {
   "cell_type": "code",
   "execution_count": null,
   "metadata": {},
   "outputs": [
    {
     "name": "stdout",
     "output_type": "stream",
     "text": [
      "SearchSpaceType.HYBRID\n"
     ]
    },
    {
     "ename": "ValueError",
     "evalue": "Provide the data to be transformed as first positional argument.",
     "output_type": "error",
     "traceback": [
      "\u001b[1;31m---------------------------------------------------------------------------\u001b[0m",
      "\u001b[1;31mValueError\u001b[0m                                Traceback (most recent call last)",
      "Cell \u001b[1;32mIn[23], line 11\u001b[0m\n\u001b[0;32m      5\u001b[0m searchspace \u001b[38;5;241m=\u001b[39m SearchSpace\u001b[38;5;241m.\u001b[39mfrom_product(parameters\u001b[38;5;241m=\u001b[39mparameters,\n\u001b[0;32m      6\u001b[0m                                        constraints\u001b[38;5;241m=\u001b[39m[constraint_bp])\n\u001b[0;32m      9\u001b[0m \u001b[38;5;28mprint\u001b[39m(searchspace\u001b[38;5;241m.\u001b[39mtype)\n\u001b[1;32m---> 11\u001b[0m \u001b[38;5;28mprint\u001b[39m(\u001b[43msearchspace\u001b[49m\u001b[38;5;241;43m.\u001b[39;49m\u001b[43mdiscrete\u001b[49m\u001b[38;5;241;43m.\u001b[39;49m\u001b[43mtransform\u001b[49m\u001b[43m(\u001b[49m\u001b[43m)\u001b[49m)\n",
      "File \u001b[1;32mc:\\Users\\external\\miniconda3\\envs\\bayesian\\lib\\site-packages\\baybe\\searchspace\\discrete.py:585\u001b[0m, in \u001b[0;36mSubspaceDiscrete.transform\u001b[1;34m(self, df, allow_missing, allow_extra, data)\u001b[0m\n\u001b[0;32m    583\u001b[0m \u001b[38;5;66;03m# >>>>>>>>>> Deprecation\u001b[39;00m\n\u001b[0;32m    584\u001b[0m \u001b[38;5;28;01mif\u001b[39;00m \u001b[38;5;129;01mnot\u001b[39;00m ((df \u001b[38;5;129;01mis\u001b[39;00m \u001b[38;5;28;01mNone\u001b[39;00m) \u001b[38;5;241m^\u001b[39m (data \u001b[38;5;129;01mis\u001b[39;00m \u001b[38;5;28;01mNone\u001b[39;00m)):\n\u001b[1;32m--> 585\u001b[0m     \u001b[38;5;28;01mraise\u001b[39;00m \u001b[38;5;167;01mValueError\u001b[39;00m(\n\u001b[0;32m    586\u001b[0m         \u001b[38;5;124m\"\u001b[39m\u001b[38;5;124mProvide the data to be transformed as first positional argument.\u001b[39m\u001b[38;5;124m\"\u001b[39m\n\u001b[0;32m    587\u001b[0m     )\n\u001b[0;32m    589\u001b[0m \u001b[38;5;28;01mif\u001b[39;00m data \u001b[38;5;129;01mis\u001b[39;00m \u001b[38;5;129;01mnot\u001b[39;00m \u001b[38;5;28;01mNone\u001b[39;00m:\n\u001b[0;32m    590\u001b[0m     df \u001b[38;5;241m=\u001b[39m data\n",
      "\u001b[1;31mValueError\u001b[0m: Provide the data to be transformed as first positional argument."
     ]
    }
   ],
   "source": [
    "# Define list of parameters\n",
    "parameters = [solvent, base, ligand, temperature, concentration, catalyst_loading]\n",
    "\n",
    "# Construct Search Space of optimization model\n",
    "searchspace = SearchSpace.from_product(parameters=parameters,\n",
    "                                       constraints=[constraint_bp])\n",
    "\n",
    "\n",
    "print(searchspace.type)\n",
    "\n"
   ]
  },
  {
   "cell_type": "markdown",
   "metadata": {},
   "source": [
    "## 2. Defining the objective"
   ]
  },
  {
   "cell_type": "markdown",
   "metadata": {},
   "source": [
    "In this example, we maximize the yield of a reaction and define a corresponding objective."
   ]
  },
  {
   "cell_type": "code",
   "execution_count": 8,
   "metadata": {},
   "outputs": [],
   "source": [
    "objective = SingleTargetObjective(target=NumericalTarget(name=\"yield\", mode=\"MAX\"))"
   ]
  },
  {
   "cell_type": "markdown",
   "metadata": {},
   "source": [
    "## 3. Setting up the Bayesian Optimization campaign"
   ]
  },
  {
   "cell_type": "markdown",
   "metadata": {},
   "source": [
    "Now, we can set up our Bayesian Optimization campaign. Initially, we have no data about the reaction, so we cannot apply a surrogate model to generate a prior, which can inform us about which experiment to prioritize. \n",
    "\n",
    "As such, some initial measurements will need to be made. We will start by performing random experiments."
   ]
  },
  {
   "cell_type": "code",
   "execution_count": 9,
   "metadata": {},
   "outputs": [],
   "source": [
    "# TODO: try out different recommenders. \n",
    "INITIAL_RECOMMENDER = RandomRecommender()"
   ]
  },
  {
   "cell_type": "markdown",
   "metadata": {},
   "source": [
    "Once a couple of random experiments will have been performed, we will be able to set up the surrogate model and use an acquisition function to identify experiments to perform next. We will set this up below."
   ]
  },
  {
   "cell_type": "code",
   "execution_count": 10,
   "metadata": {},
   "outputs": [],
   "source": [
    "SURROGATE_MODEL = GaussianProcessSurrogate() # We will use Gaussian Processes as the surrogate to construct the prior\n",
    "\n",
    "ACQ_FUNCTION = \"qUCB\" # upper confidence bound with a default beta of 0.2 is selected here for simplicity"
   ]
  },
  {
   "cell_type": "markdown",
   "metadata": {},
   "source": [
    "Now that we have defined all the settings for the initial recommender as well as the \"advanced\" recommender, we can finalize the set-up of the campaign."
   ]
  },
  {
   "cell_type": "code",
   "execution_count": 11,
   "metadata": {},
   "outputs": [],
   "source": [
    "# TwoPhaseMetaRecommender, because we have two phases in the recommendations, \n",
    "# and the search space contains both discrete and continuous variables (i.e., it is a \"meta\" search space).\n",
    "\n",
    "recommender = TwoPhaseMetaRecommender(\n",
    "    initial_recommender=INITIAL_RECOMMENDER,\n",
    "    recommender=BotorchRecommender(\n",
    "        surrogate_model=SURROGATE_MODEL, acquisition_function=ACQ_FUNCTION\n",
    "    ), switch_after=4\n",
    ")"
   ]
  },
  {
   "cell_type": "markdown",
   "metadata": {},
   "source": [
    "We can now take a closer look at the Recommender object we have created."
   ]
  },
  {
   "cell_type": "code",
   "execution_count": 12,
   "metadata": {},
   "outputs": [
    {
     "name": "stdout",
     "output_type": "stream",
     "text": [
      "TwoPhaseMetaRecommender\n",
      "   Initial recommender\n",
      "      RandomRecommender\n",
      "         Compatibility: SearchSpaceType.HYBRID\n",
      "   Recommender\n",
      "      BotorchRecommender\n",
      "         Surrogate\n",
      "            GaussianProcessSurrogate\n",
      "               Supports Transfer Learning: True\n",
      "               Kernel factory: DefaultKernelFactory()\n",
      "         Acquisition function: qUpperConfidenceBound(beta=0.2)\n",
      "         Compatibility: SearchSpaceType.HYBRID\n",
      "         Sequential continuous: True\n",
      "         Hybrid sampler: None\n",
      "         Sampling percentage: 1.0\n",
      "   Switch after: 4\n",
      "   Remain switched: False\n",
      "   Has switched: False\n"
     ]
    }
   ],
   "source": [
    "print(recommender)"
   ]
  },
  {
   "cell_type": "markdown",
   "metadata": {},
   "source": [
    "Let's now change the beta for the UCB acquisition function."
   ]
  },
  {
   "cell_type": "code",
   "execution_count": 25,
   "metadata": {},
   "outputs": [],
   "source": [
    "ACQ_FUNCTON = qUpperConfidenceBound(beta=1.0)\n",
    "\n",
    "recommender = TwoPhaseMetaRecommender(\n",
    "    initial_recommender=INITIAL_RECOMMENDER,\n",
    "    recommender=BotorchRecommender(\n",
    "        surrogate_model=SURROGATE_MODEL, acquisition_function=ACQ_FUNCTON,\n",
    "        sampling_percentage=0.3, hybrid_sampler=DiscreteSamplingMethod.Random\n",
    "    ), switch_after=4\n",
    ")"
   ]
  },
  {
   "cell_type": "code",
   "execution_count": 14,
   "metadata": {},
   "outputs": [
    {
     "name": "stdout",
     "output_type": "stream",
     "text": [
      "TwoPhaseMetaRecommender\n",
      "   Initial recommender\n",
      "      RandomRecommender\n",
      "         Compatibility: SearchSpaceType.HYBRID\n",
      "   Recommender\n",
      "      BotorchRecommender\n",
      "         Surrogate\n",
      "            GaussianProcessSurrogate\n",
      "               Supports Transfer Learning: True\n",
      "               Kernel factory: DefaultKernelFactory()\n",
      "         Acquisition function: qUpperConfidenceBound(beta=1.0)\n",
      "         Compatibility: SearchSpaceType.HYBRID\n",
      "         Sequential continuous: True\n",
      "         Hybrid sampler: DiscreteSamplingMethod.Random\n",
      "         Sampling percentage: 0.3\n",
      "   Switch after: 4\n",
      "   Remain switched: False\n",
      "   Has switched: False\n"
     ]
    }
   ],
   "source": [
    "print(recommender)"
   ]
  },
  {
   "cell_type": "markdown",
   "metadata": {},
   "source": [
    "Finally, we can set up the BO campaign."
   ]
  },
  {
   "cell_type": "code",
   "execution_count": 26,
   "metadata": {},
   "outputs": [],
   "source": [
    "campaign = Campaign(\n",
    "    searchspace=searchspace,\n",
    "    recommender=recommender,\n",
    "    objective=objective,\n",
    ")"
   ]
  },
  {
   "cell_type": "code",
   "execution_count": 28,
   "metadata": {},
   "outputs": [
    {
     "name": "stdout",
     "output_type": "stream",
     "text": [
      "{'Name': 'Polymer', 'Type': 'CustomDiscreteParameter', 'nValues': 3, 'Encoding': <CustomEncoding.CUSTOM: 'CUSTOM'>, 'nActiveValues': 2}\n"
     ]
    }
   ],
   "source": [
    "import pandas as pd\n",
    "from baybe.parameters import CustomDiscreteParameter\n",
    "\n",
    "descriptors = pd.DataFrame(\n",
    "    {\n",
    "        \"Glass_Transition_TempC\": [20, -71, -39],\n",
    "        \"Weight_kDalton\": [120, 32, 241],\n",
    "    },\n",
    "    index=[\"Polymer A\", \"Polymer B\", \"Polymer C\"],  # put labels in the index\n",
    ")\n",
    "\n",
    "param = CustomDiscreteParameter(\n",
    "    name=\"Polymer\",\n",
    "    data=descriptors,\n",
    "    active_values=(  # optional, enforces that only Polymer A or C is recommended\n",
    "        \"Polymer A\",\n",
    "        \"Polymer C\",\n",
    "    ),\n",
    "    decorrelate=True,  # optional, uses default correlation threshold\n",
    ")\n",
    "\n",
    "print(param)"
   ]
  },
  {
   "cell_type": "markdown",
   "metadata": {},
   "source": [
    "## 4. Running the campaign"
   ]
  },
  {
   "cell_type": "markdown",
   "metadata": {},
   "source": [
    "We can now run the campaign straightforwardly. We start by getting initial recommendations from the model."
   ]
  },
  {
   "cell_type": "code",
   "execution_count": null,
   "metadata": {},
   "outputs": [
    {
     "name": "stdout",
     "output_type": "stream",
     "text": [
      "\n",
      "\n",
      "Recommended experiments: \n",
      "         Solvent                Base                        Ligand  \\\n",
      "21   Butyl Ester      Cesium acetate  Di-tert-butylphenylphosphine   \n",
      "40   Butyl Ester     Cesium pivalate                     BrettPhos   \n",
      "348     p-Xylene   Potassium acetate                 (t-Bu)PhCPhos   \n",
      "374     p-Xylene  Potassium pivalate                 (t-Bu)PhCPhos   \n",
      "\n",
      "     Temperature  Concentration  Catalyst Loading  \n",
      "21         105.0          0.057          2.534433  \n",
      "40         105.0          0.100          3.326323  \n",
      "348        120.0          0.057          2.829736  \n",
      "374        105.0          0.153          4.314675  \n",
      "     Base_MORDRED_ABC  Base_MORDRED_ATS0Z  Base_MORDRED_ATSC1Z  \\\n",
      "21           2.449490              3228.0           187.625000   \n",
      "40           4.876566              3342.0            22.615917   \n",
      "348          2.449490               564.0             3.125000   \n",
      "374          4.876566               678.0           -26.837370   \n",
      "\n",
      "     Base_MORDRED_ATSC4Z  Base_MORDRED_GATS3v  Concentration  \\\n",
      "21              0.000000             0.013440          0.057   \n",
      "40            657.435974             0.063136          0.100   \n",
      "348             0.000000             0.056611          0.057   \n",
      "374            83.429070             0.248030          0.153   \n",
      "\n",
      "     Ligand_MORDRED_ABC  Ligand_MORDRED_nAromAtom  Ligand_MORDRED_AATS5s  \\\n",
      "21            11.396454                       6.0               2.149721   \n",
      "40            29.162436                      12.0               1.970416   \n",
      "348           22.449495                      18.0               2.307336   \n",
      "374           22.449495                      18.0               2.307336   \n",
      "\n",
      "     Solvent_MORDRED_ABC  Solvent_MORDRED_SpMAD_A  Solvent_MORDRED_nO  \\\n",
      "21              5.168527                 1.095322                 2.0   \n",
      "40              5.168527                 1.095322                 2.0   \n",
      "348             5.875634                 1.240597                 0.0   \n",
      "374             5.875634                 1.240597                 0.0   \n",
      "\n",
      "     Solvent_MORDRED_AATS4dv  Solvent_MORDRED_AATS3Z  \\\n",
      "21                  0.933333                9.157895   \n",
      "40                  0.933333                9.157895   \n",
      "348                 0.222222               12.060606   \n",
      "374                 0.222222               12.060606   \n",
      "\n",
      "     Solvent_MORDRED_AATS3are  Solvent_MORDRED_AATSC3i  Temperature  \n",
      "21                   5.950263                 0.104325        105.0  \n",
      "40                   5.950263                 0.104325        105.0  \n",
      "348                  5.619091                -0.558349        120.0  \n",
      "374                  5.619091                -0.558349        105.0  \n"
     ]
    },
    {
     "name": "stderr",
     "output_type": "stream",
     "text": [
      "c:\\Users\\external\\miniconda3\\envs\\bayesian\\lib\\site-packages\\baybe\\searchspace\\discrete.py:604: DeprecationWarning: For backward compatibility, the new `allow_extra` flag is set to `True` when left unspecified. However, this behavior will be changed in a future version. If you want to invoke the old behavior, please explicitly set `allow_extra=True`.\n",
      "  warnings.warn(\n"
     ]
    }
   ],
   "source": [
    "recommendation = campaign.recommend(batch_size=4)\n",
    "print(\"\\n\\nRecommended experiments: \")\n",
    "print(recommendation)\n"
   ]
  },
  {
   "cell_type": "markdown",
   "metadata": {},
   "source": [
    "Since we are not going to run the experiments in reality, we are going to feed \"fake\" measurements back to the model. We use a custom/artificial optimal reference of input parameters. This will serve for the fake measurements to converge slowly to the optimal input parameters with the best yield.\n",
    "\n",
    "IMPORTANT NOTE: In real life cases, the optimal input parameters and yield will not be known before optimization."
   ]
  },
  {
   "cell_type": "code",
   "execution_count": 18,
   "metadata": {},
   "outputs": [
    {
     "name": "stdout",
     "output_type": "stream",
     "text": [
      "\n",
      "\n",
      "Recommended experiments with fake measured values: \n",
      "           Solvent                Base                        Ligand  \\\n",
      "173  Butyornitrile  Potassium pivalate                     BrettPhos   \n",
      "286           DMAc  Potassium pivalate  Di-tert-butylphenylphosphine   \n",
      "228           DMAc     Cesium pivalate  Di-tert-butylphenylphosphine   \n",
      "61     Butyl Ester   Potassium acetate                 (t-Bu)PhCPhos   \n",
      "\n",
      "     Temperature  Concentration  Catalyst Loading      yield  \n",
      "173        105.0          0.153          2.353082  61.940584  \n",
      "286        120.0          0.100          1.515281  72.002963  \n",
      "228        105.0          0.057          2.798937  74.837996  \n",
      "61         120.0          0.100          2.649521  66.182575  \n",
      "\n",
      "\n",
      "Current maximum yield:\n",
      "74.838\n"
     ]
    }
   ],
   "source": [
    "# Potential reference values as optimum (used for campaign generation --> usually UNKOWN)\n",
    "optimal_reference = {\n",
    "    \"Solvent\":           [\"DMAc\"],\n",
    "    \"Base\":              [\"Cesium pivalate\"],\n",
    "    \"Ligand\":            [\"BrettPhos\"],\n",
    "    \"Temperature\":       [120, 90],\n",
    "    \"Concentration\":     [0.10],\n",
    "    \"Catalyst Loading\":  [1.0]\n",
    "    }\n",
    "\n",
    "\n",
    "# Add some fake measurements to drive optimization algorithm\n",
    "add_fake_measurements_arti(recommendation, searchspace, campaign.targets, good_reference_values=optimal_reference,\n",
    "                      good_intervals={\"yield\":(85, 95)}, bad_intervals={\"yield\":(50, 65)})\n",
    "\n",
    "# Print results\n",
    "print(\"\\n\\nRecommended experiments with fake measured values: \")\n",
    "print(recommendation)\n",
    "\n",
    "# Acquire current max yield as measure to drive algorithm (for adding fake measurements)\n",
    "current_max = np.max(recommendation['yield'])\n",
    "\n",
    "# Print current maximum\n",
    "print(\"\\n\\nCurrent maximum yield:\")\n",
    "print(f\"{current_max:.3f}\")\n",
    "\n",
    "# Add created recommendations to current campaign\n",
    "campaign.add_measurements(recommendation)"
   ]
  },
  {
   "cell_type": "code",
   "execution_count": 19,
   "metadata": {},
   "outputs": [
    {
     "name": "stdout",
     "output_type": "stream",
     "text": [
      "round 1...\n",
      "\n",
      "Recommended experiments with fake measured values:\n",
      "      Solvent             Base                        Ligand  Temperature  \\\n",
      "index                                                                       \n",
      "231      DMAc  Cesium pivalate  Di-tert-butylphenylphosphine        120.0   \n",
      "225      DMAc  Cesium pivalate  Di-tert-butylphenylphosphine         90.0   \n",
      "\n",
      "       Concentration  Catalyst Loading      yield  \n",
      "index                                              \n",
      "231            0.057          2.783044  71.094130  \n",
      "225            0.057          1.679987  76.997633  \n",
      "\n",
      "Current maximum yield so far: 76.998\n",
      "\n",
      "round 2...\n",
      "\n",
      "Recommended experiments with fake measured values:\n",
      "      Solvent                Base                        Ligand  Temperature  \\\n",
      "index                                                                          \n",
      "226      DMAc     Cesium pivalate  Di-tert-butylphenylphosphine         90.0   \n",
      "287      DMAc  Potassium pivalate  Di-tert-butylphenylphosphine        120.0   \n",
      "\n",
      "       Concentration  Catalyst Loading      yield  \n",
      "index                                              \n",
      "226            0.100          1.955464  77.574847  \n",
      "287            0.153          5.000000  65.696300  \n",
      "\n",
      "Current maximum yield so far: 77.575\n",
      "\n",
      "round 3...\n",
      "\n",
      "Recommended experiments with fake measured values:\n",
      "      Solvent             Base                        Ligand  Temperature  \\\n",
      "index                                                                       \n",
      "227      DMAc  Cesium pivalate  Di-tert-butylphenylphosphine         90.0   \n",
      "227      DMAc  Cesium pivalate  Di-tert-butylphenylphosphine         90.0   \n",
      "\n",
      "       Concentration  Catalyst Loading      yield  \n",
      "index                                              \n",
      "227            0.153          4.274843  79.519691  \n",
      "227            0.153          0.500000  72.841658  \n",
      "\n",
      "Current maximum yield so far: 79.520\n",
      "\n",
      "round 4...\n",
      "\n",
      "Recommended experiments with fake measured values:\n",
      "      Solvent             Base                        Ligand  Temperature  \\\n",
      "index                                                                       \n",
      "227      DMAc  Cesium pivalate  Di-tert-butylphenylphosphine         90.0   \n",
      "218      DMAc  Cesium pivalate                     BrettPhos         90.0   \n",
      "\n",
      "       Concentration  Catalyst Loading      yield  \n",
      "index                                              \n",
      "227            0.153               5.0  70.150541  \n",
      "218            0.153               5.0  83.239725  \n",
      "\n",
      "Current maximum yield so far: 83.240\n",
      "\n",
      "round 5...\n",
      "\n",
      "Recommended experiments with fake measured values:\n",
      "      Solvent             Base     Ligand  Temperature  Concentration  \\\n",
      "index                                                                   \n",
      "219      DMAc  Cesium pivalate  BrettPhos        105.0          0.057   \n",
      "224      DMAc  Cesium pivalate  BrettPhos        120.0          0.153   \n",
      "\n",
      "       Catalyst Loading      yield  \n",
      "index                               \n",
      "219            4.956473  73.590781  \n",
      "224            4.945682  73.790884  \n",
      "\n",
      "Current maximum yield so far: 83.240\n",
      "\n",
      "round 6...\n",
      "\n",
      "Recommended experiments with fake measured values:\n",
      "      Solvent             Base                        Ligand  Temperature  \\\n",
      "index                                                                       \n",
      "227      DMAc  Cesium pivalate  Di-tert-butylphenylphosphine         90.0   \n",
      "217      DMAc  Cesium pivalate                     BrettPhos         90.0   \n",
      "\n",
      "       Concentration  Catalyst Loading      yield  \n",
      "index                                              \n",
      "227            0.153          3.440982  77.735749  \n",
      "217            0.100          3.948070  83.530018  \n",
      "\n",
      "Current maximum yield so far: 83.530\n",
      "\n",
      "round 7...\n",
      "\n",
      "Recommended experiments with fake measured values:\n",
      "      Solvent             Base         Ligand  Temperature  Concentration  \\\n",
      "index                                                                       \n",
      "219      DMAc  Cesium pivalate      BrettPhos        105.0          0.057   \n",
      "215      DMAc  Cesium pivalate  (t-Bu)PhCPhos        120.0          0.153   \n",
      "\n",
      "       Catalyst Loading      yield  \n",
      "index                               \n",
      "219            1.976871  77.335992  \n",
      "215            3.056051  78.839755  \n",
      "\n",
      "Current maximum yield so far: 83.530\n",
      "\n",
      "round 8...\n",
      "\n",
      "Recommended experiments with fake measured values:\n",
      "      Solvent             Base         Ligand  Temperature  Concentration  \\\n",
      "index                                                                       \n",
      "218      DMAc  Cesium pivalate      BrettPhos         90.0          0.153   \n",
      "207      DMAc  Cesium pivalate  (t-Bu)PhCPhos         90.0          0.057   \n",
      "\n",
      "       Catalyst Loading      yield  \n",
      "index                               \n",
      "218            3.280979  80.141797  \n",
      "207            2.995576  71.295398  \n",
      "\n",
      "Current maximum yield so far: 83.530\n",
      "\n",
      "round 9...\n",
      "\n",
      "Recommended experiments with fake measured values:\n",
      "           Solvent             Base                        Ligand  \\\n",
      "index                                                               \n",
      "226           DMAc  Cesium pivalate  Di-tert-butylphenylphosphine   \n",
      "38     Butyl Ester  Cesium pivalate                     BrettPhos   \n",
      "\n",
      "       Temperature  Concentration  Catalyst Loading      yield  \n",
      "index                                                           \n",
      "226           90.0          0.100          3.187649  80.517394  \n",
      "38            90.0          0.153          3.798977  70.741765  \n",
      "\n",
      "Current maximum yield so far: 83.530\n",
      "\n",
      "round 10...\n",
      "\n",
      "Recommended experiments with fake measured values:\n",
      "      Solvent             Base         Ligand  Temperature  Concentration  \\\n",
      "index                                                                       \n",
      "217      DMAc  Cesium pivalate      BrettPhos         90.0            0.1   \n",
      "214      DMAc  Cesium pivalate  (t-Bu)PhCPhos        120.0            0.1   \n",
      "\n",
      "       Catalyst Loading      yield  \n",
      "index                               \n",
      "217            4.442894  87.562104  \n",
      "214            0.500000  87.104952  \n",
      "\n",
      "Current maximum yield so far: 87.562\n",
      "\n",
      "round 11...\n",
      "\n",
      "Recommended experiments with fake measured values:\n",
      "      Solvent             Base         Ligand  Temperature  Concentration  \\\n",
      "index                                                                       \n",
      "216      DMAc  Cesium pivalate      BrettPhos         90.0          0.057   \n",
      "211      DMAc  Cesium pivalate  (t-Bu)PhCPhos        105.0          0.100   \n",
      "\n",
      "       Catalyst Loading      yield  \n",
      "index                               \n",
      "216                 5.0  75.537128  \n",
      "211                 0.5  76.817732  \n",
      "\n",
      "Current maximum yield so far: 87.562\n",
      "\n",
      "round 12...\n",
      "\n",
      "Recommended experiments with fake measured values:\n",
      "      Solvent             Base         Ligand  Temperature  Concentration  \\\n",
      "index                                                                       \n",
      "213      DMAc  Cesium pivalate  (t-Bu)PhCPhos        120.0          0.057   \n",
      "213      DMAc  Cesium pivalate  (t-Bu)PhCPhos        120.0          0.057   \n",
      "\n",
      "       Catalyst Loading      yield  \n",
      "index                               \n",
      "213            0.537489  82.300970  \n",
      "213            2.192541  72.509233  \n",
      "\n",
      "Current maximum yield so far: 87.562\n",
      "\n",
      "round 13...\n",
      "\n",
      "Recommended experiments with fake measured values:\n",
      "      Solvent             Base         Ligand  Temperature  Concentration  \\\n",
      "index                                                                       \n",
      "215      DMAc  Cesium pivalate  (t-Bu)PhCPhos        120.0          0.153   \n",
      "218      DMAc  Cesium pivalate      BrettPhos         90.0          0.153   \n",
      "\n",
      "       Catalyst Loading      yield  \n",
      "index                               \n",
      "215            0.500000  80.372982  \n",
      "218            4.371792  76.264297  \n",
      "\n",
      "Current maximum yield so far: 87.562\n",
      "\n",
      "round 14...\n",
      "\n",
      "Recommended experiments with fake measured values:\n",
      "      Solvent             Base         Ligand  Temperature  Concentration  \\\n",
      "index                                                                       \n",
      "214      DMAc  Cesium pivalate  (t-Bu)PhCPhos        120.0            0.1   \n",
      "220      DMAc  Cesium pivalate      BrettPhos        105.0            0.1   \n",
      "\n",
      "       Catalyst Loading      yield  \n",
      "index                               \n",
      "214                 0.5  78.330090  \n",
      "220                 0.5  79.168875  \n",
      "\n",
      "Current maximum yield so far: 87.562\n",
      "\n",
      "round 15...\n",
      "\n",
      "Recommended experiments with fake measured values:\n",
      "      Solvent             Base         Ligand  Temperature  Concentration  \\\n",
      "index                                                                       \n",
      "214      DMAc  Cesium pivalate  (t-Bu)PhCPhos        120.0          0.100   \n",
      "209      DMAc  Cesium pivalate  (t-Bu)PhCPhos         90.0          0.153   \n",
      "\n",
      "       Catalyst Loading      yield  \n",
      "index                               \n",
      "214                 0.5  87.945215  \n",
      "209                 5.0  74.548875  \n",
      "\n",
      "Current maximum yield so far: 87.945\n",
      "\n",
      "round 16...\n",
      "\n",
      "Recommended experiments with fake measured values:\n",
      "      Solvent             Base         Ligand  Temperature  Concentration  \\\n",
      "index                                                                       \n",
      "217      DMAc  Cesium pivalate      BrettPhos         90.0            0.1   \n",
      "214      DMAc  Cesium pivalate  (t-Bu)PhCPhos        120.0            0.1   \n",
      "\n",
      "       Catalyst Loading      yield  \n",
      "index                               \n",
      "217            3.281554  84.625257  \n",
      "214            0.500000  79.931146  \n",
      "\n",
      "Current maximum yield so far: 87.945\n",
      "\n",
      "round 17...\n",
      "\n",
      "Recommended experiments with fake measured values:\n",
      "      Solvent             Base     Ligand  Temperature  Concentration  \\\n",
      "index                                                                   \n",
      "217      DMAc  Cesium pivalate  BrettPhos         90.0            0.1   \n",
      "217      DMAc  Cesium pivalate  BrettPhos         90.0            0.1   \n",
      "\n",
      "       Catalyst Loading      yield  \n",
      "index                               \n",
      "217            3.093169  80.891072  \n",
      "217            1.101648  84.946225  \n",
      "\n",
      "Current maximum yield so far: 87.945\n",
      "\n",
      "round 18...\n",
      "\n",
      "Recommended experiments with fake measured values:\n",
      "      Solvent             Base         Ligand  Temperature  Concentration  \\\n",
      "index                                                                       \n",
      "218      DMAc  Cesium pivalate      BrettPhos         90.0          0.153   \n",
      "212      DMAc  Cesium pivalate  (t-Bu)PhCPhos        105.0          0.153   \n",
      "\n",
      "       Catalyst Loading      yield  \n",
      "index                               \n",
      "218            0.556689  84.365620  \n",
      "212            0.500000  67.127315  \n",
      "\n",
      "Current maximum yield so far: 87.945\n",
      "\n",
      "round 19...\n",
      "\n",
      "Recommended experiments with fake measured values:\n",
      "      Solvent             Base     Ligand  Temperature  Concentration  \\\n",
      "index                                                                   \n",
      "221      DMAc  Cesium pivalate  BrettPhos        105.0          0.153   \n",
      "221      DMAc  Cesium pivalate  BrettPhos        105.0          0.153   \n",
      "\n",
      "       Catalyst Loading      yield  \n",
      "index                               \n",
      "221            0.500000  74.898453  \n",
      "221            4.104477  76.579042  \n",
      "\n",
      "Current maximum yield so far: 87.945\n",
      "\n",
      "round 20...\n",
      "\n",
      "Recommended experiments with fake measured values:\n",
      "        Solvent             Base     Ligand  Temperature  Concentration  \\\n",
      "index                                                                     \n",
      "220        DMAc  Cesium pivalate  BrettPhos        105.0            0.1   \n",
      "325    p-Xylene  Cesium pivalate  BrettPhos         90.0            0.1   \n",
      "\n",
      "       Catalyst Loading      yield  \n",
      "index                               \n",
      "220             0.50000  81.036761  \n",
      "325             1.08933  81.150137  \n",
      "\n",
      "Current maximum yield so far: 87.945\n",
      "\n"
     ]
    }
   ],
   "source": [
    "# Current maximum\n",
    "global_max = current_max\n",
    "\n",
    "# TODO: Continue the campaign by adding some additional experiments.\n",
    "for i in range(1, 21):\n",
    "    print(f'round {i}...')\n",
    "    recommendation = campaign.recommend(batch_size=2)\n",
    "\n",
    "    # Add new measurements with respect to maximum already found and reference optimal\n",
    "    maximum_bounds = {\"yield\":(85, 95)}\n",
    "    bad_yields = {\"yield\":(50, 65)}\n",
    "    add_fake_measurements_arti(recommendation, searchspace, campaign.targets, good_reference_values=optimal_reference,\n",
    "                          good_intervals=maximum_bounds, bad_intervals=bad_yields)\n",
    "\n",
    "    # Feed them back into the campaign so the surrogate updates\n",
    "    campaign.add_measurements(recommendation)\n",
    "\n",
    "    # print and update your global best yield\n",
    "    print(\"\\nRecommended experiments with fake measured values:\")\n",
    "    print(recommendation)\n",
    "    \n",
    "    # Acquire current max yield as measure to drive algorithm\n",
    "    current_max = np.max(recommendation['yield'])\n",
    "\n",
    "    # Update global maximum if new experiments yield better results\n",
    "    if current_max > global_max:\n",
    "        global_max = current_max\n",
    "\n",
    "    print(f\"\\nCurrent maximum yield so far: {global_max:.3f}\")\n",
    "    print()"
   ]
  },
  {
   "cell_type": "code",
   "execution_count": 40,
   "metadata": {},
   "outputs": [
    {
     "name": "stdout",
     "output_type": "stream",
     "text": [
      "dict_items([('Solvent', ['DMAc']), ('Base', ['Cesium pivalate']), ('Ligand', ['BrettPhos']), ('Temperature', [120, 90]), ('Concentration', [0.1]), ('Catalyst Loading', [1.0])])\n",
      "Best observed parameters: {'Solvent': 'DMAc', 'Base': 'Cesium pivalate', 'Ligand': 'BrettPhos', 'Temperature': 90.0, 'Concentration': 0.1, 'Catalyst Loading': 0.5, 'BatchNr': 6, 'FitNr': 6.0}\n",
      "Corresponding objective: 87.05372423655682\n"
     ]
    }
   ],
   "source": [
    "print(optimal_reference.items())\n",
    "\n",
    "# Retrieve the DataFrame of all measurements\n",
    "results_df = campaign.measurements # or campaign.data\n",
    "\n",
    "# Suppose your target column is named \"objective_value\":\n",
    "best_idx = results_df[\"yield\"].idxmax()\n",
    "best_row = results_df.loc[best_idx]\n",
    "\n",
    "# If you just want the parameter values as a dictionary:\n",
    "best_params = best_row.drop(\"yield\").to_dict()\n",
    "print(\"Best observed parameters:\", best_params)\n",
    "print(\"Corresponding objective:\", best_row[\"yield\"])"
   ]
  },
  {
   "cell_type": "markdown",
   "metadata": {},
   "source": [
    "This figure shows the Gaussian Process posterior over our reaction yield as a function of the experiment index. The solid line traces the model’s predicted mean yield for each candidate point, while the shaded band represents ±1 standard deviation of uncertainty around that mean. Early on, the model is more uncertain (wider bands), reflecting sparse data; as more measurements are added, uncertainty shrinks and the mean prediction converges toward the true optimum. This visualization helps illustrate how the GP balances exploration (high uncertainty) and exploitation (high predicted mean) during optimization.  \n"
   ]
  },
  {
   "cell_type": "code",
   "execution_count": 39,
   "metadata": {},
   "outputs": [
    {
     "data": {
      "image/png": "[encoded data removed]",
      "text/plain": [
       "<Figure size 1000x700 with 1 Axes>"
      ]
     },
     "metadata": {},
     "output_type": "display_data"
    }
   ],
   "source": [
    "# Retreive posterior statistics results\n",
    "results = campaign.posterior_stats()\n",
    "\n",
    "# Extract x-axis (experiment index) and the GP posterior statistics\n",
    "x = results.index\n",
    "y = results['yield_mean']\n",
    "yerr = results['yield_std']\n",
    "\n",
    "# Plot the GP posterior mean with ±1 standard deviation bounds\n",
    "plt.figure(figsize=(10,7))\n",
    "plt.plot(x, y, label='Predicted Mean')\n",
    "plt.fill_between(x, y - yerr, y + yerr, alpha=0.3, label='±1 Std. Dev')\n",
    "plt.xlabel('Experiment Index')\n",
    "plt.ylabel('Yield')\n",
    "plt.title('Gaussian Process Posterior: Mean and Uncertainty')\n",
    "plt.legend()\n",
    "plt.show()"
   ]
  }
 ],
 "metadata": {
  "anaconda-cloud": {},
  "kernelspec": {
   "display_name": "bayesian",
   "language": "python",
   "name": "python3"
  },
  "language_info": {
   "codemirror_mode": {
    "name": "ipython",
    "version": 3
   },
   "file_extension": ".py",
   "mimetype": "text/x-python",
   "name": "python",
   "nbconvert_exporter": "python",
   "pygments_lexer": "ipython3",
   "version": "3.10.18"
  }
 },
 "nbformat": 4,
 "nbformat_minor": 1
}
