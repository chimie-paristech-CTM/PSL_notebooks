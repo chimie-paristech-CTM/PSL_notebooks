{
 "cells": [
  {
   "cell_type": "markdown",
   "metadata": {},
   "source": [
    "# Bayesian optimization for chemical reactions with BayBE"
   ]
  },
  {
   "cell_type": "markdown",
   "metadata": {},
   "source": [
    "BayBE is s a general-purpose toolbox for Bayesian Design of (chemical) experiments, developed by the pharmaceutical company Merck: https://emdgroup.github.io/baybe/stable/. Here, we will first introduce the basic functionality of this software package by focusing on a \"dummy\" experiment, after which you will be able to experiment on a real-world high-throughput experimentation dataset of Suzuki cross-coupling reactions.\n",
    "\n"
   ]
  },
  {
   "cell_type": "code",
   "execution_count": 1,
   "metadata": {},
   "outputs": [],
   "source": [
    "%load_ext autoreload\n",
    "%autoreload 0"
   ]
  },
  {
   "cell_type": "code",
   "execution_count": null,
   "metadata": {},
   "outputs": [],
   "source": [
    "!curl -O https://raw.githubusercontent.com/chimie-paristech-CTM/PSL_notebooks/main/bayesian_optimization/shields_dataset.xlsx"
   ]
  },
  {
   "cell_type": "code",
   "execution_count": null,
   "metadata": {},
   "outputs": [
    {
     "name": "stdout",
     "output_type": "stream",
     "text": [
      "Requirement already satisfied: scikit-learn in /opt/anaconda3/envs/bayesian/lib/python3.10/site-packages (1.6.1)\n",
      "Collecting numpy==1.26\n",
      "  Using cached numpy-1.26.0-cp310-cp310-macosx_11_0_arm64.whl.metadata (53 kB)\n",
      "Requirement already satisfied: matplotlib in /opt/anaconda3/envs/bayesian/lib/python3.10/site-packages (3.3.4)\n",
      "Requirement already satisfied: scipy in /opt/anaconda3/envs/bayesian/lib/python3.10/site-packages (1.11.4)\n",
      "Requirement already satisfied: joblib>=1.2.0 in /opt/anaconda3/envs/bayesian/lib/python3.10/site-packages (from scikit-learn) (1.4.2)\n",
      "Requirement already satisfied: threadpoolctl>=3.1.0 in /opt/anaconda3/envs/bayesian/lib/python3.10/site-packages (from scikit-learn) (3.5.0)\n",
      "Requirement already satisfied: cycler>=0.10 in /opt/anaconda3/envs/bayesian/lib/python3.10/site-packages (from matplotlib) (0.11.0)\n",
      "Requirement already satisfied: kiwisolver>=1.0.1 in /opt/anaconda3/envs/bayesian/lib/python3.10/site-packages (from matplotlib) (1.4.8)\n",
      "Requirement already satisfied: pillow>=6.2.0 in /opt/anaconda3/envs/bayesian/lib/python3.10/site-packages (from matplotlib) (11.1.0)\n",
      "Requirement already satisfied: pyparsing!=2.0.4,!=2.1.2,!=2.1.6,>=2.0.3 in /opt/anaconda3/envs/bayesian/lib/python3.10/site-packages (from matplotlib) (3.2.0)\n",
      "Requirement already satisfied: python-dateutil>=2.1 in /opt/anaconda3/envs/bayesian/lib/python3.10/site-packages (from matplotlib) (2.9.0.post0)\n",
      "Requirement already satisfied: six>=1.5 in /opt/anaconda3/envs/bayesian/lib/python3.10/site-packages (from python-dateutil>=2.1->matplotlib) (1.16.0)\n",
      "Using cached numpy-1.26.0-cp310-cp310-macosx_11_0_arm64.whl (14.0 MB)\n",
      "Installing collected packages: numpy\n",
      "  Attempting uninstall: numpy\n",
      "    Found existing installation: numpy 1.26.4\n",
      "    Uninstalling numpy-1.26.4:\n",
      "      Successfully uninstalled numpy-1.26.4\n",
      "\u001b[31mERROR: pip's dependency resolver does not currently take into account all the packages that are installed. This behaviour is the source of the following dependency conflicts.\n",
      "tensorflow 2.12.0 requires jax>=0.3.15, which is not installed.\n",
      "tensorflow 2.12.0 requires libclang>=13.0.0, which is not installed.\n",
      "tensorflow 2.12.0 requires numpy<1.24,>=1.22, but you have numpy 1.26.0 which is incompatible.\n",
      "tensorflow 2.12.0 requires protobuf!=4.21.0,!=4.21.1,!=4.21.2,!=4.21.3,!=4.21.4,!=4.21.5,<5.0.0dev,>=3.20.3, but you have protobuf 5.29.3 which is incompatible.\n",
      "tensorflow 2.12.0 requires wrapt<1.15,>=1.11.0, but you have wrapt 1.17.0 which is incompatible.\u001b[0m\u001b[31m\n",
      "\u001b[0mSuccessfully installed numpy-1.26.0\n",
      "Requirement already satisfied: baybe==0.12.2 in /opt/anaconda3/envs/bayesian/lib/python3.10/site-packages (from baybe[chem,simulation]==0.12.2) (0.12.2)\n",
      "Requirement already satisfied: attrs>=24.1.0 in /opt/anaconda3/envs/bayesian/lib/python3.10/site-packages (from baybe==0.12.2->baybe[chem,simulation]==0.12.2) (24.3.0)\n",
      "Requirement already satisfied: botorch<1,>=0.9.3 in /opt/anaconda3/envs/bayesian/lib/python3.10/site-packages (from baybe==0.12.2->baybe[chem,simulation]==0.12.2) (0.13.0)\n",
      "Requirement already satisfied: cattrs>=23.2.0 in /opt/anaconda3/envs/bayesian/lib/python3.10/site-packages (from baybe==0.12.2->baybe[chem,simulation]==0.12.2) (24.1.2)\n",
      "Requirement already satisfied: exceptiongroup in /opt/anaconda3/envs/bayesian/lib/python3.10/site-packages (from baybe==0.12.2->baybe[chem,simulation]==0.12.2) (1.2.0)\n",
      "Requirement already satisfied: funcy<2,>=1.17 in /opt/anaconda3/envs/bayesian/lib/python3.10/site-packages (from baybe==0.12.2->baybe[chem,simulation]==0.12.2) (1.18)\n",
      "Requirement already satisfied: gpytorch<2,>=1.9.1 in /opt/anaconda3/envs/bayesian/lib/python3.10/site-packages (from baybe==0.12.2->baybe[chem,simulation]==0.12.2) (1.14)\n",
      "Requirement already satisfied: joblib<2,>1.4.0 in /opt/anaconda3/envs/bayesian/lib/python3.10/site-packages (from baybe==0.12.2->baybe[chem,simulation]==0.12.2) (1.4.2)\n",
      "Requirement already satisfied: ngboost<1,>=0.3.12 in /opt/anaconda3/envs/bayesian/lib/python3.10/site-packages (from baybe==0.12.2->baybe[chem,simulation]==0.12.2) (0.5.5)\n",
      "Requirement already satisfied: numpy<2,>=1.24.1 in /opt/anaconda3/envs/bayesian/lib/python3.10/site-packages (from baybe==0.12.2->baybe[chem,simulation]==0.12.2) (1.26.0)\n",
      "Requirement already satisfied: pandas<3,>=1.4.2 in /opt/anaconda3/envs/bayesian/lib/python3.10/site-packages (from baybe==0.12.2->baybe[chem,simulation]==0.12.2) (2.2.3)\n",
      "Requirement already satisfied: scikit-learn<2,>=1.1.1 in /opt/anaconda3/envs/bayesian/lib/python3.10/site-packages (from baybe==0.12.2->baybe[chem,simulation]==0.12.2) (1.6.1)\n",
      "Requirement already satisfied: scikit-learn-extra<1,>=0.3.0 in /opt/anaconda3/envs/bayesian/lib/python3.10/site-packages (from baybe==0.12.2->baybe[chem,simulation]==0.12.2) (0.3.0)\n",
      "Requirement already satisfied: scipy<1.15,>=1.10.1 in /opt/anaconda3/envs/bayesian/lib/python3.10/site-packages (from baybe==0.12.2->baybe[chem,simulation]==0.12.2) (1.11.4)\n",
      "Requirement already satisfied: setuptools-scm>=7.1.0 in /opt/anaconda3/envs/bayesian/lib/python3.10/site-packages (from baybe==0.12.2->baybe[chem,simulation]==0.12.2) (8.2.0)\n",
      "Requirement already satisfied: torch<3,>=1.13.1 in /opt/anaconda3/envs/bayesian/lib/python3.10/site-packages (from baybe==0.12.2->baybe[chem,simulation]==0.12.2) (2.6.0)\n",
      "Requirement already satisfied: typing_extensions>=4.7.0 in /opt/anaconda3/envs/bayesian/lib/python3.10/site-packages (from baybe==0.12.2->baybe[chem,simulation]==0.12.2) (4.12.2)\n",
      "Requirement already satisfied: opentelemetry-sdk<2,>=1.16.0 in /opt/anaconda3/envs/bayesian/lib/python3.10/site-packages (from baybe==0.12.2->baybe[chem,simulation]==0.12.2) (1.30.0)\n",
      "Requirement already satisfied: opentelemetry-propagator-aws-xray<2,>=1.0.0 in /opt/anaconda3/envs/bayesian/lib/python3.10/site-packages (from baybe==0.12.2->baybe[chem,simulation]==0.12.2) (1.0.2)\n",
      "Requirement already satisfied: opentelemetry-exporter-otlp<2,>=1.16.0 in /opt/anaconda3/envs/bayesian/lib/python3.10/site-packages (from baybe==0.12.2->baybe[chem,simulation]==0.12.2) (1.30.0)\n",
      "Requirement already satisfied: opentelemetry-sdk-extension-aws<3,>=2.0.0 in /opt/anaconda3/envs/bayesian/lib/python3.10/site-packages (from baybe==0.12.2->baybe[chem,simulation]==0.12.2) (2.1.0)\n",
      "Requirement already satisfied: scikit-fingerprints>=1.7.0 in /opt/anaconda3/envs/bayesian/lib/python3.10/site-packages (from baybe[chem,simulation]==0.12.2) (1.13.1)\n",
      "Requirement already satisfied: xyzpy>=1.2.1 in /opt/anaconda3/envs/bayesian/lib/python3.10/site-packages (from baybe[chem,simulation]==0.12.2) (1.2.1)\n",
      "Requirement already satisfied: pyre_extensions in /opt/anaconda3/envs/bayesian/lib/python3.10/site-packages (from botorch<1,>=0.9.3->baybe==0.12.2->baybe[chem,simulation]==0.12.2) (0.0.32)\n",
      "Requirement already satisfied: linear_operator==0.6 in /opt/anaconda3/envs/bayesian/lib/python3.10/site-packages (from botorch<1,>=0.9.3->baybe==0.12.2->baybe[chem,simulation]==0.12.2) (0.6)\n",
      "Requirement already satisfied: pyro-ppl>=1.8.4 in /opt/anaconda3/envs/bayesian/lib/python3.10/site-packages (from botorch<1,>=0.9.3->baybe==0.12.2->baybe[chem,simulation]==0.12.2) (1.9.1)\n",
      "Requirement already satisfied: multipledispatch in /opt/anaconda3/envs/bayesian/lib/python3.10/site-packages (from botorch<1,>=0.9.3->baybe==0.12.2->baybe[chem,simulation]==0.12.2) (1.0.0)\n",
      "Requirement already satisfied: threadpoolctl in /opt/anaconda3/envs/bayesian/lib/python3.10/site-packages (from botorch<1,>=0.9.3->baybe==0.12.2->baybe[chem,simulation]==0.12.2) (3.5.0)\n",
      "Requirement already satisfied: jaxtyping in /opt/anaconda3/envs/bayesian/lib/python3.10/site-packages (from gpytorch<2,>=1.9.1->baybe==0.12.2->baybe[chem,simulation]==0.12.2) (0.2.38)\n",
      "Requirement already satisfied: mpmath<=1.3,>=0.19 in /opt/anaconda3/envs/bayesian/lib/python3.10/site-packages (from gpytorch<2,>=1.9.1->baybe==0.12.2->baybe[chem,simulation]==0.12.2) (1.3.0)\n",
      "Requirement already satisfied: lifelines>=0.25 in /opt/anaconda3/envs/bayesian/lib/python3.10/site-packages (from ngboost<1,>=0.3.12->baybe==0.12.2->baybe[chem,simulation]==0.12.2) (0.30.0)\n",
      "Requirement already satisfied: tqdm>=4.3 in /opt/anaconda3/envs/bayesian/lib/python3.10/site-packages (from ngboost<1,>=0.3.12->baybe==0.12.2->baybe[chem,simulation]==0.12.2) (4.67.1)\n",
      "Requirement already satisfied: opentelemetry-exporter-otlp-proto-grpc==1.30.0 in /opt/anaconda3/envs/bayesian/lib/python3.10/site-packages (from opentelemetry-exporter-otlp<2,>=1.16.0->baybe==0.12.2->baybe[chem,simulation]==0.12.2) (1.30.0)\n",
      "Requirement already satisfied: opentelemetry-exporter-otlp-proto-http==1.30.0 in /opt/anaconda3/envs/bayesian/lib/python3.10/site-packages (from opentelemetry-exporter-otlp<2,>=1.16.0->baybe==0.12.2->baybe[chem,simulation]==0.12.2) (1.30.0)\n",
      "Requirement already satisfied: deprecated>=1.2.6 in /opt/anaconda3/envs/bayesian/lib/python3.10/site-packages (from opentelemetry-exporter-otlp-proto-grpc==1.30.0->opentelemetry-exporter-otlp<2,>=1.16.0->baybe==0.12.2->baybe[chem,simulation]==0.12.2) (1.2.18)\n",
      "Requirement already satisfied: googleapis-common-protos~=1.52 in /opt/anaconda3/envs/bayesian/lib/python3.10/site-packages (from opentelemetry-exporter-otlp-proto-grpc==1.30.0->opentelemetry-exporter-otlp<2,>=1.16.0->baybe==0.12.2->baybe[chem,simulation]==0.12.2) (1.68.0)\n",
      "Requirement already satisfied: grpcio<2.0.0,>=1.63.2 in /opt/anaconda3/envs/bayesian/lib/python3.10/site-packages (from opentelemetry-exporter-otlp-proto-grpc==1.30.0->opentelemetry-exporter-otlp<2,>=1.16.0->baybe==0.12.2->baybe[chem,simulation]==0.12.2) (1.70.0)\n",
      "Requirement already satisfied: opentelemetry-api~=1.15 in /opt/anaconda3/envs/bayesian/lib/python3.10/site-packages (from opentelemetry-exporter-otlp-proto-grpc==1.30.0->opentelemetry-exporter-otlp<2,>=1.16.0->baybe==0.12.2->baybe[chem,simulation]==0.12.2) (1.30.0)\n",
      "Requirement already satisfied: opentelemetry-exporter-otlp-proto-common==1.30.0 in /opt/anaconda3/envs/bayesian/lib/python3.10/site-packages (from opentelemetry-exporter-otlp-proto-grpc==1.30.0->opentelemetry-exporter-otlp<2,>=1.16.0->baybe==0.12.2->baybe[chem,simulation]==0.12.2) (1.30.0)\n",
      "Requirement already satisfied: opentelemetry-proto==1.30.0 in /opt/anaconda3/envs/bayesian/lib/python3.10/site-packages (from opentelemetry-exporter-otlp-proto-grpc==1.30.0->opentelemetry-exporter-otlp<2,>=1.16.0->baybe==0.12.2->baybe[chem,simulation]==0.12.2) (1.30.0)\n",
      "Requirement already satisfied: requests~=2.7 in /opt/anaconda3/envs/bayesian/lib/python3.10/site-packages (from opentelemetry-exporter-otlp-proto-http==1.30.0->opentelemetry-exporter-otlp<2,>=1.16.0->baybe==0.12.2->baybe[chem,simulation]==0.12.2) (2.32.3)\n",
      "Requirement already satisfied: protobuf<6.0,>=5.0 in /opt/anaconda3/envs/bayesian/lib/python3.10/site-packages (from opentelemetry-proto==1.30.0->opentelemetry-exporter-otlp-proto-grpc==1.30.0->opentelemetry-exporter-otlp<2,>=1.16.0->baybe==0.12.2->baybe[chem,simulation]==0.12.2) (5.29.3)\n",
      "Requirement already satisfied: opentelemetry-semantic-conventions==0.51b0 in /opt/anaconda3/envs/bayesian/lib/python3.10/site-packages (from opentelemetry-sdk<2,>=1.16.0->baybe==0.12.2->baybe[chem,simulation]==0.12.2) (0.51b0)\n",
      "Requirement already satisfied: importlib-metadata<=8.5.0,>=6.0 in /opt/anaconda3/envs/bayesian/lib/python3.10/site-packages (from opentelemetry-api~=1.15->opentelemetry-exporter-otlp-proto-grpc==1.30.0->opentelemetry-exporter-otlp<2,>=1.16.0->baybe==0.12.2->baybe[chem,simulation]==0.12.2) (8.5.0)\n",
      "Requirement already satisfied: python-dateutil>=2.8.2 in /opt/anaconda3/envs/bayesian/lib/python3.10/site-packages (from pandas<3,>=1.4.2->baybe==0.12.2->baybe[chem,simulation]==0.12.2) (2.9.0.post0)\n",
      "Requirement already satisfied: pytz>=2020.1 in /opt/anaconda3/envs/bayesian/lib/python3.10/site-packages (from pandas<3,>=1.4.2->baybe==0.12.2->baybe[chem,simulation]==0.12.2) (2024.1)\n",
      "Requirement already satisfied: tzdata>=2022.7 in /opt/anaconda3/envs/bayesian/lib/python3.10/site-packages (from pandas<3,>=1.4.2->baybe==0.12.2->baybe[chem,simulation]==0.12.2) (2025.1)\n",
      "Requirement already satisfied: descriptastorus>=2.0.0 in /opt/anaconda3/envs/bayesian/lib/python3.10/site-packages (from scikit-fingerprints>=1.7.0->baybe[chem,simulation]==0.12.2) (2.8.0)\n",
      "Requirement already satisfied: e3fp>=1.0.0 in /opt/anaconda3/envs/bayesian/lib/python3.10/site-packages (from scikit-fingerprints>=1.7.0->baybe[chem,simulation]==0.12.2) (1.2.7)\n",
      "Requirement already satisfied: huggingface_hub>=0.0.0 in /opt/anaconda3/envs/bayesian/lib/python3.10/site-packages (from scikit-fingerprints>=1.7.0->baybe[chem,simulation]==0.12.2) (0.29.1)\n",
      "Requirement already satisfied: mordredcommunity>=2.0.0 in /opt/anaconda3/envs/bayesian/lib/python3.10/site-packages (from scikit-fingerprints>=1.7.0->baybe[chem,simulation]==0.12.2) (2.0.6)\n",
      "Requirement already satisfied: numba<1,>=0.48.0 in /opt/anaconda3/envs/bayesian/lib/python3.10/site-packages (from scikit-fingerprints>=1.7.0->baybe[chem,simulation]==0.12.2) (0.61.0)\n",
      "Requirement already satisfied: rdkit<=2024.3.3 in /opt/anaconda3/envs/bayesian/lib/python3.10/site-packages (from scikit-fingerprints>=1.7.0->baybe[chem,simulation]==0.12.2) (2024.3.3)\n",
      "Requirement already satisfied: packaging>=20 in /opt/anaconda3/envs/bayesian/lib/python3.10/site-packages (from setuptools-scm>=7.1.0->baybe==0.12.2->baybe[chem,simulation]==0.12.2) (24.2)\n",
      "Requirement already satisfied: setuptools>=61 in /opt/anaconda3/envs/bayesian/lib/python3.10/site-packages (from setuptools-scm>=7.1.0->baybe==0.12.2->baybe[chem,simulation]==0.12.2) (75.8.0)\n",
      "Requirement already satisfied: tomli>=1 in /opt/anaconda3/envs/bayesian/lib/python3.10/site-packages (from setuptools-scm>=7.1.0->baybe==0.12.2->baybe[chem,simulation]==0.12.2) (2.2.1)\n",
      "Requirement already satisfied: filelock in /opt/anaconda3/envs/bayesian/lib/python3.10/site-packages (from torch<3,>=1.13.1->baybe==0.12.2->baybe[chem,simulation]==0.12.2) (3.17.0)\n",
      "Requirement already satisfied: networkx in /opt/anaconda3/envs/bayesian/lib/python3.10/site-packages (from torch<3,>=1.13.1->baybe==0.12.2->baybe[chem,simulation]==0.12.2) (2.8.8)\n",
      "Requirement already satisfied: jinja2 in /opt/anaconda3/envs/bayesian/lib/python3.10/site-packages (from torch<3,>=1.13.1->baybe==0.12.2->baybe[chem,simulation]==0.12.2) (3.1.5)\n",
      "Requirement already satisfied: fsspec in /opt/anaconda3/envs/bayesian/lib/python3.10/site-packages (from torch<3,>=1.13.1->baybe==0.12.2->baybe[chem,simulation]==0.12.2) (2025.2.0)\n",
      "Requirement already satisfied: sympy==1.13.1 in /opt/anaconda3/envs/bayesian/lib/python3.10/site-packages (from torch<3,>=1.13.1->baybe==0.12.2->baybe[chem,simulation]==0.12.2) (1.13.1)\n",
      "Requirement already satisfied: dask>=0.11.1 in /opt/anaconda3/envs/bayesian/lib/python3.10/site-packages (from xyzpy>=1.2.1->baybe[chem,simulation]==0.12.2) (2025.2.0)\n",
      "Requirement already satisfied: xarray>=0.9.0 in /opt/anaconda3/envs/bayesian/lib/python3.10/site-packages (from xyzpy>=1.2.1->baybe[chem,simulation]==0.12.2) (2025.1.2)\n",
      "Requirement already satisfied: h5py>=2.6.0 in /opt/anaconda3/envs/bayesian/lib/python3.10/site-packages (from xyzpy>=1.2.1->baybe[chem,simulation]==0.12.2) (3.12.1)\n",
      "Requirement already satisfied: h5netcdf>=0.2.2 in /opt/anaconda3/envs/bayesian/lib/python3.10/site-packages (from xyzpy>=1.2.1->baybe[chem,simulation]==0.12.2) (1.5.0)\n",
      "Requirement already satisfied: click>=8.1 in /opt/anaconda3/envs/bayesian/lib/python3.10/site-packages (from dask>=0.11.1->xyzpy>=1.2.1->baybe[chem,simulation]==0.12.2) (8.1.7)\n",
      "Requirement already satisfied: cloudpickle>=3.0.0 in /opt/anaconda3/envs/bayesian/lib/python3.10/site-packages (from dask>=0.11.1->xyzpy>=1.2.1->baybe[chem,simulation]==0.12.2) (3.1.1)\n",
      "Requirement already satisfied: partd>=1.4.0 in /opt/anaconda3/envs/bayesian/lib/python3.10/site-packages (from dask>=0.11.1->xyzpy>=1.2.1->baybe[chem,simulation]==0.12.2) (1.4.2)\n",
      "Requirement already satisfied: pyyaml>=5.3.1 in /opt/anaconda3/envs/bayesian/lib/python3.10/site-packages (from dask>=0.11.1->xyzpy>=1.2.1->baybe[chem,simulation]==0.12.2) (6.0.2)\n",
      "Requirement already satisfied: toolz>=0.10.0 in /opt/anaconda3/envs/bayesian/lib/python3.10/site-packages (from dask>=0.11.1->xyzpy>=1.2.1->baybe[chem,simulation]==0.12.2) (1.0.0)\n",
      "Requirement already satisfied: pandas-flavor in /opt/anaconda3/envs/bayesian/lib/python3.10/site-packages (from descriptastorus>=2.0.0->scikit-fingerprints>=1.7.0->baybe[chem,simulation]==0.12.2) (0.6.0)\n",
      "Requirement already satisfied: mmh3>=2.3.1 in /opt/anaconda3/envs/bayesian/lib/python3.10/site-packages (from e3fp>=1.0.0->scikit-fingerprints>=1.7.0->baybe[chem,simulation]==0.12.2) (5.1.0)\n",
      "Requirement already satisfied: sdaxen_python_utilities>=0.1.5 in /opt/anaconda3/envs/bayesian/lib/python3.10/site-packages (from e3fp>=1.0.0->scikit-fingerprints>=1.7.0->baybe[chem,simulation]==0.12.2) (0.1.5)\n",
      "Requirement already satisfied: smart_open>=1.8.3 in /opt/anaconda3/envs/bayesian/lib/python3.10/site-packages (from e3fp>=1.0.0->scikit-fingerprints>=1.7.0->baybe[chem,simulation]==0.12.2) (7.1.0)\n",
      "Requirement already satisfied: matplotlib>=3.0 in /opt/anaconda3/envs/bayesian/lib/python3.10/site-packages (from lifelines>=0.25->ngboost<1,>=0.3.12->baybe==0.12.2->baybe[chem,simulation]==0.12.2) (3.3.4)\n",
      "Requirement already satisfied: autograd>=1.5 in /opt/anaconda3/envs/bayesian/lib/python3.10/site-packages (from lifelines>=0.25->ngboost<1,>=0.3.12->baybe==0.12.2->baybe[chem,simulation]==0.12.2) (1.7.0)\n",
      "Requirement already satisfied: autograd-gamma>=0.3 in /opt/anaconda3/envs/bayesian/lib/python3.10/site-packages (from lifelines>=0.25->ngboost<1,>=0.3.12->baybe==0.12.2->baybe[chem,simulation]==0.12.2) (0.5.0)\n",
      "Requirement already satisfied: formulaic>=0.2.2 in /opt/anaconda3/envs/bayesian/lib/python3.10/site-packages (from lifelines>=0.25->ngboost<1,>=0.3.12->baybe==0.12.2->baybe[chem,simulation]==0.12.2) (1.1.1)\n",
      "Requirement already satisfied: six in /opt/anaconda3/envs/bayesian/lib/python3.10/site-packages (from mordredcommunity>=2.0.0->scikit-fingerprints>=1.7.0->baybe[chem,simulation]==0.12.2) (1.16.0)\n",
      "Requirement already satisfied: llvmlite<0.45,>=0.44.0dev0 in /opt/anaconda3/envs/bayesian/lib/python3.10/site-packages (from numba<1,>=0.48.0->scikit-fingerprints>=1.7.0->baybe[chem,simulation]==0.12.2) (0.44.0)\n",
      "Requirement already satisfied: opt-einsum>=2.3.2 in /opt/anaconda3/envs/bayesian/lib/python3.10/site-packages (from pyro-ppl>=1.8.4->botorch<1,>=0.9.3->baybe==0.12.2->baybe[chem,simulation]==0.12.2) (3.3.0)\n",
      "Requirement already satisfied: pyro-api>=0.1.1 in /opt/anaconda3/envs/bayesian/lib/python3.10/site-packages (from pyro-ppl>=1.8.4->botorch<1,>=0.9.3->baybe==0.12.2->baybe[chem,simulation]==0.12.2) (0.1.2)\n",
      "Requirement already satisfied: Pillow in /opt/anaconda3/envs/bayesian/lib/python3.10/site-packages (from rdkit<=2024.3.3->scikit-fingerprints>=1.7.0->baybe[chem,simulation]==0.12.2) (11.1.0)\n",
      "Requirement already satisfied: wadler-lindig>=0.1.3 in /opt/anaconda3/envs/bayesian/lib/python3.10/site-packages (from jaxtyping->gpytorch<2,>=1.9.1->baybe==0.12.2->baybe[chem,simulation]==0.12.2) (0.1.3)\n",
      "Requirement already satisfied: MarkupSafe>=2.0 in /opt/anaconda3/envs/bayesian/lib/python3.10/site-packages (from jinja2->torch<3,>=1.13.1->baybe==0.12.2->baybe[chem,simulation]==0.12.2) (3.0.2)\n",
      "Requirement already satisfied: typing-inspect in /opt/anaconda3/envs/bayesian/lib/python3.10/site-packages (from pyre_extensions->botorch<1,>=0.9.3->baybe==0.12.2->baybe[chem,simulation]==0.12.2) (0.9.0)\n",
      "Requirement already satisfied: wrapt<2,>=1.10 in /opt/anaconda3/envs/bayesian/lib/python3.10/site-packages (from deprecated>=1.2.6->opentelemetry-exporter-otlp-proto-grpc==1.30.0->opentelemetry-exporter-otlp<2,>=1.16.0->baybe==0.12.2->baybe[chem,simulation]==0.12.2) (1.17.0)\n",
      "Requirement already satisfied: interface-meta>=1.2.0 in /opt/anaconda3/envs/bayesian/lib/python3.10/site-packages (from formulaic>=0.2.2->lifelines>=0.25->ngboost<1,>=0.3.12->baybe==0.12.2->baybe[chem,simulation]==0.12.2) (1.3.0)\n",
      "Requirement already satisfied: zipp>=3.20 in /opt/anaconda3/envs/bayesian/lib/python3.10/site-packages (from importlib-metadata<=8.5.0,>=6.0->opentelemetry-api~=1.15->opentelemetry-exporter-otlp-proto-grpc==1.30.0->opentelemetry-exporter-otlp<2,>=1.16.0->baybe==0.12.2->baybe[chem,simulation]==0.12.2) (3.21.0)\n",
      "Requirement already satisfied: cycler>=0.10 in /opt/anaconda3/envs/bayesian/lib/python3.10/site-packages (from matplotlib>=3.0->lifelines>=0.25->ngboost<1,>=0.3.12->baybe==0.12.2->baybe[chem,simulation]==0.12.2) (0.11.0)\n",
      "Requirement already satisfied: kiwisolver>=1.0.1 in /opt/anaconda3/envs/bayesian/lib/python3.10/site-packages (from matplotlib>=3.0->lifelines>=0.25->ngboost<1,>=0.3.12->baybe==0.12.2->baybe[chem,simulation]==0.12.2) (1.4.8)\n",
      "Requirement already satisfied: pyparsing!=2.0.4,!=2.1.2,!=2.1.6,>=2.0.3 in /opt/anaconda3/envs/bayesian/lib/python3.10/site-packages (from matplotlib>=3.0->lifelines>=0.25->ngboost<1,>=0.3.12->baybe==0.12.2->baybe[chem,simulation]==0.12.2) (3.2.0)\n",
      "Requirement already satisfied: locket in /opt/anaconda3/envs/bayesian/lib/python3.10/site-packages (from partd>=1.4.0->dask>=0.11.1->xyzpy>=1.2.1->baybe[chem,simulation]==0.12.2) (1.0.0)\n",
      "Requirement already satisfied: charset-normalizer<4,>=2 in /opt/anaconda3/envs/bayesian/lib/python3.10/site-packages (from requests~=2.7->opentelemetry-exporter-otlp-proto-http==1.30.0->opentelemetry-exporter-otlp<2,>=1.16.0->baybe==0.12.2->baybe[chem,simulation]==0.12.2) (3.3.2)\n",
      "Requirement already satisfied: idna<4,>=2.5 in /opt/anaconda3/envs/bayesian/lib/python3.10/site-packages (from requests~=2.7->opentelemetry-exporter-otlp-proto-http==1.30.0->opentelemetry-exporter-otlp<2,>=1.16.0->baybe==0.12.2->baybe[chem,simulation]==0.12.2) (3.7)\n",
      "Requirement already satisfied: urllib3<3,>=1.21.1 in /opt/anaconda3/envs/bayesian/lib/python3.10/site-packages (from requests~=2.7->opentelemetry-exporter-otlp-proto-http==1.30.0->opentelemetry-exporter-otlp<2,>=1.16.0->baybe==0.12.2->baybe[chem,simulation]==0.12.2) (2.3.0)\n",
      "Requirement already satisfied: certifi>=2017.4.17 in /opt/anaconda3/envs/bayesian/lib/python3.10/site-packages (from requests~=2.7->opentelemetry-exporter-otlp-proto-http==1.30.0->opentelemetry-exporter-otlp<2,>=1.16.0->baybe==0.12.2->baybe[chem,simulation]==0.12.2) (2025.1.31)\n",
      "Requirement already satisfied: mypy-extensions>=0.3.0 in /opt/anaconda3/envs/bayesian/lib/python3.10/site-packages (from typing-inspect->pyre_extensions->botorch<1,>=0.9.3->baybe==0.12.2->baybe[chem,simulation]==0.12.2) (1.0.0)\n"
     ]
    }
   ],
   "source": [
    "!pip install scikit-learn numpy==1.26 matplotlib scipy openpyxl=3.1.5\n",
    "!pip install baybe[chem,simulation]==0.12.2"
   ]
  },
  {
   "cell_type": "code",
   "execution_count": null,
   "metadata": {},
   "outputs": [],
   "source": [
    "from baybe import Campaign\n",
    "from baybe.objectives import SingleTargetObjective\n",
    "from baybe.parameters import NumericalDiscreteParameter, SubstanceParameter\n",
    "from baybe.recommenders import (\n",
    "    BotorchRecommender,\n",
    "    RandomRecommender,\n",
    "    TwoPhaseMetaRecommender,\n",
    ")\n",
    "\n",
    "import pandas as pd\n",
    "\n",
    "from baybe.acquisition import qUpperConfidenceBound\n",
    "\n",
    "from baybe.searchspace import SearchSpace\n",
    "from baybe.surrogates import GaussianProcessSurrogate\n",
    "from baybe.surrogates.base import Surrogate\n",
    "from baybe.targets import NumericalTarget\n",
    "from baybe.utils.basic import get_subclasses\n",
    "from baybe.utils.dataframe import add_fake_measurements\n",
    "from baybe.constraints import ContinuousLinearConstraint, DiscreteCustomConstraint"
   ]
  },
  {
   "cell_type": "markdown",
   "metadata": {},
   "source": [
    "## Setting up the search space"
   ]
  },
  {
   "cell_type": "markdown",
   "metadata": {},
   "source": [
    "We focus here on an imaginary direct arylation reaction, where we are able to fine tune solvent, ligand, base as well as concentration and temperature. The first three variables are categorical, so we need to enumerate all the options for each of these variables first and foremost."
   ]
  },
  {
   "cell_type": "code",
   "execution_count": 4,
   "metadata": {},
   "outputs": [],
   "source": [
    "dict_solvent = {\n",
    "    \"DMAc\": r\"CC(N(C)C)=O\",\n",
    "    \"Butyornitrile\": r\"CCCC#N\",\n",
    "    \"Butyl Ester\": r\"CCCCOC(C)=O\",\n",
    "    \"p-Xylene\": r\"CC1=CC=C(C)C=C1\",\n",
    "}\n",
    "\n",
    "dict_base = {\n",
    "    \"Potassium acetate\": r\"O=C([O-])C.[K+]\",\n",
    "    \"Potassium pivalate\": r\"O=C([O-])C(C)(C)C.[K+]\",\n",
    "    \"Cesium acetate\": r\"O=C([O-])C.[Cs+]\",\n",
    "    \"Cesium pivalate\": r\"O=C([O-])C(C)(C)C.[Cs+]\",\n",
    "}\n",
    "\n",
    "dict_ligand = {\n",
    "    \"BrettPhos\": r\"CC(C)C1=CC(C(C)C)=C(C(C(C)C)=C1)C2=C(P(C3CCCCC3)C4CCCCC4)C(OC)=\"\n",
    "    \"CC=C2OC\",\n",
    "    \"Di-tert-butylphenylphosphine\": r\"CC(C)(C)P(C1=CC=CC=C1)C(C)(C)C\",\n",
    "    \"(t-Bu)PhCPhos\": r\"CN(C)C1=CC=CC(N(C)C)=C1C2=CC=CC=C2P(C(C)(C)C)C3=CC=CC=C3\",\n",
    "}"
   ]
  },
  {
   "cell_type": "markdown",
   "metadata": {},
   "source": [
    "Next, we need to define a numerical representation for each of the substances, i.e., we need to assign a vector to each compound. This will enable us to define a \"distance\" between individual compounds, and thus quantify the covariance between pairs of compounds.\n",
    "\n",
    "Here, we will work with a MORDRED encoding (the default in BayBE). Mordred is a Python library used to compute molecular descriptors from chemical structures. A Mordred encoding of chemical compounds refers to the set of molecular descriptors generated using this library. These descriptors numerically represent various structural, topological, electronic, and physicochemical properties of a molecule, making them useful for machine learning, cheminformatics, and QSAR (Quantitative Structure-Activity Relationship) studies."
   ]
  },
  {
   "cell_type": "code",
   "execution_count": 5,
   "metadata": {},
   "outputs": [
    {
     "name": "stderr",
     "output_type": "stream",
     "text": [
      "/opt/anaconda3/envs/bayesian/lib/python3.10/site-packages/tqdm/auto.py:21: TqdmWarning: IProgress not found. Please update jupyter and ipywidgets. See https://ipywidgets.readthedocs.io/en/stable/user_install.html\n",
      "  from .autonotebook import tqdm as notebook_tqdm\n"
     ]
    }
   ],
   "source": [
    "solvent = SubstanceParameter(\"Solvent\", data=dict_solvent, encoding=\"MORDRED\")\n",
    "base = SubstanceParameter(\"Base\", data=dict_base, encoding=\"MORDRED\")\n",
    "ligand = SubstanceParameter(\"Ligand\", data=dict_ligand, encoding=\"MORDRED\")"
   ]
  },
  {
   "cell_type": "markdown",
   "metadata": {},
   "source": [
    "Next, we proceed by defining the numerical variables."
   ]
  },
  {
   "cell_type": "code",
   "execution_count": 6,
   "metadata": {},
   "outputs": [],
   "source": [
    "temperature = NumericalDiscreteParameter(\n",
    "    \"Temperature\", values=[90, 105, 120], tolerance=2\n",
    ")\n",
    "concentration = NumericalDiscreteParameter(\n",
    "    \"Concentration\", values=[0.057, 0.1, 0.153], tolerance=0.005\n",
    ")"
   ]
  },
  {
   "cell_type": "markdown",
   "metadata": {},
   "source": [
    "BayBE lets you mirror real-world experimental rules by **filtering** or **restricting** the space of possible experiments before optimization even begins. In practice, you define:\n",
    "\n",
    "\n",
    "Continuous constraints\n",
    "- Carve out valid regions of your numeric parameters.  \n",
    "- **Example:** Forcing mixture components to sum to 1.0, or limiting how many reagents can be “active” at once (e.g. at least one and at most two non-zero concentrations).  \n",
    "- Ensures the optimizer only proposes concentration or temperature combinations that actually make sense in the lab (e.g. no “negative” or impossible sums).\n",
    "\n",
    "Discrete constraints\n",
    "- Remove invalid categorical or grid-based combinations.  \n",
    "- **Examples:**  \n",
    "  - Ban known incompatibilities (e.g. a certain catalyst with high temperatures)  \n",
    "  - Gate parameters behind an “on/off” switch (extra knobs only appear when the switch is “on”)  \n",
    "  - Prevent duplicate selections across multiple reagent slots  \n",
    "- Under the hood, BayBE enumerates all candidate combinations and then **filters** them against these rules so your optimizer never even sees the disallowed entries.\n",
    "\n",
    "\n",
    "By layering these continuous and discrete filters—optionally tied to simple logical conditions —you precisely reflect your lab’s limitations (mixture fractions summing to unity, reagent–temperature incompatibilities, conditional parameters, etc.) while still letting the Bayesian engine focus on finding the best experiments.\n"
   ]
  },
  {
   "cell_type": "code",
   "execution_count": null,
   "metadata": {},
   "outputs": [],
   "source": [
    "# your solvent → boiling point map (°C)\n",
    "dict_boiling_points = {\n",
    "    \"DMAc\": 165.0,\n",
    "    \"Butyornitrile\": 117.6,\n",
    "    \"Butyl Ester\": 126.1,\n",
    "    \"p-Xylene\": 138.35 \n",
    "}\n",
    "\n",
    "T_margin = 5.0  # °C safety margin\n",
    "\n",
    "# Create a function which verifies if the expirement temperature meets the boiling point criteria\n",
    "def solvent_bp_ok(df: pd.DataFrame) -> pd.Series:\n",
    "    bp_series = df[\"Solvent\"].map(dict_boiling_points)\n",
    "    return df[\"Temperature\"] <= (bp_series - T_margin)\n",
    "\n",
    "# wrap it in a BayBE custom discrete‐space constraint\n",
    "constraint_bp = DiscreteCustomConstraint(\n",
    "    parameters=[\"Solvent\", \"Temperature\"],\n",
    "    validator=solvent_bp_ok\n",
    ")"
   ]
  },
  {
   "cell_type": "markdown",
   "metadata": {},
   "source": [
    "Finally, we can set up the search space."
   ]
  },
  {
   "cell_type": "code",
   "execution_count": 7,
   "metadata": {},
   "outputs": [],
   "source": [
    "parameters = [solvent, base, ligand, temperature, concentration]\n",
    "\n",
    "searchspace = SearchSpace.from_product(parameters=parameters)"
   ]
  },
  {
   "cell_type": "markdown",
   "metadata": {},
   "source": [
    "## Defining the objective"
   ]
  },
  {
   "cell_type": "markdown",
   "metadata": {},
   "source": [
    "In this example, we maximize the yield of a reaction and define a corresponding objective."
   ]
  },
  {
   "cell_type": "code",
   "execution_count": 8,
   "metadata": {},
   "outputs": [],
   "source": [
    "objective = SingleTargetObjective(target=NumericalTarget(name=\"yield\", mode=\"MAX\"))"
   ]
  },
  {
   "cell_type": "markdown",
   "metadata": {},
   "source": [
    "## Setting up the Bayesian Optimization campaign"
   ]
  },
  {
   "cell_type": "markdown",
   "metadata": {},
   "source": [
    "Now, we can set up our Bayesian Optimization campaign. Initially, we have no data about the reaction, so we cannot apply a surrogate model to generate a prior, which can inform us about which experiment to prioritize. \n",
    "\n",
    "As such, some initial measurements will need to be made. We will start by performing random experiments."
   ]
  },
  {
   "cell_type": "code",
   "execution_count": null,
   "metadata": {},
   "outputs": [],
   "source": [
    "INITIAL_RECOMMENDER = RandomRecommender()"
   ]
  },
  {
   "cell_type": "markdown",
   "metadata": {},
   "source": [
    "Once a couple of random experiments will have been performed, we will be able to set up the surrogate model and use an acquisition function to identify experiments to perform next. We will set this up below."
   ]
  },
  {
   "cell_type": "code",
   "execution_count": 10,
   "metadata": {},
   "outputs": [],
   "source": [
    "SURROGATE_MODEL = GaussianProcessSurrogate() # We will use Gaussian Processes as the surrogate to construct the prior\n",
    "\n",
    "ACQ_FUNCTION = \"qUCB\" # upper confidence bound with a default beta of 0.2 is selected here for simplicity"
   ]
  },
  {
   "cell_type": "markdown",
   "metadata": {},
   "source": [
    "Now that we have defined all the settings for the initial recommender as well as the \"advanced\" recommender, we can finalize the set-up of the campaign."
   ]
  },
  {
   "cell_type": "code",
   "execution_count": 11,
   "metadata": {},
   "outputs": [],
   "source": [
    "# TwoPhaseMetaRecommender, because we have two phases in the recommendations, \n",
    "# and the search space contains both discrete and continuous variables (i.e., it is a \"meta\" search space).\n",
    "\n",
    "recommender = TwoPhaseMetaRecommender(\n",
    "    initial_recommender=INITIAL_RECOMMENDER,\n",
    "    recommender=BotorchRecommender(\n",
    "        surrogate_model=SURROGATE_MODEL, acquisition_function=ACQ_FUNCTION\n",
    "    ), switch_after=4\n",
    ")"
   ]
  },
  {
   "cell_type": "markdown",
   "metadata": {},
   "source": [
    "We can now take a closer look at the Recommender object we have created."
   ]
  },
  {
   "cell_type": "code",
   "execution_count": 12,
   "metadata": {},
   "outputs": [
    {
     "name": "stdout",
     "output_type": "stream",
     "text": [
      "TwoPhaseMetaRecommender\n",
      "   Initial recommender\n",
      "      RandomRecommender\n",
      "         Compatibility: SearchSpaceType.HYBRID\n",
      "   Recommender\n",
      "      BotorchRecommender\n",
      "         Surrogate\n",
      "            GaussianProcessSurrogate\n",
      "               Supports Transfer Learning: True\n",
      "               Kernel factory: DefaultKernelFactory()\n",
      "         Acquisition function: qUpperConfidenceBound(beta=0.2)\n",
      "         Compatibility: SearchSpaceType.HYBRID\n",
      "         Sequential continuous: False\n",
      "         Hybrid sampler: None\n",
      "         Sampling percentage: 1.0\n",
      "   Switch after: 4\n",
      "   Remain switched: False\n",
      "   Has switched: False\n"
     ]
    }
   ],
   "source": [
    "print(recommender)"
   ]
  },
  {
   "cell_type": "markdown",
   "metadata": {},
   "source": [
    "Let's now change the beta for the UCB acquisition function."
   ]
  },
  {
   "cell_type": "code",
   "execution_count": 13,
   "metadata": {},
   "outputs": [],
   "source": [
    "ACQ_FUNCTON = qUpperConfidenceBound(beta=1.0)\n",
    "\n",
    "recommender = TwoPhaseMetaRecommender(\n",
    "    initial_recommender=INITIAL_RECOMMENDER,\n",
    "    recommender=BotorchRecommender(\n",
    "        surrogate_model=SURROGATE_MODEL, acquisition_function=ACQ_FUNCTON\n",
    "    ), switch_after=4\n",
    ")"
   ]
  },
  {
   "cell_type": "markdown",
   "metadata": {},
   "source": [
    "QUESTION: What is the role of the beta parameter in the UpperConfidenceBound acquisition function? What will happen if I reduce its value to 0.1?"
   ]
  },
  {
   "cell_type": "code",
   "execution_count": 14,
   "metadata": {},
   "outputs": [
    {
     "name": "stdout",
     "output_type": "stream",
     "text": [
      "TwoPhaseMetaRecommender\n",
      "   Initial recommender\n",
      "      RandomRecommender\n",
      "         Compatibility: SearchSpaceType.HYBRID\n",
      "   Recommender\n",
      "      BotorchRecommender\n",
      "         Surrogate\n",
      "            GaussianProcessSurrogate\n",
      "               Supports Transfer Learning: True\n",
      "               Kernel factory: DefaultKernelFactory()\n",
      "         Acquisition function: qUpperConfidenceBound(beta=1.0)\n",
      "         Compatibility: SearchSpaceType.HYBRID\n",
      "         Sequential continuous: False\n",
      "         Hybrid sampler: None\n",
      "         Sampling percentage: 1.0\n",
      "   Switch after: 4\n",
      "   Remain switched: False\n",
      "   Has switched: False\n"
     ]
    }
   ],
   "source": [
    "print(recommender)"
   ]
  },
  {
   "cell_type": "markdown",
   "metadata": {},
   "source": [
    "Finally, we can set up the BO campaign."
   ]
  },
  {
   "cell_type": "code",
   "execution_count": 15,
   "metadata": {},
   "outputs": [],
   "source": [
    "campaign = Campaign(\n",
    "    searchspace=searchspace,\n",
    "    recommender=recommender,\n",
    "    objective=objective,\n",
    ")"
   ]
  },
  {
   "cell_type": "markdown",
   "metadata": {},
   "source": [
    "## Running the campaign"
   ]
  },
  {
   "cell_type": "markdown",
   "metadata": {},
   "source": [
    "We can now run the campaign straightforwardly. We start by getting initial recommendations from the model."
   ]
  },
  {
   "cell_type": "code",
   "execution_count": 16,
   "metadata": {},
   "outputs": [
    {
     "name": "stdout",
     "output_type": "stream",
     "text": [
      "\n",
      "\n",
      "Recommended experiments: \n",
      "           Solvent                Base         Ligand  Temperature  \\\n",
      "281           DMAc   Potassium acetate      BrettPhos         90.0   \n",
      "44     Butyl Ester     Cesium pivalate      BrettPhos        120.0   \n",
      "197  Butyornitrile  Potassium pivalate  (t-Bu)PhCPhos        120.0   \n",
      "383       p-Xylene   Potassium acetate  (t-Bu)PhCPhos        105.0   \n",
      "\n",
      "     Concentration  \n",
      "281          0.153  \n",
      "44           0.153  \n",
      "197          0.153  \n",
      "383          0.153  \n"
     ]
    }
   ],
   "source": [
    "recommendation = campaign.recommend(batch_size=4)\n",
    "print(\"\\n\\nRecommended experiments: \")\n",
    "print(recommendation)"
   ]
  },
  {
   "cell_type": "markdown",
   "metadata": {},
   "source": [
    "Since we are not going to run the experiments in reality, we are going to feed \"fake\" measurements back to the model."
   ]
  },
  {
   "cell_type": "code",
   "execution_count": 17,
   "metadata": {},
   "outputs": [
    {
     "name": "stdout",
     "output_type": "stream",
     "text": [
      "\n",
      "\n",
      "Recommended experiments with fake measured values: \n",
      "           Solvent                Base         Ligand  Temperature  \\\n",
      "281           DMAc   Potassium acetate      BrettPhos         90.0   \n",
      "44     Butyl Ester     Cesium pivalate      BrettPhos        120.0   \n",
      "197  Butyornitrile  Potassium pivalate  (t-Bu)PhCPhos        120.0   \n",
      "383       p-Xylene   Potassium acetate  (t-Bu)PhCPhos        105.0   \n",
      "\n",
      "     Concentration      yield  \n",
      "281          0.153  30.013743  \n",
      "44           0.153  28.221615  \n",
      "197          0.153  17.531446  \n",
      "383          0.153  20.377225  \n"
     ]
    }
   ],
   "source": [
    "add_fake_measurements(recommendation, campaign.targets)\n",
    "print(\"\\n\\nRecommended experiments with fake measured values: \")\n",
    "print(recommendation)"
   ]
  },
  {
   "cell_type": "code",
   "execution_count": 18,
   "metadata": {},
   "outputs": [],
   "source": [
    "campaign.add_measurements(recommendation)"
   ]
  },
  {
   "cell_type": "code",
   "execution_count": 19,
   "metadata": {},
   "outputs": [
    {
     "name": "stdout",
     "output_type": "stream",
     "text": [
      "round 0...\n",
      "\n",
      "\n",
      "Recommended experiments: \n",
      "\n",
      "\n",
      "Recommended experiments with fake measured values: \n",
      "      Solvent               Base     Ligand  Temperature  Concentration  \\\n",
      "index                                                                     \n",
      "284      DMAc  Potassium acetate  BrettPhos        105.0          0.153   \n",
      "280      DMAc  Potassium acetate  BrettPhos         90.0          0.100   \n",
      "\n",
      "           yield  \n",
      "index             \n",
      "284    14.639189  \n",
      "280    18.194400  \n",
      "round 1...\n",
      "\n",
      "\n",
      "Recommended experiments: \n",
      "\n",
      "\n",
      "Recommended experiments with fake measured values: \n",
      "      Solvent               Base     Ligand  Temperature  Concentration  \\\n",
      "index                                                                     \n",
      "284      DMAc  Potassium acetate  BrettPhos        105.0          0.153   \n",
      "280      DMAc  Potassium acetate  BrettPhos         90.0          0.100   \n",
      "\n",
      "           yield  \n",
      "index             \n",
      "284    10.838409  \n",
      "280    13.284670  \n",
      "round 2...\n",
      "\n",
      "\n",
      "Recommended experiments: \n",
      "\n",
      "\n",
      "Recommended experiments with fake measured values: \n",
      "      Solvent               Base     Ligand  Temperature  Concentration  \\\n",
      "index                                                                     \n",
      "284      DMAc  Potassium acetate  BrettPhos        105.0          0.153   \n",
      "280      DMAc  Potassium acetate  BrettPhos         90.0          0.100   \n",
      "\n",
      "           yield  \n",
      "index             \n",
      "284     7.231595  \n",
      "280    30.224465  \n",
      "round 3...\n",
      "\n",
      "\n",
      "Recommended experiments: \n",
      "\n",
      "\n",
      "Recommended experiments with fake measured values: \n",
      "      Solvent               Base     Ligand  Temperature  Concentration  \\\n",
      "index                                                                     \n",
      "284      DMAc  Potassium acetate  BrettPhos        105.0          0.153   \n",
      "280      DMAc  Potassium acetate  BrettPhos         90.0          0.100   \n",
      "\n",
      "          yield  \n",
      "index            \n",
      "284    5.344463  \n",
      "280    7.778407  \n",
      "round 4...\n",
      "\n",
      "\n",
      "Recommended experiments: \n",
      "\n",
      "\n",
      "Recommended experiments with fake measured values: \n",
      "      Solvent               Base     Ligand  Temperature  Concentration  \\\n",
      "index                                                                     \n",
      "284      DMAc  Potassium acetate  BrettPhos        105.0          0.153   \n",
      "280      DMAc  Potassium acetate  BrettPhos         90.0          0.100   \n",
      "\n",
      "           yield  \n",
      "index             \n",
      "284     4.557225  \n",
      "280    26.242038  \n",
      "round 5...\n",
      "\n",
      "\n",
      "Recommended experiments: \n",
      "\n",
      "\n",
      "Recommended experiments with fake measured values: \n",
      "      Solvent               Base     Ligand  Temperature  Concentration  \\\n",
      "index                                                                     \n",
      "284      DMAc  Potassium acetate  BrettPhos        105.0          0.153   \n",
      "280      DMAc  Potassium acetate  BrettPhos         90.0          0.100   \n",
      "\n",
      "           yield  \n",
      "index             \n",
      "284    20.247623  \n",
      "280    20.557775  \n",
      "round 6...\n",
      "\n",
      "\n",
      "Recommended experiments: \n",
      "\n",
      "\n",
      "Recommended experiments with fake measured values: \n",
      "      Solvent               Base     Ligand  Temperature  Concentration  \\\n",
      "index                                                                     \n",
      "284      DMAc  Potassium acetate  BrettPhos        105.0          0.153   \n",
      "280      DMAc  Potassium acetate  BrettPhos         90.0          0.100   \n",
      "\n",
      "           yield  \n",
      "index             \n",
      "284    27.971200  \n",
      "280    15.392766  \n",
      "round 7...\n",
      "\n",
      "\n",
      "Recommended experiments: \n",
      "\n",
      "\n",
      "Recommended experiments with fake measured values: \n",
      "      Solvent               Base     Ligand  Temperature  Concentration  \\\n",
      "index                                                                     \n",
      "284      DMAc  Potassium acetate  BrettPhos        105.0          0.153   \n",
      "280      DMAc  Potassium acetate  BrettPhos         90.0          0.100   \n",
      "\n",
      "           yield  \n",
      "index             \n",
      "284    27.169526  \n",
      "280    28.311979  \n",
      "round 8...\n",
      "\n",
      "\n",
      "Recommended experiments: \n",
      "\n",
      "\n",
      "Recommended experiments with fake measured values: \n",
      "      Solvent               Base     Ligand  Temperature  Concentration  \\\n",
      "index                                                                     \n",
      "284      DMAc  Potassium acetate  BrettPhos        105.0          0.153   \n",
      "280      DMAc  Potassium acetate  BrettPhos         90.0          0.100   \n",
      "\n",
      "           yield  \n",
      "index             \n",
      "284    31.047096  \n",
      "280    31.915347  \n",
      "round 9...\n",
      "\n",
      "\n",
      "Recommended experiments: \n",
      "\n",
      "\n",
      "Recommended experiments with fake measured values: \n",
      "      Solvent               Base     Ligand  Temperature  Concentration  \\\n",
      "index                                                                     \n",
      "284      DMAc  Potassium acetate  BrettPhos        105.0          0.153   \n",
      "280      DMAc  Potassium acetate  BrettPhos         90.0          0.100   \n",
      "\n",
      "           yield  \n",
      "index             \n",
      "284    27.299744  \n",
      "280    31.859103  \n"
     ]
    }
   ],
   "source": [
    "# TODO: Continue the campagin by adding some additional experiments.\n",
    "for i in range(10):\n",
    "    print(f'round {i}...')\n",
    "    recommendation = campaign.recommend(batch_size=2)\n",
    "    print(\"\\n\\nRecommended experiments: \")\n",
    "    add_fake_measurements(recommendation, campaign.targets)\n",
    "    print(\"\\n\\nRecommended experiments with fake measured values: \")\n",
    "    print(recommendation)   \n"
   ]
  },
  {
   "cell_type": "markdown",
   "metadata": {},
   "source": [
    "# Bayesian optimization of the reaction yield for a real-world dataset"
   ]
  },
  {
   "cell_type": "code",
   "execution_count": null,
   "metadata": {},
   "outputs": [],
   "source": [
    "import baybe\n",
    "\n",
    "import os\n",
    "os.environ['BAYBE_CACHE_DIR']='' # turn descriptor caching off\n",
    "from baybe.utils.random import set_random_seed\n",
    "set_random_seed(1337)"
   ]
  },
  {
   "cell_type": "markdown",
   "metadata": {},
   "source": [
    "# Load in the dataset \n",
    "The problem we study here, corresponds to the chemical reaction yield optimization from [Shields, B.J., Stevens et al. Nature 590, 89–96 (2021)](https://doi.org/10.1038/s41586-021-03213-y).\n",
    "![reaction](https://raw.githubusercontent.com/emdgroup/baybe-ac24-workshop/main/files/reaction.png)\n",
    "\n",
    "The parameters screened are:\n",
    "- Solvent\n",
    "- Base\n",
    "- Ligand\n",
    "- Concentration (of the solvent)\n",
    "- Temperature\n",
    "\n",
    "There is one target that should be maximized:\n",
    "- yield\n",
    "\n",
    "We will load in the high-throughput dataset as a lookup table, so that we do not need to run the experiments ourselves. Instead, we can look up the experimental yield for any combination of reaction parameters."
   ]
  },
  {
   "cell_type": "code",
   "execution_count": null,
   "metadata": {},
   "outputs": [],
   "source": [
    "lookup = pd.read_excel('shields_dataset.xlsx', index_col=0)\n",
    "F_BEST = lookup['yield'].max()\n",
    "lookup.head()"
   ]
  },
  {
   "cell_type": "markdown",
   "metadata": {},
   "source": [
    "### SMILES\n",
    "Note that the structure of the molecules is represented by SMILES strings."
   ]
  },
  {
   "cell_type": "code",
   "execution_count": null,
   "metadata": {},
   "outputs": [],
   "source": [
    "from rdkit import Chem\n",
    "from rdkit.Chem import Draw\n",
    "\n",
    "ligand = Chem.MolFromSmiles('P(C1=CC=CC=C1)(C2=CC=CC=C2)C3=CC=CC=C3') #PPh3\n",
    "Draw.MolToImage(ligand)"
   ]
  },
  {
   "cell_type": "markdown",
   "metadata": {},
   "source": [
    "EXERCISE: Visualize also the first ligand and solvent SMILES encountered in the dataset"
   ]
  },
  {
   "cell_type": "markdown",
   "metadata": {},
   "source": [
    "### Data Exploration\n",
    "It is important to realize that optimizing the yield essentially corresponds to solving a needle-in-a-haystack problem: the data distribution is very much skewed towards low yields in the lookup dataset."
   ]
  },
  {
   "cell_type": "code",
   "execution_count": null,
   "metadata": {},
   "outputs": [],
   "source": [
    "import seaborn as sns \n",
    "import matplotlib as plt\n",
    "\n",
    "sns.histplot(data = lookup, x = 'yield', edgecolor = 'black');\n",
    "plt.title('Reaction Yield Histogram');"
   ]
  },
  {
   "cell_type": "markdown",
   "metadata": {},
   "source": [
    "### Setting up the search space\n",
    "\n",
    "Just as in the introductory example, we first need to setup the search space. Instead of manually defining this here, we will extract it from the lookup dataset."
   ]
  },
  {
   "cell_type": "code",
   "execution_count": null,
   "metadata": {},
   "outputs": [],
   "source": [
    "solvent_data = dict(sorted(set(zip(lookup.Solvent, lookup.Solvent_SMILES))))\n",
    "solvent_data"
   ]
  },
  {
   "cell_type": "code",
   "execution_count": null,
   "metadata": {},
   "outputs": [],
   "source": [
    "base_data = dict(sorted(set(zip(lookup.Base, lookup.Base_SMILES))))\n",
    "base_data"
   ]
  },
  {
   "cell_type": "code",
   "execution_count": null,
   "metadata": {},
   "outputs": [],
   "source": [
    "ligand_data = dict(sorted(set(zip( lookup.Ligand, lookup.Ligand_SMILES))))\n",
    "ligand_data"
   ]
  },
  {
   "cell_type": "code",
   "execution_count": null,
   "metadata": {},
   "outputs": [],
   "source": [
    "temperature_values = set(lookup.Temp_C)\n",
    "temperature_values"
   ]
  },
  {
   "cell_type": "code",
   "execution_count": null,
   "metadata": {},
   "outputs": [],
   "source": [
    "concentration_values = set(lookup.Concentration)\n",
    "concentration_values"
   ]
  },
  {
   "cell_type": "markdown",
   "metadata": {},
   "source": [
    "## Substance featurizations: One hot encoding"
   ]
  },
  {
   "cell_type": "markdown",
   "metadata": {},
   "source": [
    "To demonstrate how featurization of substances impact the speed at which the model is able to locate good reaction conditions to maximize the yield, we will start by considering a One Hot Encoding (OHE) featurization, i.e., every individual solvent, base and ligand is assigned a separate dimension in the search space (with only two possible values: 0 if the substance is not used in this experiment, and 1 if it is). Temperature and concentration are encoded as numerical discrete parameters."
   ]
  },
  {
   "cell_type": "code",
   "execution_count": null,
   "metadata": {},
   "outputs": [],
   "source": [
    "from baybe.parameters import CategoricalParameter, NumericalDiscreteParameter\n",
    "\n",
    "p_solvent_ohe = CategoricalParameter(name = \"Solvent\",\n",
    "                                    values = solvent_data.keys(),\n",
    "                                    encoding = 'OHE')\n",
    "p_base_ohe = CategoricalParameter(name = \"Base\",\n",
    "                                    values = base_data.keys(),\n",
    "                                    encoding = 'OHE')\n",
    "p_ligand_ohe = CategoricalParameter(name = \"Ligand\",\n",
    "                                    values = ligand_data.keys(),\n",
    "                                    encoding = 'OHE') # INT or OHE\n",
    "\n",
    "\n",
    "with pd.option_context('display.max_columns', 5):\n",
    "    display(p_ligand_ohe.comp_df.head())"
   ]
  },
  {
   "cell_type": "code",
   "execution_count": null,
   "metadata": {},
   "outputs": [],
   "source": [
    "# Discrete numerical parameters\n",
    "p_temp = NumericalDiscreteParameter(name = \"Temp_C\", values = temperature_values)\n",
    "p_concentration = NumericalDiscreteParameter(name = \"Concentration\", values = concentration_values)\n",
    "\n",
    "ohe_parameters = [\n",
    "    p_solvent_ohe,\n",
    "    p_base_ohe, \n",
    "    p_ligand_ohe,\n",
    "    p_concentration, \n",
    "    p_temp\n",
    "]"
   ]
  },
  {
   "cell_type": "code",
   "execution_count": null,
   "metadata": {},
   "outputs": [],
   "source": [
    "from baybe.searchspace import SearchSpace\n",
    "\n",
    "searchspace_ohe = SearchSpace.from_product(parameters=ohe_parameters)"
   ]
  },
  {
   "cell_type": "markdown",
   "metadata": {},
   "source": [
    "EXERCISE: Set up the target and the objective"
   ]
  },
  {
   "cell_type": "code",
   "execution_count": null,
   "metadata": {},
   "outputs": [],
   "source": [
    "yield_target = # YOUR CODE\n",
    "objective2 = # YOUR CODE"
   ]
  },
  {
   "cell_type": "markdown",
   "metadata": {},
   "source": [
    "Let's now set up a campaign; we will not specify the recommender this time, but simply adopt the default settings from BayBE (you can take a look through the scource code if you want to know the details)."
   ]
  },
  {
   "cell_type": "code",
   "execution_count": null,
   "metadata": {},
   "outputs": [],
   "source": [
    "from baybe.campaign import Campaign\n",
    "\n",
    "ohe_campaign = Campaign(objective = objective2,\n",
    "                    searchspace = searchspace_ohe)"
   ]
  },
  {
   "cell_type": "code",
   "execution_count": null,
   "metadata": {},
   "outputs": [],
   "source": [
    "from baybe.simulation import simulate_scenarios\n",
    "\n",
    "MC_RUNS = 10 # this will take fairly long on typical free-of-charge cloud compute\n",
    "NUMBER_ITERATIONS = 16\n",
    "BATCH_SIZE = 2\n",
    "\n",
    "# Run the utility for backtesting\n",
    "results_ohe = simulate_scenarios(\n",
    "    {'OHE': ohe_campaign},\n",
    "    lookup, # the initial dataframe with the experimental results is our lookup\n",
    "    batch_size = BATCH_SIZE, # how many experiments to perform in one batch\n",
    "    n_doe_iterations = NUMBER_ITERATIONS, # how many batches to select successively\n",
    "    n_mc_iterations = MC_RUNS, # number of Monte Carlo iterations -> this corresponds to the number of times we take a new random starting point \n",
    "                                # and run the full campaign from scratch (to get a statistically) meaningful sense about the merit of the featurization approach\n",
    ")\n",
    "results_ohe.head()"
   ]
  },
  {
   "cell_type": "markdown",
   "metadata": {},
   "source": [
    "To visualize the campaign, we will define an auxiliary function."
   ]
  },
  {
   "cell_type": "code",
   "execution_count": null,
   "metadata": {},
   "outputs": [],
   "source": [
    "PLOTARGS = {\n",
    "    'linestyle': 'solid',\n",
    "    'marker': 'o',\n",
    "    'markersize': 6, \n",
    "    'markeredgecolor': 'none'\n",
    "}\n",
    "FIGSIZE = (11,6)\n",
    "\n",
    "def plot_campaign(results):\n",
    "    results.rename(columns = {\"Scenario\": \"Ligand Encoding\"}, inplace = True)\n",
    "    sns.lineplot(data = results, \n",
    "             x = \"Num_Experiments\", \n",
    "             y = \"yield_CumBest\", \n",
    "             hue = \"Ligand Encoding\",\n",
    "             **PLOTARGS)\n",
    "\n",
    "    plt.axhline(y = F_BEST, color = 'red', linestyle = '--', label = 'Best Possible')\n",
    "    plt.gcf().set_size_inches(FIGSIZE)\n",
    "    plt.gca().set_ylim(plt.gca().get_ylim()[0], F_BEST+5)\n",
    "    plt.title('Influence of the Ligand Substance Encoding'); "
   ]
  },
  {
   "cell_type": "code",
   "execution_count": null,
   "metadata": {},
   "outputs": [],
   "source": [
    "plot_campaign(results_ohe)"
   ]
  },
  {
   "cell_type": "markdown",
   "metadata": {},
   "source": [
    "In the plot above, you can see visually see how throughout the campaign, we gradually manage to increase the yield (the blue line is the average best yield recorded so far after N experiments across the 10 Monte Carlo campaign simulations; the shaded area provides the standard deviation).\n",
    "\n",
    "Let's now compare this Bayesian Optimization campaign to a random sampling, i.e., we randomly select points in the search space to evaluate, instead of using an acquisition function."
   ]
  },
  {
   "cell_type": "markdown",
   "metadata": {},
   "source": [
    "## Substance featurizations: Mordred encoding"
   ]
  },
  {
   "cell_type": "code",
   "execution_count": null,
   "metadata": {},
   "outputs": [],
   "source": [
    "from baybe.recommenders import RandomRecommender\n",
    "\n",
    "random_campaign = Campaign(objective = objective,\n",
    "                       searchspace = searchspace_ohe,\n",
    "                       recommender = RandomRecommender())"
   ]
  },
  {
   "cell_type": "code",
   "execution_count": null,
   "metadata": {},
   "outputs": [],
   "source": [
    "# Run the utility for backtesting\n",
    "results_random = simulate_scenarios(\n",
    "    {'random': random_campaign},\n",
    "    lookup, # the initial dataframe with the experimental results is our lookup\n",
    "    batch_size = BATCH_SIZE,\n",
    "    n_doe_iterations = NUMBER_ITERATIONS,\n",
    "    n_mc_iterations = MC_RUNS,\n",
    ")\n",
    "results_random.head()"
   ]
  },
  {
   "cell_type": "code",
   "execution_count": null,
   "metadata": {},
   "outputs": [],
   "source": [
    "plot_campaign(results_random)"
   ]
  },
  {
   "cell_type": "markdown",
   "metadata": {},
   "source": [
    "This hardly seems any better than when we used the one-hot encoding representation of the compounds!\n",
    "\n",
    "Let us now consider instead of a one-hot encoding a more chemically meaningful encoding that enables the establishment of \"similarity\" between substances. We will specifically focus on the MORDRED representation, but others are also available in BayBE."
   ]
  },
  {
   "cell_type": "code",
   "execution_count": null,
   "metadata": {},
   "outputs": [],
   "source": [
    "p_solvent_mordred = SubstanceParameter(name = \"Solvent\",\n",
    "                                    data = solvent_data,\n",
    "                                    encoding = 'MORDRED')\n",
    "p_base_mordred = SubstanceParameter(name = \"Base\",\n",
    "                                    data = base_data,\n",
    "                                    encoding = 'MORDRED')\n",
    "p_ligand_mordred = SubstanceParameter(name = \"Ligand\",\n",
    "                                    data = ligand_data,\n",
    "                                    encoding = 'MORDRED')\n",
    "\n",
    "\n",
    "mordred_parameters = [\n",
    "    p_solvent_mordred,\n",
    "    p_base_mordred, \n",
    "    p_ligand_mordred,\n",
    "    p_concentration, \n",
    "    p_temp\n",
    "]\n",
    "\n",
    "searchspace_mordred = SearchSpace.from_product(parameters=mordred_parameters)\n",
    "\n",
    "with pd.option_context('display.max_columns', 5):\n",
    "    display(p_ligand_mordred.comp_df.head())\n",
    "\n",
    "mordred_campaign = Campaign(objective = objective,\n",
    "                    searchspace = searchspace_mordred)\n",
    "\n",
    "# Run the utility for backtesting\n",
    "results_mordred = simulate_scenarios(\n",
    "    {'mordred': mordred_campaign},\n",
    "    lookup, # the initial dataframe with the experimental results is our lookup\n",
    "    batch_size = BATCH_SIZE, # how many experiments to perform in one batch\n",
    "    n_doe_iterations = NUMBER_ITERATIONS, # how many batches to select successively\n",
    "    n_mc_iterations = MC_RUNS, # number of Monte Carlo iterations -> this corresponds to the number of times we take a new random starting point \n",
    "                                # and run the full campaign from scratch (to get a statistically) meaningful sense about the merit of the featurization approach\n",
    ")\n",
    "results_mordred.head()"
   ]
  },
  {
   "cell_type": "code",
   "execution_count": null,
   "metadata": {},
   "outputs": [],
   "source": [
    "plot_campaign(results_mordred)"
   ]
  },
  {
   "cell_type": "markdown",
   "metadata": {},
   "source": [
    "This looks a lot better already! Let's now plot all 3 types of campaigns together in one plot."
   ]
  },
  {
   "cell_type": "code",
   "execution_count": null,
   "metadata": {},
   "outputs": [],
   "source": [
    "results_combined = pd.concat([results_ohe, results_random, results_mordred], ignore_index=True)\n",
    "plot_campaign(results_combined)"
   ]
  },
  {
   "cell_type": "markdown",
   "metadata": {},
   "source": [
    "Clearly, the choice of encoding matter: the Mordred campaign found the optimal yield rapidly, and clearly outperforms the other approaches tried out."
   ]
  }
 ],
 "metadata": {
  "anaconda-cloud": {},
  "kernelspec": {
   "display_name": "bayesian",
   "language": "python",
   "name": "python3"
  },
  "language_info": {
   "codemirror_mode": {
    "name": "ipython",
    "version": 3
   },
   "file_extension": ".py",
   "mimetype": "text/x-python",
   "name": "python",
   "nbconvert_exporter": "python",
   "pygments_lexer": "ipython3",
   "version": "3.10.8"
  }
 },
 "nbformat": 4,
 "nbformat_minor": 1
}
