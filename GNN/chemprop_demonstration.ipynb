{
  "cells": [
    {
      "cell_type": "markdown",
      "id": "cdc997b6-501f-464d-a388-bf3c9540400e",
      "metadata": {
        "id": "cdc997b6-501f-464d-a388-bf3c9540400e"
      },
      "source": [
        "<a href=\"https://colab.research.google.com/github/schwallergroup/ai4chem_course/blob/main/notebooks/03%20-%20Intro%20to%20Deep%20Learning/03_gnn_simple_example.ipynb\" target=\"_parent\"><img src=\"https://colab.research.google.com/assets/colab-badge.svg\" alt=\"Open In Colab\"/></a>"
      ]
    },
    {
      "cell_type": "markdown",
      "id": "2361f4a6-2cc4-4347-aa21-f557e606bf6f",
      "metadata": {
        "id": "2361f4a6-2cc4-4347-aa21-f557e606bf6f"
      },
      "source": [
        "# Demonstration of Chemprop"
      ]
    },
    {
      "cell_type": "markdown",
      "id": "179733c6",
      "metadata": {
        "id": "179733c6"
      },
      "source": [
        "# Relevant packages\n",
        "\n",
        "### Chemprop\n",
        "The Chemprop Python package contains message passing neural networks for molecular property prediction as described in the paper [Chemprop: a machine learning package for chemical property prediction.](https://pubs.acs.org/doi/abs/10.1021/acs.jcim.3c01250) and as used in the paper [A Deep Learning Approach to Antibiotic Discovery](https://www.cell.com/cell/fulltext/S0092-8674(20)30102-1) for molecules and [Machine Learning of Reaction Properties via Learned Representations of the Condensed Graph of Reaction](https://doi.org/10.1021/acs.jcim.1c00975) for reactions.\n",
        "\n",
        "**Documentation:** Full documentation of Chemprop is available at https://chemprop.readthedocs.io/en/latest/."
      ]
    },
    {
      "cell_type": "code",
      "execution_count": 1,
      "id": "519f98ff",
      "metadata": {
        "id": "519f98ff"
      },
      "outputs": [
        {
          "name": "stdout",
          "output_type": "stream",
          "text": [
            "Requirement already satisfied: chemprop in /opt/anaconda3/lib/python3.11/site-packages (2.1.2)\n",
            "Requirement already satisfied: rdkit in /opt/anaconda3/lib/python3.11/site-packages (2024.9.6)\n",
            "Requirement already satisfied: lightning>=2.0 in /opt/anaconda3/lib/python3.11/site-packages (from chemprop) (2.5.1.post0)\n",
            "Requirement already satisfied: numpy<2.0.0 in /opt/anaconda3/lib/python3.11/site-packages (from chemprop) (1.26.4)\n",
            "Requirement already satisfied: pandas in /opt/anaconda3/lib/python3.11/site-packages (from chemprop) (2.1.4)\n",
            "Requirement already satisfied: scikit-learn in /opt/anaconda3/lib/python3.11/site-packages (from chemprop) (1.2.2)\n",
            "Requirement already satisfied: scipy in /opt/anaconda3/lib/python3.11/site-packages (from chemprop) (1.11.4)\n",
            "Requirement already satisfied: torch>=2.1 in /opt/anaconda3/lib/python3.11/site-packages (from chemprop) (2.3.0)\n",
            "Requirement already satisfied: astartes[molecules] in /opt/anaconda3/lib/python3.11/site-packages (from chemprop) (1.3.0)\n",
            "Requirement already satisfied: ConfigArgParse in /opt/anaconda3/lib/python3.11/site-packages (from chemprop) (1.7)\n",
            "Requirement already satisfied: rich in /opt/anaconda3/lib/python3.11/site-packages (from chemprop) (13.3.5)\n",
            "Requirement already satisfied: descriptastorus in /opt/anaconda3/lib/python3.11/site-packages (from chemprop) (2.8.0)\n",
            "Requirement already satisfied: Pillow in /opt/anaconda3/lib/python3.11/site-packages (from rdkit) (10.2.0)\n",
            "Requirement already satisfied: PyYAML<8.0,>=5.4 in /opt/anaconda3/lib/python3.11/site-packages (from lightning>=2.0->chemprop) (6.0.1)\n",
            "Requirement already satisfied: fsspec<2026.0,>=2022.5.0 in /opt/anaconda3/lib/python3.11/site-packages (from fsspec[http]<2026.0,>=2022.5.0->lightning>=2.0->chemprop) (2023.10.0)\n",
            "Requirement already satisfied: lightning-utilities<2.0,>=0.10.0 in /opt/anaconda3/lib/python3.11/site-packages (from lightning>=2.0->chemprop) (0.14.3)\n",
            "Requirement already satisfied: packaging<25.0,>=20.0 in /opt/anaconda3/lib/python3.11/site-packages (from lightning>=2.0->chemprop) (23.1)\n",
            "Requirement already satisfied: torchmetrics<3.0,>=0.7.0 in /opt/anaconda3/lib/python3.11/site-packages (from lightning>=2.0->chemprop) (1.7.1)\n",
            "Requirement already satisfied: tqdm<6.0,>=4.57.0 in /opt/anaconda3/lib/python3.11/site-packages (from lightning>=2.0->chemprop) (4.65.0)\n",
            "Requirement already satisfied: typing-extensions<6.0,>=4.4.0 in /opt/anaconda3/lib/python3.11/site-packages (from lightning>=2.0->chemprop) (4.9.0)\n",
            "Requirement already satisfied: pytorch-lightning in /opt/anaconda3/lib/python3.11/site-packages (from lightning>=2.0->chemprop) (2.5.1.post0)\n",
            "Requirement already satisfied: filelock in /opt/anaconda3/lib/python3.11/site-packages (from torch>=2.1->chemprop) (3.13.1)\n",
            "Requirement already satisfied: sympy in /opt/anaconda3/lib/python3.11/site-packages (from torch>=2.1->chemprop) (1.12)\n",
            "Requirement already satisfied: networkx in /opt/anaconda3/lib/python3.11/site-packages (from torch>=2.1->chemprop) (3.1)\n",
            "Requirement already satisfied: jinja2 in /opt/anaconda3/lib/python3.11/site-packages (from torch>=2.1->chemprop) (3.1.3)\n",
            "Requirement already satisfied: tabulate in /opt/anaconda3/lib/python3.11/site-packages (from astartes[molecules]->chemprop) (0.9.0)\n",
            "Requirement already satisfied: aimsim-core in /opt/anaconda3/lib/python3.11/site-packages (from astartes[molecules]->chemprop) (2.2.2)\n",
            "Requirement already satisfied: pandas-flavor in /opt/anaconda3/lib/python3.11/site-packages (from descriptastorus->chemprop) (0.7.0)\n",
            "Requirement already satisfied: python-dateutil>=2.8.2 in /opt/anaconda3/lib/python3.11/site-packages (from pandas->chemprop) (2.8.2)\n",
            "Requirement already satisfied: pytz>=2020.1 in /opt/anaconda3/lib/python3.11/site-packages (from pandas->chemprop) (2023.3.post1)\n",
            "Requirement already satisfied: tzdata>=2022.1 in /opt/anaconda3/lib/python3.11/site-packages (from pandas->chemprop) (2023.3)\n",
            "Requirement already satisfied: markdown-it-py<3.0.0,>=2.2.0 in /opt/anaconda3/lib/python3.11/site-packages (from rich->chemprop) (2.2.0)\n",
            "Requirement already satisfied: pygments<3.0.0,>=2.13.0 in /opt/anaconda3/lib/python3.11/site-packages (from rich->chemprop) (2.15.1)\n",
            "Requirement already satisfied: joblib>=1.1.1 in /opt/anaconda3/lib/python3.11/site-packages (from scikit-learn->chemprop) (1.2.0)\n",
            "Requirement already satisfied: threadpoolctl>=2.0.0 in /opt/anaconda3/lib/python3.11/site-packages (from scikit-learn->chemprop) (2.2.0)\n",
            "Requirement already satisfied: requests in /opt/anaconda3/lib/python3.11/site-packages (from fsspec[http]<2026.0,>=2022.5.0->lightning>=2.0->chemprop) (2.31.0)\n",
            "Requirement already satisfied: aiohttp!=4.0.0a0,!=4.0.0a1 in /opt/anaconda3/lib/python3.11/site-packages (from fsspec[http]<2026.0,>=2022.5.0->lightning>=2.0->chemprop) (3.9.3)\n",
            "Requirement already satisfied: setuptools in /opt/anaconda3/lib/python3.11/site-packages (from lightning-utilities<2.0,>=0.10.0->lightning>=2.0->chemprop) (68.2.2)\n",
            "Requirement already satisfied: mdurl~=0.1 in /opt/anaconda3/lib/python3.11/site-packages (from markdown-it-py<3.0.0,>=2.2.0->rich->chemprop) (0.1.0)\n",
            "Requirement already satisfied: six>=1.5 in /opt/anaconda3/lib/python3.11/site-packages (from python-dateutil>=2.8.2->pandas->chemprop) (1.16.0)\n"
          ]
        },
        {
          "name": "stdout",
          "output_type": "stream",
          "text": [
            "Requirement already satisfied: psutil in /opt/anaconda3/lib/python3.11/site-packages (from aimsim-core->astartes[molecules]->chemprop) (5.9.0)\n",
            "Requirement already satisfied: padelpy in /opt/anaconda3/lib/python3.11/site-packages (from aimsim-core->astartes[molecules]->chemprop) (0.1.16)\n",
            "Requirement already satisfied: mhfp in /opt/anaconda3/lib/python3.11/site-packages (from aimsim-core->astartes[molecules]->chemprop) (1.9.6)\n",
            "Requirement already satisfied: mordredcommunity in /opt/anaconda3/lib/python3.11/site-packages (from aimsim-core->astartes[molecules]->chemprop) (2.0.6)\n",
            "Requirement already satisfied: multiprocess>=0.70 in /opt/anaconda3/lib/python3.11/site-packages (from aimsim-core->astartes[molecules]->chemprop) (0.70.18)\n",
            "Requirement already satisfied: MarkupSafe>=2.0 in /opt/anaconda3/lib/python3.11/site-packages (from jinja2->torch>=2.1->chemprop) (2.1.3)\n",
            "Requirement already satisfied: xarray in /opt/anaconda3/lib/python3.11/site-packages (from pandas-flavor->descriptastorus->chemprop) (2023.6.0)\n",
            "Requirement already satisfied: mpmath>=0.19 in /opt/anaconda3/lib/python3.11/site-packages (from sympy->torch>=2.1->chemprop) (1.3.0)\n",
            "Requirement already satisfied: aiosignal>=1.1.2 in /opt/anaconda3/lib/python3.11/site-packages (from aiohttp!=4.0.0a0,!=4.0.0a1->fsspec[http]<2026.0,>=2022.5.0->lightning>=2.0->chemprop) (1.2.0)\n",
            "Requirement already satisfied: attrs>=17.3.0 in /opt/anaconda3/lib/python3.11/site-packages (from aiohttp!=4.0.0a0,!=4.0.0a1->fsspec[http]<2026.0,>=2022.5.0->lightning>=2.0->chemprop) (23.1.0)\n",
            "Requirement already satisfied: frozenlist>=1.1.1 in /opt/anaconda3/lib/python3.11/site-packages (from aiohttp!=4.0.0a0,!=4.0.0a1->fsspec[http]<2026.0,>=2022.5.0->lightning>=2.0->chemprop) (1.4.0)\n",
            "Requirement already satisfied: multidict<7.0,>=4.5 in /opt/anaconda3/lib/python3.11/site-packages (from aiohttp!=4.0.0a0,!=4.0.0a1->fsspec[http]<2026.0,>=2022.5.0->lightning>=2.0->chemprop) (6.0.4)\n",
            "Requirement already satisfied: yarl<2.0,>=1.0 in /opt/anaconda3/lib/python3.11/site-packages (from aiohttp!=4.0.0a0,!=4.0.0a1->fsspec[http]<2026.0,>=2022.5.0->lightning>=2.0->chemprop) (1.9.3)\n",
            "Requirement already satisfied: dill>=0.4.0 in /opt/anaconda3/lib/python3.11/site-packages (from multiprocess>=0.70->aimsim-core->astartes[molecules]->chemprop) (0.4.0)\n",
            "Requirement already satisfied: charset-normalizer<4,>=2 in /opt/anaconda3/lib/python3.11/site-packages (from requests->fsspec[http]<2026.0,>=2022.5.0->lightning>=2.0->chemprop) (2.0.4)\n",
            "Requirement already satisfied: idna<4,>=2.5 in /opt/anaconda3/lib/python3.11/site-packages (from requests->fsspec[http]<2026.0,>=2022.5.0->lightning>=2.0->chemprop) (3.4)\n",
            "Requirement already satisfied: urllib3<3,>=1.21.1 in /opt/anaconda3/lib/python3.11/site-packages (from requests->fsspec[http]<2026.0,>=2022.5.0->lightning>=2.0->chemprop) (2.0.7)\n",
            "Requirement already satisfied: certifi>=2017.4.17 in /opt/anaconda3/lib/python3.11/site-packages (from requests->fsspec[http]<2026.0,>=2022.5.0->lightning>=2.0->chemprop) (2024.2.2)\n"
          ]
        }
      ],
      "source": [
        "# Install chemprop\n",
        "# CoLab has already preinstalled Pytorch for you\n",
        "! pip install chemprop rdkit"
      ]
    },
    {
      "cell_type": "markdown",
      "id": "d19b18b9",
      "metadata": {
        "id": "d19b18b9"
      },
      "source": [
        "Set a random seed to ensure reproducability of the experiments"
      ]
    },
    {
      "cell_type": "code",
      "execution_count": 2,
      "id": "a55c1555",
      "metadata": {
        "id": "a55c1555"
      },
      "outputs": [],
      "source": [
        "import random\n",
        "import numpy as np\n",
        "import torch\n",
        "\n",
        "# Random Seeds and Reproducibility\n",
        "torch.manual_seed(0)\n",
        "torch.cuda.manual_seed(0)\n",
        "np.random.seed(0)\n",
        "random.seed(0)"
      ]
    },
    {
      "cell_type": "markdown",
      "id": "b49a0ef1",
      "metadata": {
        "id": "b49a0ef1"
      },
      "source": [
        "# Train GNNs using chemprop\n",
        "\n",
        "To train a GNN model, run:\n",
        "```\n",
        "chemprop train --data_path <path> --task_type <type> --save_dir <dir>\n",
        "```\n",
        "where `<path>` is the path to a CSV file containing a dataset, `<type>` is one of [classification, regression, multiclass, spectra] depending on the type of the dataset, and `<dir>` is the directory where train results and model checkpoints will be saved. For more details for CSV data style, please see [here](https://github.com/chemprop/chemprop#data).\n",
        "\n",
        "For example:\n",
        "```\n",
        "chemprop train --data_path data/tox21.csv --task_type classification --save_dir tox21_checkpoints\n",
        "```\n",
        "\n",
        "A full list of available command-line arguments can be found in [chemprop/args.py](https://github.com/chemprop/chemprop/blob/master/chemprop/args.py).\n",
        "\n",
        "For model evaluation metrics, please see in [README.md](https://github.com/chemprop/chemprop#metrics)."
      ]
    },
    {
      "cell_type": "code",
      "execution_count": 7,
      "id": "2157456d",
      "metadata": {
        "id": "2157456d"
      },
      "outputs": [
        {
          "name": "stdout",
          "output_type": "stream",
          "text": [
            "usage: chemprop [-h] {train,predict,convert,fingerprint,hpopt} ...\n",
            "chemprop: error: unrecognized arguments: --data_path data/esol.csv --task_type regression --save_dir esol_ckpts --split_sizes 0.7 0.1 0.2\n"
          ]
        }
      ],
      "source": [
        "! chemprop train --data_path data/esol.csv \\\n",
        "                 --task_type regression \\\n",
        "                 --save_dir esol_ckpts \\\n",
        "                 --metric rmse \\\n",
        "                 --split_sizes 0.7 0.1 0.2 \\\n",
        "                 --epochs 60"
      ]
    }
  ],
  "metadata": {
    "colab": {
      "provenance": []
    },
    "kernelspec": {
      "display_name": "base",
      "language": "python",
      "name": "python3"
    },
    "language_info": {
      "codemirror_mode": {
        "name": "ipython",
        "version": 3
      },
      "file_extension": ".py",
      "mimetype": "text/x-python",
      "name": "python",
      "nbconvert_exporter": "python",
      "pygments_lexer": "ipython3",
      "version": "3.11.8"
    }
  },
  "nbformat": 4,
  "nbformat_minor": 5
}
