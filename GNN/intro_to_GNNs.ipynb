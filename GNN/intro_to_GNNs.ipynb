{
  "cells": [
    {
      "cell_type": "markdown",
      "id": "cdc997b6-501f-464d-a388-bf3c9540400e",
      "metadata": {
        "id": "cdc997b6-501f-464d-a388-bf3c9540400e"
      },
      "source": [
        "<a href=\"https://colab.research.google.com/github/schwallergroup/ai4chem_course/blob/main/notebooks/03%20-%20Intro%20to%20Deep%20Learning/02_graph_nns.ipynb\" target=\"_parent\"><img src=\"https://colab.research.google.com/assets/colab-badge.svg\" alt=\"Open In Colab\"/></a>"
      ]
    },
    {
      "cell_type": "markdown",
      "id": "2361f4a6-2cc4-4347-aa21-f557e606bf6f",
      "metadata": {
        "id": "2361f4a6-2cc4-4347-aa21-f557e606bf6f"
      },
      "source": [
        "# Intro to Graph Neural Networks (GNN)"
      ]
    },
    {
      "cell_type": "markdown",
      "id": "179733c6",
      "metadata": {
        "id": "179733c6"
      },
      "source": [
        "### Relevant packages: Pytorch Geometric (PyG)\n",
        "PyG is a library built upon PyTorch to easily write and train Graph Neural Networks (GNNs) for a wide range of applications related to structured data. You can also browse its [documentation](https://pytorch-geometric.readthedocs.io/en/latest/) for additional details."
      ]
    },
    {
      "cell_type": "code",
      "execution_count": 1,
      "id": "519f98ff",
      "metadata": {
        "id": "519f98ff"
      },
      "outputs": [
        {
          "name": "stdout",
          "output_type": "stream",
          "text": [
            "Collecting pytorch-lightning\n",
            "  Downloading pytorch_lightning-2.5.1.post0-py3-none-any.whl.metadata (20 kB)\n",
            "Collecting wandb\n",
            "  Downloading wandb-0.19.10-py3-none-macosx_11_0_arm64.whl.metadata (10 kB)\n",
            "Collecting rdkit\n",
            "  Downloading rdkit-2024.9.6-cp311-cp311-macosx_11_0_arm64.whl.metadata (4.0 kB)\n",
            "Collecting ogb\n",
            "  Downloading ogb-1.3.6-py3-none-any.whl.metadata (6.2 kB)\n",
            "Requirement already satisfied: torch>=2.1.0 in /opt/anaconda3/lib/python3.11/site-packages (from pytorch-lightning) (2.3.0)\n",
            "Requirement already satisfied: tqdm>=4.57.0 in /opt/anaconda3/lib/python3.11/site-packages (from pytorch-lightning) (4.65.0)\n",
            "Requirement already satisfied: PyYAML>=5.4 in /opt/anaconda3/lib/python3.11/site-packages (from pytorch-lightning) (6.0.1)\n",
            "Requirement already satisfied: fsspec>=2022.5.0 in /opt/anaconda3/lib/python3.11/site-packages (from fsspec[http]>=2022.5.0->pytorch-lightning) (2023.10.0)\n",
            "Collecting torchmetrics>=0.7.0 (from pytorch-lightning)\n",
            "  Downloading torchmetrics-1.7.1-py3-none-any.whl.metadata (21 kB)\n",
            "Requirement already satisfied: packaging>=20.0 in /opt/anaconda3/lib/python3.11/site-packages (from pytorch-lightning) (23.1)\n",
            "Requirement already satisfied: typing-extensions>=4.4.0 in /opt/anaconda3/lib/python3.11/site-packages (from pytorch-lightning) (4.9.0)\n",
            "Collecting lightning-utilities>=0.10.0 (from pytorch-lightning)\n",
            "  Downloading lightning_utilities-0.14.3-py3-none-any.whl.metadata (5.6 kB)\n",
            "Requirement already satisfied: click!=8.0.0,>=7.1 in /opt/anaconda3/lib/python3.11/site-packages (from wandb) (8.1.7)\n",
            "Collecting docker-pycreds>=0.4.0 (from wandb)\n",
            "  Downloading docker_pycreds-0.4.0-py2.py3-none-any.whl.metadata (1.8 kB)\n",
            "Requirement already satisfied: gitpython!=3.1.29,>=1.0.0 in /opt/anaconda3/lib/python3.11/site-packages (from wandb) (3.1.37)\n",
            "Requirement already satisfied: platformdirs in /opt/anaconda3/lib/python3.11/site-packages (from wandb) (3.10.0)\n",
            "Requirement already satisfied: protobuf!=4.21.0,!=5.28.0,<7,>=3.19.0 in /opt/anaconda3/lib/python3.11/site-packages (from wandb) (3.20.3)\n",
            "Requirement already satisfied: psutil>=5.0.0 in /opt/anaconda3/lib/python3.11/site-packages (from wandb) (5.9.0)\n",
            "Requirement already satisfied: pydantic<3 in /opt/anaconda3/lib/python3.11/site-packages (from wandb) (1.10.12)\n",
            "Requirement already satisfied: requests<3,>=2.0.0 in /opt/anaconda3/lib/python3.11/site-packages (from wandb) (2.31.0)\n",
            "Collecting sentry-sdk>=2.0.0 (from wandb)\n",
            "  Downloading sentry_sdk-2.27.0-py2.py3-none-any.whl.metadata (10 kB)\n",
            "Collecting setproctitle (from wandb)\n",
            "  Downloading setproctitle-1.3.6-cp311-cp311-macosx_11_0_arm64.whl.metadata (10 kB)\n",
            "Requirement already satisfied: setuptools in /opt/anaconda3/lib/python3.11/site-packages (from wandb) (68.2.2)\n",
            "Requirement already satisfied: numpy in /opt/anaconda3/lib/python3.11/site-packages (from rdkit) (1.26.4)\n",
            "Requirement already satisfied: Pillow in /opt/anaconda3/lib/python3.11/site-packages (from rdkit) (10.2.0)\n",
            "Requirement already satisfied: scikit-learn>=0.20.0 in /opt/anaconda3/lib/python3.11/site-packages (from ogb) (1.2.2)\n",
            "Requirement already satisfied: pandas>=0.24.0 in /opt/anaconda3/lib/python3.11/site-packages (from ogb) (2.1.4)\n",
            "Requirement already satisfied: six>=1.12.0 in /opt/anaconda3/lib/python3.11/site-packages (from ogb) (1.16.0)\n",
            "Requirement already satisfied: urllib3>=1.24.0 in /opt/anaconda3/lib/python3.11/site-packages (from ogb) (2.0.7)\n",
            "Collecting outdated>=0.2.0 (from ogb)\n",
            "  Downloading outdated-0.2.2-py2.py3-none-any.whl.metadata (4.7 kB)\n",
            "Requirement already satisfied: aiohttp!=4.0.0a0,!=4.0.0a1 in /opt/anaconda3/lib/python3.11/site-packages (from fsspec[http]>=2022.5.0->pytorch-lightning) (3.9.3)\n",
            "Requirement already satisfied: gitdb<5,>=4.0.1 in /opt/anaconda3/lib/python3.11/site-packages (from gitpython!=3.1.29,>=1.0.0->wandb) (4.0.7)\n",
            "Collecting littleutils (from outdated>=0.2.0->ogb)\n",
            "  Downloading littleutils-0.2.4-py3-none-any.whl.metadata (679 bytes)\n",
            "Requirement already satisfied: python-dateutil>=2.8.2 in /opt/anaconda3/lib/python3.11/site-packages (from pandas>=0.24.0->ogb) (2.8.2)\n",
            "Requirement already satisfied: pytz>=2020.1 in /opt/anaconda3/lib/python3.11/site-packages (from pandas>=0.24.0->ogb) (2023.3.post1)\n",
            "Requirement already satisfied: tzdata>=2022.1 in /opt/anaconda3/lib/python3.11/site-packages (from pandas>=0.24.0->ogb) (2023.3)\n",
            "Requirement already satisfied: charset-normalizer<4,>=2 in /opt/anaconda3/lib/python3.11/site-packages (from requests<3,>=2.0.0->wandb) (2.0.4)\n",
            "Requirement already satisfied: idna<4,>=2.5 in /opt/anaconda3/lib/python3.11/site-packages (from requests<3,>=2.0.0->wandb) (3.4)\n",
            "Requirement already satisfied: certifi>=2017.4.17 in /opt/anaconda3/lib/python3.11/site-packages (from requests<3,>=2.0.0->wandb) (2024.2.2)\n",
            "Requirement already satisfied: scipy>=1.3.2 in /opt/anaconda3/lib/python3.11/site-packages (from scikit-learn>=0.20.0->ogb) (1.11.4)\n",
            "Requirement already satisfied: joblib>=1.1.1 in /opt/anaconda3/lib/python3.11/site-packages (from scikit-learn>=0.20.0->ogb) (1.2.0)\n",
            "Requirement already satisfied: threadpoolctl>=2.0.0 in /opt/anaconda3/lib/python3.11/site-packages (from scikit-learn>=0.20.0->ogb) (2.2.0)\n",
            "Requirement already satisfied: filelock in /opt/anaconda3/lib/python3.11/site-packages (from torch>=2.1.0->pytorch-lightning) (3.13.1)\n",
            "Requirement already satisfied: sympy in /opt/anaconda3/lib/python3.11/site-packages (from torch>=2.1.0->pytorch-lightning) (1.12)\n",
            "Requirement already satisfied: networkx in /opt/anaconda3/lib/python3.11/site-packages (from torch>=2.1.0->pytorch-lightning) (3.1)\n",
            "Requirement already satisfied: jinja2 in /opt/anaconda3/lib/python3.11/site-packages (from torch>=2.1.0->pytorch-lightning) (3.1.3)\n",
            "Requirement already satisfied: aiosignal>=1.1.2 in /opt/anaconda3/lib/python3.11/site-packages (from aiohttp!=4.0.0a0,!=4.0.0a1->fsspec[http]>=2022.5.0->pytorch-lightning) (1.2.0)\n",
            "Requirement already satisfied: attrs>=17.3.0 in /opt/anaconda3/lib/python3.11/site-packages (from aiohttp!=4.0.0a0,!=4.0.0a1->fsspec[http]>=2022.5.0->pytorch-lightning) (23.1.0)\n",
            "Requirement already satisfied: frozenlist>=1.1.1 in /opt/anaconda3/lib/python3.11/site-packages (from aiohttp!=4.0.0a0,!=4.0.0a1->fsspec[http]>=2022.5.0->pytorch-lightning) (1.4.0)\n",
            "Requirement already satisfied: multidict<7.0,>=4.5 in /opt/anaconda3/lib/python3.11/site-packages (from aiohttp!=4.0.0a0,!=4.0.0a1->fsspec[http]>=2022.5.0->pytorch-lightning) (6.0.4)\n",
            "Requirement already satisfied: yarl<2.0,>=1.0 in /opt/anaconda3/lib/python3.11/site-packages (from aiohttp!=4.0.0a0,!=4.0.0a1->fsspec[http]>=2022.5.0->pytorch-lightning) (1.9.3)\n",
            "Requirement already satisfied: smmap<5,>=3.0.1 in /opt/anaconda3/lib/python3.11/site-packages (from gitdb<5,>=4.0.1->gitpython!=3.1.29,>=1.0.0->wandb) (4.0.0)\n",
            "Requirement already satisfied: MarkupSafe>=2.0 in /opt/anaconda3/lib/python3.11/site-packages (from jinja2->torch>=2.1.0->pytorch-lightning) (2.1.3)\n",
            "Requirement already satisfied: mpmath>=0.19 in /opt/anaconda3/lib/python3.11/site-packages (from sympy->torch>=2.1.0->pytorch-lightning) (1.3.0)\n",
            "Downloading pytorch_lightning-2.5.1.post0-py3-none-any.whl (823 kB)\n",
            "\u001b[2K   \u001b[90m━━━━━━━━━━━━━━━━━━━━━━━━━━━━━━━━━━━━━━━━\u001b[0m \u001b[32m823.1/823.1 kB\u001b[0m \u001b[31m17.5 MB/s\u001b[0m eta \u001b[36m0:00:00\u001b[0ma \u001b[36m0:00:01\u001b[0m\n",
            "\u001b[?25hDownloading wandb-0.19.10-py3-none-macosx_11_0_arm64.whl (20.3 MB)\n",
            "\u001b[2K   \u001b[90m━━━━━━━━━━━━━━━━━━━━━━━━━━━━━━━━━━━━━━━━\u001b[0m \u001b[32m20.3/20.3 MB\u001b[0m \u001b[31m85.7 MB/s\u001b[0m eta \u001b[36m0:00:00\u001b[0m00:01\u001b[0m:00:01\u001b[0m\n",
            "\u001b[?25hDownloading rdkit-2024.9.6-cp311-cp311-macosx_11_0_arm64.whl (27.7 MB)\n",
            "\u001b[2K   \u001b[90m━━━━━━━━━━━━━━━━━━━━━━━━━━━━━━━━━━━━━━━━\u001b[0m \u001b[32m27.7/27.7 MB\u001b[0m \u001b[31m13.3 MB/s\u001b[0m eta \u001b[36m0:00:00\u001b[0m00:01\u001b[0m00:01\u001b[0m\n",
            "\u001b[?25hDownloading ogb-1.3.6-py3-none-any.whl (78 kB)\n",
            "\u001b[2K   \u001b[90m━━━━━━━━━━━━━━━━━━━━━━━━━━━━━━━━━━━━━━━━\u001b[0m \u001b[32m78.8/78.8 kB\u001b[0m \u001b[31m10.2 MB/s\u001b[0m eta \u001b[36m0:00:00\u001b[0m\n",
            "\u001b[?25hDownloading docker_pycreds-0.4.0-py2.py3-none-any.whl (9.0 kB)\n",
            "Downloading lightning_utilities-0.14.3-py3-none-any.whl (28 kB)\n",
            "Downloading outdated-0.2.2-py2.py3-none-any.whl (7.5 kB)\n",
            "Downloading sentry_sdk-2.27.0-py2.py3-none-any.whl (340 kB)\n",
            "\u001b[2K   \u001b[90m━━━━━━━━━━━━━━━━━━━━━━━━━━━━━━━━━━━━━━━━\u001b[0m \u001b[32m340.8/340.8 kB\u001b[0m \u001b[31m31.6 MB/s\u001b[0m eta \u001b[36m0:00:00\u001b[0m\n",
            "\u001b[?25hDownloading torchmetrics-1.7.1-py3-none-any.whl (961 kB)\n",
            "\u001b[2K   \u001b[90m━━━━━━━━━━━━━━━━━━━━━━━━━━━━━━━━━━━━━━━━\u001b[0m \u001b[32m961.5/961.5 kB\u001b[0m \u001b[31m45.0 MB/s\u001b[0m eta \u001b[36m0:00:00\u001b[0m\n",
            "\u001b[?25hDownloading setproctitle-1.3.6-cp311-cp311-macosx_11_0_arm64.whl (11 kB)\n",
            "Downloading littleutils-0.2.4-py3-none-any.whl (8.1 kB)\n",
            "Installing collected packages: setproctitle, sentry-sdk, rdkit, littleutils, lightning-utilities, docker-pycreds, outdated, wandb, torchmetrics, ogb, pytorch-lightning\n",
            "Successfully installed docker-pycreds-0.4.0 lightning-utilities-0.14.3 littleutils-0.2.4 ogb-1.3.6 outdated-0.2.2 pytorch-lightning-2.5.1.post0 rdkit-2024.9.6 sentry-sdk-2.27.0 setproctitle-1.3.6 torchmetrics-1.7.1 wandb-0.19.10\n",
            "Collecting torch_geometric\n",
            "  Downloading torch_geometric-2.6.1-py3-none-any.whl.metadata (63 kB)\n",
            "\u001b[2K     \u001b[90m━━━━━━━━━━━━━━━━━━━━━━━━━━━━━━━━━━━━━━━━\u001b[0m \u001b[32m63.1/63.1 kB\u001b[0m \u001b[31m3.2 MB/s\u001b[0m eta \u001b[36m0:00:00\u001b[0m\n",
            "\u001b[?25hRequirement already satisfied: aiohttp in /opt/anaconda3/lib/python3.11/site-packages (from torch_geometric) (3.9.3)\n",
            "Requirement already satisfied: fsspec in /opt/anaconda3/lib/python3.11/site-packages (from torch_geometric) (2023.10.0)\n",
            "Requirement already satisfied: jinja2 in /opt/anaconda3/lib/python3.11/site-packages (from torch_geometric) (3.1.3)\n",
            "Requirement already satisfied: numpy in /opt/anaconda3/lib/python3.11/site-packages (from torch_geometric) (1.26.4)\n",
            "Requirement already satisfied: psutil>=5.8.0 in /opt/anaconda3/lib/python3.11/site-packages (from torch_geometric) (5.9.0)\n",
            "Requirement already satisfied: pyparsing in /opt/anaconda3/lib/python3.11/site-packages (from torch_geometric) (3.0.9)\n",
            "Requirement already satisfied: requests in /opt/anaconda3/lib/python3.11/site-packages (from torch_geometric) (2.31.0)\n",
            "Requirement already satisfied: tqdm in /opt/anaconda3/lib/python3.11/site-packages (from torch_geometric) (4.65.0)\n",
            "Requirement already satisfied: aiosignal>=1.1.2 in /opt/anaconda3/lib/python3.11/site-packages (from aiohttp->torch_geometric) (1.2.0)\n",
            "Requirement already satisfied: attrs>=17.3.0 in /opt/anaconda3/lib/python3.11/site-packages (from aiohttp->torch_geometric) (23.1.0)\n",
            "Requirement already satisfied: frozenlist>=1.1.1 in /opt/anaconda3/lib/python3.11/site-packages (from aiohttp->torch_geometric) (1.4.0)\n",
            "Requirement already satisfied: multidict<7.0,>=4.5 in /opt/anaconda3/lib/python3.11/site-packages (from aiohttp->torch_geometric) (6.0.4)\n",
            "Requirement already satisfied: yarl<2.0,>=1.0 in /opt/anaconda3/lib/python3.11/site-packages (from aiohttp->torch_geometric) (1.9.3)\n",
            "Requirement already satisfied: MarkupSafe>=2.0 in /opt/anaconda3/lib/python3.11/site-packages (from jinja2->torch_geometric) (2.1.3)\n",
            "Requirement already satisfied: charset-normalizer<4,>=2 in /opt/anaconda3/lib/python3.11/site-packages (from requests->torch_geometric) (2.0.4)\n",
            "Requirement already satisfied: idna<4,>=2.5 in /opt/anaconda3/lib/python3.11/site-packages (from requests->torch_geometric) (3.4)\n",
            "Requirement already satisfied: urllib3<3,>=1.21.1 in /opt/anaconda3/lib/python3.11/site-packages (from requests->torch_geometric) (2.0.7)\n",
            "Requirement already satisfied: certifi>=2017.4.17 in /opt/anaconda3/lib/python3.11/site-packages (from requests->torch_geometric) (2024.2.2)\n",
            "Downloading torch_geometric-2.6.1-py3-none-any.whl (1.1 MB)\n",
            "\u001b[2K   \u001b[90m━━━━━━━━━━━━━━━━━━━━━━━━━━━━━━━━━━━━━━━━\u001b[0m \u001b[32m1.1/1.1 MB\u001b[0m \u001b[31m25.8 MB/s\u001b[0m eta \u001b[36m0:00:00\u001b[0ma \u001b[36m0:00:01\u001b[0m\n",
            "\u001b[?25hInstalling collected packages: torch_geometric\n",
            "Successfully installed torch_geometric-2.6.1\n"
          ]
        }
      ],
      "source": [
        "# Install all libraries\n",
        "# CoLab has already preinstalled Pytorch for you\n",
        "! pip install pytorch-lightning wandb rdkit ogb\n",
        "# install PyG\n",
        "! pip install torch_geometric"
      ]
    },
    {
      "cell_type": "markdown",
      "id": "d19b18b9",
      "metadata": {
        "id": "d19b18b9"
      },
      "source": [
        "Set a random seed to ensure repeatability of experiments"
      ]
    },
    {
      "cell_type": "code",
      "execution_count": 2,
      "id": "a55c1555",
      "metadata": {
        "id": "a55c1555"
      },
      "outputs": [],
      "source": [
        "import random\n",
        "import numpy as np\n",
        "import torch\n",
        "\n",
        "# Random Seeds and Reproducibility\n",
        "torch.manual_seed(0)\n",
        "torch.cuda.manual_seed(0)\n",
        "np.random.seed(0)\n",
        "random.seed(0)"
      ]
    },
    {
      "cell_type": "markdown",
      "id": "a0465b86",
      "metadata": {
        "id": "a0465b86"
      },
      "source": [
        "### Molecular graph\n",
        "A [molecular graph](https://en.wikipedia.org/wiki/Molecular_graph) is a labeled graph whose nodes correspond to the atoms of the compound and edges correspond to chemical bonds. It also has node features (**atom features**), edge features (**bond features**) and graph labels (chemical properties of a molecule). Here, we demonstrate a simple example of building a molecular graph (undirected). Note that we do not consider hydrogen atoms as nodes."
      ]
    },
    {
      "cell_type": "code",
      "execution_count": 3,
      "id": "30bd3c57",
      "metadata": {
        "id": "30bd3c57"
      },
      "outputs": [
        {
          "data": {
            "image/png": "[encoded data removed]",
            "image/svg+xml": [
              "<?xml version='1.0' encoding='iso-8859-1'?>\n",
              "<svg version='1.1' baseProfile='full'\n",
              "              xmlns='http://www.w3.org/2000/svg'\n",
              "                      xmlns:rdkit='http://www.rdkit.org/xml'\n",
              "                      xmlns:xlink='http://www.w3.org/1999/xlink'\n",
              "                  xml:space='preserve'\n",
              "width='200px' height='200px' viewBox='0 0 200 200'>\n",
              "<!-- END OF HEADER -->\n",
              "<rect style='opacity:1.0;fill:#FFFFFF;stroke:none' width='200.0' height='200.0' x='0.0' y='0.0'> </rect>\n",
              "<path class='bond-0 atom-0 atom-1' d='M 10.0,59.2 L 32.2,72.0' style='fill:none;fill-rule:evenodd;stroke:#000000;stroke-width:2.0px;stroke-linecap:butt;stroke-linejoin:miter;stroke-opacity:1' />\n",
              "<path class='bond-0 atom-0 atom-1' d='M 32.2,72.0 L 54.4,84.8' style='fill:none;fill-rule:evenodd;stroke:#0000FF;stroke-width:2.0px;stroke-linecap:butt;stroke-linejoin:miter;stroke-opacity:1' />\n",
              "<path class='bond-1 atom-1 atom-2' d='M 63.0,100.5 L 63.0,125.7' style='fill:none;fill-rule:evenodd;stroke:#0000FF;stroke-width:2.0px;stroke-linecap:butt;stroke-linejoin:miter;stroke-opacity:1' />\n",
              "<path class='bond-1 atom-1 atom-2' d='M 63.0,125.7 L 63.0,151.0' style='fill:none;fill-rule:evenodd;stroke:#000000;stroke-width:2.0px;stroke-linecap:butt;stroke-linejoin:miter;stroke-opacity:1' />\n",
              "<path class='bond-2 atom-1 atom-3' d='M 71.6,84.8 L 93.8,72.0' style='fill:none;fill-rule:evenodd;stroke:#0000FF;stroke-width:2.0px;stroke-linecap:butt;stroke-linejoin:miter;stroke-opacity:1' />\n",
              "<path class='bond-2 atom-1 atom-3' d='M 93.8,72.0 L 116.0,59.2' style='fill:none;fill-rule:evenodd;stroke:#000000;stroke-width:2.0px;stroke-linecap:butt;stroke-linejoin:miter;stroke-opacity:1' />\n",
              "<path class='bond-3 atom-3 atom-4' d='M 116.0,59.2 L 137.5,71.6' style='fill:none;fill-rule:evenodd;stroke:#000000;stroke-width:2.0px;stroke-linecap:butt;stroke-linejoin:miter;stroke-opacity:1' />\n",
              "<path class='bond-3 atom-3 atom-4' d='M 137.5,71.6 L 159.0,84.0' style='fill:none;fill-rule:evenodd;stroke:#FF0000;stroke-width:2.0px;stroke-linecap:butt;stroke-linejoin:miter;stroke-opacity:1' />\n",
              "<path class='bond-3 atom-3 atom-4' d='M 116.0,69.8 L 132.9,79.6' style='fill:none;fill-rule:evenodd;stroke:#000000;stroke-width:2.0px;stroke-linecap:butt;stroke-linejoin:miter;stroke-opacity:1' />\n",
              "<path class='bond-3 atom-3 atom-4' d='M 132.9,79.6 L 154.4,92.0' style='fill:none;fill-rule:evenodd;stroke:#FF0000;stroke-width:2.0px;stroke-linecap:butt;stroke-linejoin:miter;stroke-opacity:1' />\n",
              "<path d='M 114.9,59.8 L 116.0,59.2 L 117.1,59.8' style='fill:none;stroke:#000000;stroke-width:2.0px;stroke-linecap:butt;stroke-linejoin:miter;stroke-opacity:1;' />\n",
              "<path class='atom-1' d='M 59.2 81.1\n",
              "L 64.8 90.3\n",
              "Q 65.4 91.2, 66.3 92.9\n",
              "Q 67.2 94.5, 67.3 94.6\n",
              "L 67.3 81.1\n",
              "L 69.6 81.1\n",
              "L 69.6 98.5\n",
              "L 67.2 98.5\n",
              "L 61.1 88.4\n",
              "Q 60.4 87.3, 59.6 85.9\n",
              "Q 58.9 84.6, 58.7 84.1\n",
              "L 58.7 98.5\n",
              "L 56.4 98.5\n",
              "L 56.4 81.1\n",
              "L 59.2 81.1\n",
              "' fill='#0000FF'/>\n",
              "<path class='atom-4' d='M 158.7 93.8\n",
              "Q 158.7 89.7, 160.8 87.3\n",
              "Q 162.9 85.0, 166.7 85.0\n",
              "Q 170.5 85.0, 172.6 87.3\n",
              "Q 174.7 89.7, 174.7 93.8\n",
              "Q 174.7 98.0, 172.6 100.4\n",
              "Q 170.5 102.8, 166.7 102.8\n",
              "Q 162.9 102.8, 160.8 100.4\n",
              "Q 158.7 98.1, 158.7 93.8\n",
              "M 166.7 100.8\n",
              "Q 169.3 100.8, 170.8 99.1\n",
              "Q 172.2 97.3, 172.2 93.8\n",
              "Q 172.2 90.4, 170.8 88.7\n",
              "Q 169.3 87.0, 166.7 87.0\n",
              "Q 164.1 87.0, 162.6 88.7\n",
              "Q 161.2 90.4, 161.2 93.8\n",
              "Q 161.2 97.3, 162.6 99.1\n",
              "Q 164.1 100.8, 166.7 100.8\n",
              "' fill='#FF0000'/>\n",
              "<path class='note' d='M 15.1 54.8\n",
              "Q 13.5 54.8, 12.7 53.7\n",
              "Q 11.9 52.5, 11.9 50.4\n",
              "Q 11.9 48.3, 12.7 47.1\n",
              "Q 13.5 46.0, 15.1 46.0\n",
              "Q 16.7 46.0, 17.5 47.1\n",
              "Q 18.3 48.3, 18.3 50.4\n",
              "Q 18.3 52.5, 17.5 53.7\n",
              "Q 16.7 54.8, 15.1 54.8\n",
              "M 15.1 53.9\n",
              "Q 16.0 53.9, 16.5 53.0\n",
              "Q 17.0 52.1, 17.0 50.4\n",
              "Q 17.0 48.7, 16.5 47.8\n",
              "Q 16.0 47.0, 15.1 47.0\n",
              "Q 14.2 47.0, 13.7 47.8\n",
              "Q 13.2 48.7, 13.2 50.4\n",
              "Q 13.2 52.1, 13.7 53.0\n",
              "Q 14.2 53.9, 15.1 53.9\n",
              "' fill='#000000'/>\n",
              "<path class='note' d='M 43.2 103.4\n",
              "L 45.1 103.4\n",
              "L 45.1 96.9\n",
              "L 43.0 97.6\n",
              "L 42.7 96.8\n",
              "L 45.4 95.6\n",
              "L 46.2 95.8\n",
              "L 46.2 103.4\n",
              "L 47.9 103.4\n",
              "L 47.9 104.4\n",
              "L 43.2 104.4\n",
              "L 43.2 103.4\n",
              "' fill='#000000'/>\n",
              "<path class='note' d='M 49.9 148.4\n",
              "Q 50.2 147.5, 51.0 147.1\n",
              "Q 51.7 146.6, 52.8 146.6\n",
              "Q 54.1 146.6, 54.8 147.3\n",
              "Q 55.6 148.0, 55.6 149.3\n",
              "Q 55.6 150.6, 54.6 151.8\n",
              "Q 53.7 153.0, 51.7 154.4\n",
              "L 55.7 154.4\n",
              "L 55.7 155.4\n",
              "L 49.9 155.4\n",
              "L 49.9 154.6\n",
              "Q 51.5 153.4, 52.5 152.6\n",
              "Q 53.4 151.7, 53.9 150.9\n",
              "Q 54.3 150.2, 54.3 149.4\n",
              "Q 54.3 148.5, 53.9 148.1\n",
              "Q 53.5 147.6, 52.8 147.6\n",
              "Q 52.1 147.6, 51.6 147.9\n",
              "Q 51.2 148.2, 50.8 148.8\n",
              "L 49.9 148.4\n",
              "' fill='#000000'/>\n",
              "<path class='note' d='M 117.2 48.8\n",
              "Q 118.1 49.1, 118.5 49.6\n",
              "Q 118.9 50.2, 118.9 51.0\n",
              "Q 118.9 51.7, 118.5 52.3\n",
              "Q 118.2 52.9, 117.5 53.2\n",
              "Q 116.8 53.5, 115.9 53.5\n",
              "Q 115.0 53.5, 114.3 53.2\n",
              "Q 113.6 52.9, 113.1 52.2\n",
              "L 113.8 51.5\n",
              "Q 114.3 52.1, 114.8 52.3\n",
              "Q 115.2 52.5, 115.9 52.5\n",
              "Q 116.7 52.5, 117.2 52.1\n",
              "Q 117.7 51.7, 117.7 51.0\n",
              "Q 117.7 50.1, 117.2 49.7\n",
              "Q 116.7 49.3, 115.6 49.3\n",
              "L 115.0 49.3\n",
              "L 115.0 48.4\n",
              "L 115.6 48.4\n",
              "Q 116.5 48.4, 117.0 48.0\n",
              "Q 117.5 47.6, 117.5 46.8\n",
              "Q 117.5 46.3, 117.1 45.9\n",
              "Q 116.7 45.6, 116.0 45.6\n",
              "Q 115.2 45.6, 114.8 45.9\n",
              "Q 114.3 46.1, 114.0 46.8\n",
              "L 113.2 46.3\n",
              "Q 113.5 45.6, 114.2 45.1\n",
              "Q 114.9 44.6, 116.0 44.6\n",
              "Q 117.2 44.6, 118.0 45.2\n",
              "Q 118.7 45.8, 118.7 46.8\n",
              "Q 118.7 47.5, 118.3 48.0\n",
              "Q 118.0 48.5, 117.2 48.8\n",
              "' fill='#000000'/>\n",
              "<path class='note' d='M 189.0 101.4\n",
              "L 190.0 101.4\n",
              "L 190.0 102.3\n",
              "L 189.0 102.3\n",
              "L 189.0 104.3\n",
              "L 187.8 104.3\n",
              "L 187.8 102.3\n",
              "L 183.3 102.3\n",
              "L 183.3 101.6\n",
              "L 187.1 95.7\n",
              "L 189.0 95.7\n",
              "L 189.0 101.4\n",
              "M 184.7 101.4\n",
              "L 187.8 101.4\n",
              "L 187.8 96.5\n",
              "L 184.7 101.4\n",
              "' fill='#000000'/>\n",
              "</svg>\n"
            ],
            "text/html": [
              "<?xml version='1.0' encoding='iso-8859-1'?>\n",
              "<svg version='1.1' baseProfile='full'\n",
              "              xmlns='http://www.w3.org/2000/svg'\n",
              "                      xmlns:rdkit='http://www.rdkit.org/xml'\n",
              "                      xmlns:xlink='http://www.w3.org/1999/xlink'\n",
              "                  xml:space='preserve'\n",
              "width='200px' height='200px' viewBox='0 0 200 200'>\n",
              "<!-- END OF HEADER -->\n",
              "<rect style='opacity:1.0;fill:#FFFFFF;stroke:none' width='200.0' height='200.0' x='0.0' y='0.0'> </rect>\n",
              "<path class='bond-0 atom-0 atom-1' d='M 10.0,59.2 L 32.2,72.0' style='fill:none;fill-rule:evenodd;stroke:#000000;stroke-width:2.0px;stroke-linecap:butt;stroke-linejoin:miter;stroke-opacity:1' />\n",
              "<path class='bond-0 atom-0 atom-1' d='M 32.2,72.0 L 54.4,84.8' style='fill:none;fill-rule:evenodd;stroke:#0000FF;stroke-width:2.0px;stroke-linecap:butt;stroke-linejoin:miter;stroke-opacity:1' />\n",
              "<path class='bond-1 atom-1 atom-2' d='M 63.0,100.5 L 63.0,125.7' style='fill:none;fill-rule:evenodd;stroke:#0000FF;stroke-width:2.0px;stroke-linecap:butt;stroke-linejoin:miter;stroke-opacity:1' />\n",
              "<path class='bond-1 atom-1 atom-2' d='M 63.0,125.7 L 63.0,151.0' style='fill:none;fill-rule:evenodd;stroke:#000000;stroke-width:2.0px;stroke-linecap:butt;stroke-linejoin:miter;stroke-opacity:1' />\n",
              "<path class='bond-2 atom-1 atom-3' d='M 71.6,84.8 L 93.8,72.0' style='fill:none;fill-rule:evenodd;stroke:#0000FF;stroke-width:2.0px;stroke-linecap:butt;stroke-linejoin:miter;stroke-opacity:1' />\n",
              "<path class='bond-2 atom-1 atom-3' d='M 93.8,72.0 L 116.0,59.2' style='fill:none;fill-rule:evenodd;stroke:#000000;stroke-width:2.0px;stroke-linecap:butt;stroke-linejoin:miter;stroke-opacity:1' />\n",
              "<path class='bond-3 atom-3 atom-4' d='M 116.0,59.2 L 137.5,71.6' style='fill:none;fill-rule:evenodd;stroke:#000000;stroke-width:2.0px;stroke-linecap:butt;stroke-linejoin:miter;stroke-opacity:1' />\n",
              "<path class='bond-3 atom-3 atom-4' d='M 137.5,71.6 L 159.0,84.0' style='fill:none;fill-rule:evenodd;stroke:#FF0000;stroke-width:2.0px;stroke-linecap:butt;stroke-linejoin:miter;stroke-opacity:1' />\n",
              "<path class='bond-3 atom-3 atom-4' d='M 116.0,69.8 L 132.9,79.6' style='fill:none;fill-rule:evenodd;stroke:#000000;stroke-width:2.0px;stroke-linecap:butt;stroke-linejoin:miter;stroke-opacity:1' />\n",
              "<path class='bond-3 atom-3 atom-4' d='M 132.9,79.6 L 154.4,92.0' style='fill:none;fill-rule:evenodd;stroke:#FF0000;stroke-width:2.0px;stroke-linecap:butt;stroke-linejoin:miter;stroke-opacity:1' />\n",
              "<path d='M 114.9,59.8 L 116.0,59.2 L 117.1,59.8' style='fill:none;stroke:#000000;stroke-width:2.0px;stroke-linecap:butt;stroke-linejoin:miter;stroke-opacity:1;' />\n",
              "<path class='atom-1' d='M 59.2 81.1\n",
              "L 64.8 90.3\n",
              "Q 65.4 91.2, 66.3 92.9\n",
              "Q 67.2 94.5, 67.3 94.6\n",
              "L 67.3 81.1\n",
              "L 69.6 81.1\n",
              "L 69.6 98.5\n",
              "L 67.2 98.5\n",
              "L 61.1 88.4\n",
              "Q 60.4 87.3, 59.6 85.9\n",
              "Q 58.9 84.6, 58.7 84.1\n",
              "L 58.7 98.5\n",
              "L 56.4 98.5\n",
              "L 56.4 81.1\n",
              "L 59.2 81.1\n",
              "' fill='#0000FF'/>\n",
              "<path class='atom-4' d='M 158.7 93.8\n",
              "Q 158.7 89.7, 160.8 87.3\n",
              "Q 162.9 85.0, 166.7 85.0\n",
              "Q 170.5 85.0, 172.6 87.3\n",
              "Q 174.7 89.7, 174.7 93.8\n",
              "Q 174.7 98.0, 172.6 100.4\n",
              "Q 170.5 102.8, 166.7 102.8\n",
              "Q 162.9 102.8, 160.8 100.4\n",
              "Q 158.7 98.1, 158.7 93.8\n",
              "M 166.7 100.8\n",
              "Q 169.3 100.8, 170.8 99.1\n",
              "Q 172.2 97.3, 172.2 93.8\n",
              "Q 172.2 90.4, 170.8 88.7\n",
              "Q 169.3 87.0, 166.7 87.0\n",
              "Q 164.1 87.0, 162.6 88.7\n",
              "Q 161.2 90.4, 161.2 93.8\n",
              "Q 161.2 97.3, 162.6 99.1\n",
              "Q 164.1 100.8, 166.7 100.8\n",
              "' fill='#FF0000'/>\n",
              "<path class='note' d='M 15.1 54.8\n",
              "Q 13.5 54.8, 12.7 53.7\n",
              "Q 11.9 52.5, 11.9 50.4\n",
              "Q 11.9 48.3, 12.7 47.1\n",
              "Q 13.5 46.0, 15.1 46.0\n",
              "Q 16.7 46.0, 17.5 47.1\n",
              "Q 18.3 48.3, 18.3 50.4\n",
              "Q 18.3 52.5, 17.5 53.7\n",
              "Q 16.7 54.8, 15.1 54.8\n",
              "M 15.1 53.9\n",
              "Q 16.0 53.9, 16.5 53.0\n",
              "Q 17.0 52.1, 17.0 50.4\n",
              "Q 17.0 48.7, 16.5 47.8\n",
              "Q 16.0 47.0, 15.1 47.0\n",
              "Q 14.2 47.0, 13.7 47.8\n",
              "Q 13.2 48.7, 13.2 50.4\n",
              "Q 13.2 52.1, 13.7 53.0\n",
              "Q 14.2 53.9, 15.1 53.9\n",
              "' fill='#000000'/>\n",
              "<path class='note' d='M 43.2 103.4\n",
              "L 45.1 103.4\n",
              "L 45.1 96.9\n",
              "L 43.0 97.6\n",
              "L 42.7 96.8\n",
              "L 45.4 95.6\n",
              "L 46.2 95.8\n",
              "L 46.2 103.4\n",
              "L 47.9 103.4\n",
              "L 47.9 104.4\n",
              "L 43.2 104.4\n",
              "L 43.2 103.4\n",
              "' fill='#000000'/>\n",
              "<path class='note' d='M 49.9 148.4\n",
              "Q 50.2 147.5, 51.0 147.1\n",
              "Q 51.7 146.6, 52.8 146.6\n",
              "Q 54.1 146.6, 54.8 147.3\n",
              "Q 55.6 148.0, 55.6 149.3\n",
              "Q 55.6 150.6, 54.6 151.8\n",
              "Q 53.7 153.0, 51.7 154.4\n",
              "L 55.7 154.4\n",
              "L 55.7 155.4\n",
              "L 49.9 155.4\n",
              "L 49.9 154.6\n",
              "Q 51.5 153.4, 52.5 152.6\n",
              "Q 53.4 151.7, 53.9 150.9\n",
              "Q 54.3 150.2, 54.3 149.4\n",
              "Q 54.3 148.5, 53.9 148.1\n",
              "Q 53.5 147.6, 52.8 147.6\n",
              "Q 52.1 147.6, 51.6 147.9\n",
              "Q 51.2 148.2, 50.8 148.8\n",
              "L 49.9 148.4\n",
              "' fill='#000000'/>\n",
              "<path class='note' d='M 117.2 48.8\n",
              "Q 118.1 49.1, 118.5 49.6\n",
              "Q 118.9 50.2, 118.9 51.0\n",
              "Q 118.9 51.7, 118.5 52.3\n",
              "Q 118.2 52.9, 117.5 53.2\n",
              "Q 116.8 53.5, 115.9 53.5\n",
              "Q 115.0 53.5, 114.3 53.2\n",
              "Q 113.6 52.9, 113.1 52.2\n",
              "L 113.8 51.5\n",
              "Q 114.3 52.1, 114.8 52.3\n",
              "Q 115.2 52.5, 115.9 52.5\n",
              "Q 116.7 52.5, 117.2 52.1\n",
              "Q 117.7 51.7, 117.7 51.0\n",
              "Q 117.7 50.1, 117.2 49.7\n",
              "Q 116.7 49.3, 115.6 49.3\n",
              "L 115.0 49.3\n",
              "L 115.0 48.4\n",
              "L 115.6 48.4\n",
              "Q 116.5 48.4, 117.0 48.0\n",
              "Q 117.5 47.6, 117.5 46.8\n",
              "Q 117.5 46.3, 117.1 45.9\n",
              "Q 116.7 45.6, 116.0 45.6\n",
              "Q 115.2 45.6, 114.8 45.9\n",
              "Q 114.3 46.1, 114.0 46.8\n",
              "L 113.2 46.3\n",
              "Q 113.5 45.6, 114.2 45.1\n",
              "Q 114.9 44.6, 116.0 44.6\n",
              "Q 117.2 44.6, 118.0 45.2\n",
              "Q 118.7 45.8, 118.7 46.8\n",
              "Q 118.7 47.5, 118.3 48.0\n",
              "Q 118.0 48.5, 117.2 48.8\n",
              "' fill='#000000'/>\n",
              "<path class='note' d='M 189.0 101.4\n",
              "L 190.0 101.4\n",
              "L 190.0 102.3\n",
              "L 189.0 102.3\n",
              "L 189.0 104.3\n",
              "L 187.8 104.3\n",
              "L 187.8 102.3\n",
              "L 183.3 102.3\n",
              "L 183.3 101.6\n",
              "L 187.1 95.7\n",
              "L 189.0 95.7\n",
              "L 189.0 101.4\n",
              "M 184.7 101.4\n",
              "L 187.8 101.4\n",
              "L 187.8 96.5\n",
              "L 184.7 101.4\n",
              "' fill='#000000'/>\n",
              "</svg>\n"
            ],
            "text/plain": [
              "<rdkit.Chem.rdchem.Mol at 0x179935e70>"
            ]
          },
          "execution_count": 3,
          "metadata": {},
          "output_type": "execute_result"
        }
      ],
      "source": [
        "from rdkit.Chem import MolFromSmiles\n",
        "from rdkit.Chem.Draw import IPythonConsole\n",
        "from rdkit.Chem import Draw\n",
        "\n",
        "IPythonConsole.ipython_useSVG = True  # < use SVGs instead of PNGs\n",
        "IPythonConsole.drawOptions.addAtomIndices = True  # adding indices for atoms\n",
        "IPythonConsole.drawOptions.addBondIndices = False  # not adding indices for bonds\n",
        "IPythonConsole.molSize = 200, 200\n",
        "\n",
        "# N,N-dimethylformamide (DMF)\n",
        "dmf_smiles = 'CN(C)C=O'\n",
        "mol = MolFromSmiles(dmf_smiles)\n",
        "# show molecular graph of DMF, atom indices = node indices\n",
        "mol"
      ]
    },
    {
      "cell_type": "markdown",
      "id": "fdcba6a2",
      "metadata": {
        "id": "fdcba6a2"
      },
      "source": [
        "### Atom features\n",
        "\n",
        "| feature | description |\n",
        "| ---- | ----  |\n",
        "| atom type  | atomic number |\n",
        "| degree  | number of directly-bonded neighbor atoms, including H atoms |\n",
        "| formal charge | integer electronic charge assigned to atom |\n",
        "| hybridization | sp, sp2, sp3, sp3d, or sp3d2 |"
      ]
    },
    {
      "cell_type": "code",
      "execution_count": 4,
      "id": "37cab5a2",
      "metadata": {
        "id": "37cab5a2"
      },
      "outputs": [
        {
          "data": {
            "text/plain": [
              "[[1, 4, 5, 2], [2, 3, 5, 1], [1, 4, 5, 2], [1, 3, 5, 1], [3, 1, 5, 1]]"
            ]
          },
          "execution_count": 4,
          "metadata": {},
          "output_type": "execute_result"
        }
      ],
      "source": [
        "ATOM_FEATURES = {\n",
        "    'atom_type' : [1, 6, 7, 8, 9],  # elements: H, C, N, O, F\n",
        "    'degree' : [0, 1, 2, 3, 4, 5, 6, 7, 8, 9, 10, 'misc'],\n",
        "    'formal_charge' : [-5, -4, -3, -2, -1, 0, 1, 2, 3, 4, 5, 'misc'],\n",
        "    'hybridization' : [\n",
        "        'SP', 'SP2', 'SP3', 'SP3D', 'SP3D2', 'misc'\n",
        "        ],\n",
        "}\n",
        "\n",
        "def get_atom_fv(atom):\n",
        "    \"\"\"\n",
        "    Converts rdkit atom object to feature list of indices\n",
        "    :param atom: rdkit atom object\n",
        "    :return: list\n",
        "    \"\"\"\n",
        "    atom_fv = [\n",
        "        ATOM_FEATURES['atom_type'].index(atom.GetAtomicNum()),\n",
        "        ATOM_FEATURES['degree'].index(atom.GetTotalDegree()),\n",
        "        ATOM_FEATURES['formal_charge'].index(atom.GetFormalCharge()),\n",
        "        ATOM_FEATURES['hybridization'].index(str(atom.GetHybridization())),\n",
        "    ]\n",
        "    return atom_fv\n",
        "\n",
        "atom_fvs = [get_atom_fv(atom) for atom in mol.GetAtoms()]\n",
        "atom_fvs"
      ]
    },
    {
      "cell_type": "markdown",
      "id": "12a4906b",
      "metadata": {
        "id": "12a4906b"
      },
      "source": [
        "### Bond features\n",
        "\n",
        "| feature | description |\n",
        "| ---- | ----  |\n",
        "| bond type  | single, double, triple, or aromatic |\n",
        "| stereo | none, any, E/Z or cis/trans |\n",
        "| conjugated  | whether the bond is conjugated |"
      ]
    },
    {
      "cell_type": "code",
      "execution_count": 5,
      "id": "03427568",
      "metadata": {
        "id": "03427568"
      },
      "outputs": [
        {
          "data": {
            "image/png": "[encoded data removed]",
            "image/svg+xml": [
              "<?xml version='1.0' encoding='iso-8859-1'?>\n",
              "<svg version='1.1' baseProfile='full'\n",
              "              xmlns='http://www.w3.org/2000/svg'\n",
              "                      xmlns:rdkit='http://www.rdkit.org/xml'\n",
              "                      xmlns:xlink='http://www.w3.org/1999/xlink'\n",
              "                  xml:space='preserve'\n",
              "width='200px' height='200px' viewBox='0 0 200 200'>\n",
              "<!-- END OF HEADER -->\n",
              "<rect style='opacity:1.0;fill:#FFFFFF;stroke:none' width='200.0' height='200.0' x='0.0' y='0.0'> </rect>\n",
              "<path class='bond-0 atom-0 atom-1' d='M 10.0,49.8 L 34.3,63.8' style='fill:none;fill-rule:evenodd;stroke:#000000;stroke-width:2.0px;stroke-linecap:butt;stroke-linejoin:miter;stroke-opacity:1' />\n",
              "<path class='bond-0 atom-0 atom-1' d='M 34.3,63.8 L 58.5,77.9' style='fill:none;fill-rule:evenodd;stroke:#0000FF;stroke-width:2.0px;stroke-linecap:butt;stroke-linejoin:miter;stroke-opacity:1' />\n",
              "<path class='bond-1 atom-1 atom-2' d='M 67.9,95.0 L 67.9,122.6' style='fill:none;fill-rule:evenodd;stroke:#0000FF;stroke-width:2.0px;stroke-linecap:butt;stroke-linejoin:miter;stroke-opacity:1' />\n",
              "<path class='bond-1 atom-1 atom-2' d='M 67.9,122.6 L 67.9,150.2' style='fill:none;fill-rule:evenodd;stroke:#000000;stroke-width:2.0px;stroke-linecap:butt;stroke-linejoin:miter;stroke-opacity:1' />\n",
              "<path class='bond-2 atom-1 atom-3' d='M 77.3,77.9 L 101.6,63.8' style='fill:none;fill-rule:evenodd;stroke:#0000FF;stroke-width:2.0px;stroke-linecap:butt;stroke-linejoin:miter;stroke-opacity:1' />\n",
              "<path class='bond-2 atom-1 atom-3' d='M 101.6,63.8 L 125.9,49.8' style='fill:none;fill-rule:evenodd;stroke:#000000;stroke-width:2.0px;stroke-linecap:butt;stroke-linejoin:miter;stroke-opacity:1' />\n",
              "<path class='bond-3 atom-3 atom-4' d='M 125.9,49.8 L 149.4,63.4' style='fill:none;fill-rule:evenodd;stroke:#000000;stroke-width:2.0px;stroke-linecap:butt;stroke-linejoin:miter;stroke-opacity:1' />\n",
              "<path class='bond-3 atom-3 atom-4' d='M 149.4,63.4 L 172.9,77.0' style='fill:none;fill-rule:evenodd;stroke:#FF0000;stroke-width:2.0px;stroke-linecap:butt;stroke-linejoin:miter;stroke-opacity:1' />\n",
              "<path class='bond-3 atom-3 atom-4' d='M 125.9,61.4 L 144.4,72.1' style='fill:none;fill-rule:evenodd;stroke:#000000;stroke-width:2.0px;stroke-linecap:butt;stroke-linejoin:miter;stroke-opacity:1' />\n",
              "<path class='bond-3 atom-3 atom-4' d='M 144.4,72.1 L 167.9,85.7' style='fill:none;fill-rule:evenodd;stroke:#FF0000;stroke-width:2.0px;stroke-linecap:butt;stroke-linejoin:miter;stroke-opacity:1' />\n",
              "<path d='M 124.7,50.5 L 125.9,49.8 L 127.1,50.5' style='fill:none;stroke:#000000;stroke-width:2.0px;stroke-linecap:butt;stroke-linejoin:miter;stroke-opacity:1;' />\n",
              "<path class='atom-1' d='M 63.7 73.8\n",
              "L 70.0 83.8\n",
              "Q 70.6 84.8, 71.6 86.6\n",
              "Q 72.6 88.4, 72.6 88.5\n",
              "L 72.6 73.8\n",
              "L 75.1 73.8\n",
              "L 75.1 92.7\n",
              "L 72.5 92.7\n",
              "L 65.9 81.8\n",
              "Q 65.1 80.5, 64.3 79.0\n",
              "Q 63.5 77.5, 63.2 77.1\n",
              "L 63.2 92.7\n",
              "L 60.8 92.7\n",
              "L 60.8 73.8\n",
              "L 63.7 73.8\n",
              "' fill='#0000FF'/>\n",
              "<path class='atom-4' d='M 172.6 87.7\n",
              "Q 172.6 83.1, 174.9 80.6\n",
              "Q 177.1 78.0, 181.3 78.0\n",
              "Q 185.5 78.0, 187.8 80.6\n",
              "Q 190.0 83.1, 190.0 87.7\n",
              "Q 190.0 92.3, 187.7 94.9\n",
              "Q 185.5 97.5, 181.3 97.5\n",
              "Q 177.1 97.5, 174.9 94.9\n",
              "Q 172.6 92.3, 172.6 87.7\n",
              "M 181.3 95.4\n",
              "Q 184.2 95.4, 185.7 93.4\n",
              "Q 187.3 91.5, 187.3 87.7\n",
              "Q 187.3 84.0, 185.7 82.1\n",
              "Q 184.2 80.2, 181.3 80.2\n",
              "Q 178.4 80.2, 176.8 82.1\n",
              "Q 175.3 83.9, 175.3 87.7\n",
              "Q 175.3 91.5, 176.8 93.4\n",
              "Q 178.4 95.4, 181.3 95.4\n",
              "' fill='#FF0000'/>\n",
              "<path class='note' d='M 45.7 59.9\n",
              "Q 43.9 59.9, 43.0 58.6\n",
              "Q 42.2 57.3, 42.2 55.0\n",
              "Q 42.2 52.7, 43.0 51.4\n",
              "Q 43.9 50.2, 45.7 50.2\n",
              "Q 47.4 50.2, 48.3 51.4\n",
              "Q 49.1 52.7, 49.1 55.0\n",
              "Q 49.1 57.3, 48.3 58.6\n",
              "Q 47.4 59.9, 45.7 59.9\n",
              "M 45.7 58.8\n",
              "Q 46.7 58.8, 47.2 57.8\n",
              "Q 47.8 56.9, 47.8 55.0\n",
              "Q 47.8 53.1, 47.2 52.2\n",
              "Q 46.7 51.2, 45.7 51.2\n",
              "Q 44.6 51.2, 44.1 52.2\n",
              "Q 43.5 53.1, 43.5 55.0\n",
              "Q 43.5 56.9, 44.1 57.8\n",
              "Q 44.6 58.8, 45.7 58.8\n",
              "' fill='#7F7FFF'/>\n",
              "<path class='note' d='M 72.3 120.4\n",
              "L 74.4 120.4\n",
              "L 74.4 113.3\n",
              "L 72.1 114.0\n",
              "L 71.8 113.3\n",
              "L 74.7 112.0\n",
              "L 75.6 112.1\n",
              "L 75.6 120.4\n",
              "L 77.5 120.4\n",
              "L 77.5 121.5\n",
              "L 72.3 121.5\n",
              "L 72.3 120.4\n",
              "' fill='#7F7FFF'/>\n",
              "<path class='note' d='M 87.1 52.1\n",
              "Q 87.4 51.2, 88.2 50.7\n",
              "Q 89.1 50.2, 90.2 50.2\n",
              "Q 91.6 50.2, 92.4 50.9\n",
              "Q 93.2 51.7, 93.2 53.1\n",
              "Q 93.2 54.5, 92.2 55.8\n",
              "Q 91.2 57.1, 89.0 58.7\n",
              "L 93.4 58.7\n",
              "L 93.4 59.8\n",
              "L 87.0 59.8\n",
              "L 87.0 58.9\n",
              "Q 88.8 57.6, 89.8 56.7\n",
              "Q 90.9 55.7, 91.4 54.9\n",
              "Q 91.9 54.0, 91.9 53.2\n",
              "Q 91.9 52.3, 91.5 51.8\n",
              "Q 91.0 51.2, 90.2 51.2\n",
              "Q 89.4 51.2, 88.9 51.6\n",
              "Q 88.4 51.9, 88.1 52.5\n",
              "L 87.1 52.1\n",
              "' fill='#7F7FFF'/>\n",
              "<path class='note' d='M 162.9 54.8\n",
              "Q 163.8 55.0, 164.3 55.6\n",
              "Q 164.7 56.2, 164.7 57.2\n",
              "Q 164.7 58.0, 164.3 58.6\n",
              "Q 163.9 59.2, 163.2 59.6\n",
              "Q 162.4 59.9, 161.5 59.9\n",
              "Q 160.5 59.9, 159.7 59.5\n",
              "Q 159.0 59.2, 158.3 58.5\n",
              "L 159.1 57.7\n",
              "Q 159.7 58.3, 160.2 58.6\n",
              "Q 160.7 58.8, 161.5 58.8\n",
              "Q 162.3 58.8, 162.9 58.4\n",
              "Q 163.4 57.9, 163.4 57.1\n",
              "Q 163.4 56.2, 162.8 55.8\n",
              "Q 162.3 55.3, 161.1 55.3\n",
              "L 160.4 55.3\n",
              "L 160.4 54.3\n",
              "L 161.1 54.3\n",
              "Q 162.1 54.3, 162.6 53.9\n",
              "Q 163.2 53.4, 163.2 52.6\n",
              "Q 163.2 52.0, 162.7 51.6\n",
              "Q 162.3 51.2, 161.5 51.2\n",
              "Q 160.7 51.2, 160.2 51.5\n",
              "Q 159.7 51.8, 159.4 52.5\n",
              "L 158.4 52.0\n",
              "Q 158.8 51.2, 159.6 50.7\n",
              "Q 160.4 50.2, 161.5 50.2\n",
              "Q 162.9 50.2, 163.7 50.8\n",
              "Q 164.5 51.5, 164.5 52.6\n",
              "Q 164.5 53.4, 164.1 53.9\n",
              "Q 163.7 54.5, 162.9 54.8\n",
              "' fill='#7F7FFF'/>\n",
              "</svg>\n"
            ],
            "text/html": [
              "<?xml version='1.0' encoding='iso-8859-1'?>\n",
              "<svg version='1.1' baseProfile='full'\n",
              "              xmlns='http://www.w3.org/2000/svg'\n",
              "                      xmlns:rdkit='http://www.rdkit.org/xml'\n",
              "                      xmlns:xlink='http://www.w3.org/1999/xlink'\n",
              "                  xml:space='preserve'\n",
              "width='200px' height='200px' viewBox='0 0 200 200'>\n",
              "<!-- END OF HEADER -->\n",
              "<rect style='opacity:1.0;fill:#FFFFFF;stroke:none' width='200.0' height='200.0' x='0.0' y='0.0'> </rect>\n",
              "<path class='bond-0 atom-0 atom-1' d='M 10.0,49.8 L 34.3,63.8' style='fill:none;fill-rule:evenodd;stroke:#000000;stroke-width:2.0px;stroke-linecap:butt;stroke-linejoin:miter;stroke-opacity:1' />\n",
              "<path class='bond-0 atom-0 atom-1' d='M 34.3,63.8 L 58.5,77.9' style='fill:none;fill-rule:evenodd;stroke:#0000FF;stroke-width:2.0px;stroke-linecap:butt;stroke-linejoin:miter;stroke-opacity:1' />\n",
              "<path class='bond-1 atom-1 atom-2' d='M 67.9,95.0 L 67.9,122.6' style='fill:none;fill-rule:evenodd;stroke:#0000FF;stroke-width:2.0px;stroke-linecap:butt;stroke-linejoin:miter;stroke-opacity:1' />\n",
              "<path class='bond-1 atom-1 atom-2' d='M 67.9,122.6 L 67.9,150.2' style='fill:none;fill-rule:evenodd;stroke:#000000;stroke-width:2.0px;stroke-linecap:butt;stroke-linejoin:miter;stroke-opacity:1' />\n",
              "<path class='bond-2 atom-1 atom-3' d='M 77.3,77.9 L 101.6,63.8' style='fill:none;fill-rule:evenodd;stroke:#0000FF;stroke-width:2.0px;stroke-linecap:butt;stroke-linejoin:miter;stroke-opacity:1' />\n",
              "<path class='bond-2 atom-1 atom-3' d='M 101.6,63.8 L 125.9,49.8' style='fill:none;fill-rule:evenodd;stroke:#000000;stroke-width:2.0px;stroke-linecap:butt;stroke-linejoin:miter;stroke-opacity:1' />\n",
              "<path class='bond-3 atom-3 atom-4' d='M 125.9,49.8 L 149.4,63.4' style='fill:none;fill-rule:evenodd;stroke:#000000;stroke-width:2.0px;stroke-linecap:butt;stroke-linejoin:miter;stroke-opacity:1' />\n",
              "<path class='bond-3 atom-3 atom-4' d='M 149.4,63.4 L 172.9,77.0' style='fill:none;fill-rule:evenodd;stroke:#FF0000;stroke-width:2.0px;stroke-linecap:butt;stroke-linejoin:miter;stroke-opacity:1' />\n",
              "<path class='bond-3 atom-3 atom-4' d='M 125.9,61.4 L 144.4,72.1' style='fill:none;fill-rule:evenodd;stroke:#000000;stroke-width:2.0px;stroke-linecap:butt;stroke-linejoin:miter;stroke-opacity:1' />\n",
              "<path class='bond-3 atom-3 atom-4' d='M 144.4,72.1 L 167.9,85.7' style='fill:none;fill-rule:evenodd;stroke:#FF0000;stroke-width:2.0px;stroke-linecap:butt;stroke-linejoin:miter;stroke-opacity:1' />\n",
              "<path d='M 124.7,50.5 L 125.9,49.8 L 127.1,50.5' style='fill:none;stroke:#000000;stroke-width:2.0px;stroke-linecap:butt;stroke-linejoin:miter;stroke-opacity:1;' />\n",
              "<path class='atom-1' d='M 63.7 73.8\n",
              "L 70.0 83.8\n",
              "Q 70.6 84.8, 71.6 86.6\n",
              "Q 72.6 88.4, 72.6 88.5\n",
              "L 72.6 73.8\n",
              "L 75.1 73.8\n",
              "L 75.1 92.7\n",
              "L 72.5 92.7\n",
              "L 65.9 81.8\n",
              "Q 65.1 80.5, 64.3 79.0\n",
              "Q 63.5 77.5, 63.2 77.1\n",
              "L 63.2 92.7\n",
              "L 60.8 92.7\n",
              "L 60.8 73.8\n",
              "L 63.7 73.8\n",
              "' fill='#0000FF'/>\n",
              "<path class='atom-4' d='M 172.6 87.7\n",
              "Q 172.6 83.1, 174.9 80.6\n",
              "Q 177.1 78.0, 181.3 78.0\n",
              "Q 185.5 78.0, 187.8 80.6\n",
              "Q 190.0 83.1, 190.0 87.7\n",
              "Q 190.0 92.3, 187.7 94.9\n",
              "Q 185.5 97.5, 181.3 97.5\n",
              "Q 177.1 97.5, 174.9 94.9\n",
              "Q 172.6 92.3, 172.6 87.7\n",
              "M 181.3 95.4\n",
              "Q 184.2 95.4, 185.7 93.4\n",
              "Q 187.3 91.5, 187.3 87.7\n",
              "Q 187.3 84.0, 185.7 82.1\n",
              "Q 184.2 80.2, 181.3 80.2\n",
              "Q 178.4 80.2, 176.8 82.1\n",
              "Q 175.3 83.9, 175.3 87.7\n",
              "Q 175.3 91.5, 176.8 93.4\n",
              "Q 178.4 95.4, 181.3 95.4\n",
              "' fill='#FF0000'/>\n",
              "<path class='note' d='M 45.7 59.9\n",
              "Q 43.9 59.9, 43.0 58.6\n",
              "Q 42.2 57.3, 42.2 55.0\n",
              "Q 42.2 52.7, 43.0 51.4\n",
              "Q 43.9 50.2, 45.7 50.2\n",
              "Q 47.4 50.2, 48.3 51.4\n",
              "Q 49.1 52.7, 49.1 55.0\n",
              "Q 49.1 57.3, 48.3 58.6\n",
              "Q 47.4 59.9, 45.7 59.9\n",
              "M 45.7 58.8\n",
              "Q 46.7 58.8, 47.2 57.8\n",
              "Q 47.8 56.9, 47.8 55.0\n",
              "Q 47.8 53.1, 47.2 52.2\n",
              "Q 46.7 51.2, 45.7 51.2\n",
              "Q 44.6 51.2, 44.1 52.2\n",
              "Q 43.5 53.1, 43.5 55.0\n",
              "Q 43.5 56.9, 44.1 57.8\n",
              "Q 44.6 58.8, 45.7 58.8\n",
              "' fill='#7F7FFF'/>\n",
              "<path class='note' d='M 72.3 120.4\n",
              "L 74.4 120.4\n",
              "L 74.4 113.3\n",
              "L 72.1 114.0\n",
              "L 71.8 113.3\n",
              "L 74.7 112.0\n",
              "L 75.6 112.1\n",
              "L 75.6 120.4\n",
              "L 77.5 120.4\n",
              "L 77.5 121.5\n",
              "L 72.3 121.5\n",
              "L 72.3 120.4\n",
              "' fill='#7F7FFF'/>\n",
              "<path class='note' d='M 87.1 52.1\n",
              "Q 87.4 51.2, 88.2 50.7\n",
              "Q 89.1 50.2, 90.2 50.2\n",
              "Q 91.6 50.2, 92.4 50.9\n",
              "Q 93.2 51.7, 93.2 53.1\n",
              "Q 93.2 54.5, 92.2 55.8\n",
              "Q 91.2 57.1, 89.0 58.7\n",
              "L 93.4 58.7\n",
              "L 93.4 59.8\n",
              "L 87.0 59.8\n",
              "L 87.0 58.9\n",
              "Q 88.8 57.6, 89.8 56.7\n",
              "Q 90.9 55.7, 91.4 54.9\n",
              "Q 91.9 54.0, 91.9 53.2\n",
              "Q 91.9 52.3, 91.5 51.8\n",
              "Q 91.0 51.2, 90.2 51.2\n",
              "Q 89.4 51.2, 88.9 51.6\n",
              "Q 88.4 51.9, 88.1 52.5\n",
              "L 87.1 52.1\n",
              "' fill='#7F7FFF'/>\n",
              "<path class='note' d='M 162.9 54.8\n",
              "Q 163.8 55.0, 164.3 55.6\n",
              "Q 164.7 56.2, 164.7 57.2\n",
              "Q 164.7 58.0, 164.3 58.6\n",
              "Q 163.9 59.2, 163.2 59.6\n",
              "Q 162.4 59.9, 161.5 59.9\n",
              "Q 160.5 59.9, 159.7 59.5\n",
              "Q 159.0 59.2, 158.3 58.5\n",
              "L 159.1 57.7\n",
              "Q 159.7 58.3, 160.2 58.6\n",
              "Q 160.7 58.8, 161.5 58.8\n",
              "Q 162.3 58.8, 162.9 58.4\n",
              "Q 163.4 57.9, 163.4 57.1\n",
              "Q 163.4 56.2, 162.8 55.8\n",
              "Q 162.3 55.3, 161.1 55.3\n",
              "L 160.4 55.3\n",
              "L 160.4 54.3\n",
              "L 161.1 54.3\n",
              "Q 162.1 54.3, 162.6 53.9\n",
              "Q 163.2 53.4, 163.2 52.6\n",
              "Q 163.2 52.0, 162.7 51.6\n",
              "Q 162.3 51.2, 161.5 51.2\n",
              "Q 160.7 51.2, 160.2 51.5\n",
              "Q 159.7 51.8, 159.4 52.5\n",
              "L 158.4 52.0\n",
              "Q 158.8 51.2, 159.6 50.7\n",
              "Q 160.4 50.2, 161.5 50.2\n",
              "Q 162.9 50.2, 163.7 50.8\n",
              "Q 164.5 51.5, 164.5 52.6\n",
              "Q 164.5 53.4, 164.1 53.9\n",
              "Q 163.7 54.5, 162.9 54.8\n",
              "' fill='#7F7FFF'/>\n",
              "</svg>\n"
            ],
            "text/plain": [
              "<rdkit.Chem.rdchem.Mol at 0x179935e70>"
            ]
          },
          "execution_count": 5,
          "metadata": {},
          "output_type": "execute_result"
        }
      ],
      "source": [
        "# Show indices of bonds\n",
        "IPythonConsole.drawOptions.addAtomIndices = False  # not adding indices for atoms\n",
        "IPythonConsole.drawOptions.addBondIndices = True  # adding indices for bonds\n",
        "mol"
      ]
    },
    {
      "cell_type": "code",
      "execution_count": 6,
      "id": "3f7f2f28",
      "metadata": {
        "id": "3f7f2f28"
      },
      "outputs": [
        {
          "data": {
            "text/plain": [
              "[[0, 0, 0], [0, 0, 0], [0, 0, 1], [1, 0, 1]]"
            ]
          },
          "execution_count": 6,
          "metadata": {},
          "output_type": "execute_result"
        }
      ],
      "source": [
        "BOND_FEATURES = {\n",
        "    'bond_type' : [\n",
        "        'SINGLE',\n",
        "        'DOUBLE',\n",
        "        'TRIPLE',\n",
        "        'AROMATIC',\n",
        "        'misc'\n",
        "    ],\n",
        "    'stereo': [\n",
        "        'STEREONONE',\n",
        "        'STEREOZ',\n",
        "        'STEREOE',\n",
        "        'STEREOCIS',\n",
        "        'STEREOTRANS',\n",
        "        'STEREOANY',\n",
        "    ],\n",
        "    'conjugated': [False, True],\n",
        "}\n",
        "\n",
        "def get_bond_fv(bond):\n",
        "    \"\"\"\n",
        "    Converts rdkit bond object to feature list of indices\n",
        "    :param bond: rdkit bond object\n",
        "    :return: list\n",
        "    \"\"\"\n",
        "    bond_fv = [\n",
        "        BOND_FEATURES['bond_type'].index(str(bond.GetBondType())),\n",
        "        BOND_FEATURES['stereo'].index(str(bond.GetStereo())),\n",
        "        BOND_FEATURES['conjugated'].index(bond.GetIsConjugated()),\n",
        "    ]\n",
        "    return bond_fv\n",
        "\n",
        "bond_fvs = [get_bond_fv(bond) for bond in mol.GetBonds()]\n",
        "bond_fvs"
      ]
    },
    {
      "cell_type": "markdown",
      "id": "a42b4193",
      "metadata": {
        "id": "a42b4193"
      },
      "source": [
        "### Edge index\n",
        "In many cases, a list of paired node indices are used to describe edges rather than adjacency matrix. Here we use paired node indices (`edge_index`) with shape (2, num_edges) to define the edges in a graph.\n",
        "\n",
        "$$\n",
        "\\mathbf{E} = \\begin{bmatrix}\n",
        "    ..., & i, & ..., & j, & ... \\\\\n",
        "    ..., & j, & ..., & i, & ...\n",
        "\\end{bmatrix}\n",
        "$$\n",
        "So, from the paired node indices list, we can conclude that there has an edge between node $i$ and node $j$ (undirected graph).\n"
      ]
    },
    {
      "cell_type": "code",
      "execution_count": 7,
      "id": "b4291b9d",
      "metadata": {
        "id": "b4291b9d"
      },
      "outputs": [
        {
          "data": {
            "text/plain": [
              "[[0, 1, 1, 2, 1, 3, 3, 4], [1, 0, 2, 1, 3, 1, 4, 3]]"
            ]
          },
          "execution_count": 7,
          "metadata": {},
          "output_type": "execute_result"
        }
      ],
      "source": [
        "edge_index0, edge_index1 = [], []\n",
        "\n",
        "for bond in mol.GetBonds():\n",
        "    i, j = bond.GetBeginAtomIdx(), bond.GetEndAtomIdx()\n",
        "    edge_index0 += [i, j]\n",
        "    edge_index1 += [j, i]\n",
        "\n",
        "edge_index = [edge_index0, edge_index1]\n",
        "edge_index"
      ]
    },
    {
      "cell_type": "markdown",
      "id": "8cbf2dbb",
      "metadata": {
        "id": "8cbf2dbb"
      },
      "source": [
        "### Molecular graph data\n",
        "\n",
        "We set the density of DMF(0.944 $g/cm^3$) as the graph feature (label). Here we use [Data](https://pytorch-geometric.readthedocs.io/en/latest/generated/torch_geometric.data.Data.html#torch_geometric.data.Data) class in `PyG` to create a graph data for DMF."
      ]
    },
    {
      "cell_type": "code",
      "execution_count": 8,
      "id": "bac3538d",
      "metadata": {
        "id": "bac3538d"
      },
      "outputs": [
        {
          "data": {
            "text/plain": [
              "Data(x=[5, 4], edge_index=[2, 8], edge_attr=[4, 3], y=[1])"
            ]
          },
          "execution_count": 8,
          "metadata": {},
          "output_type": "execute_result"
        }
      ],
      "source": [
        "import torch\n",
        "from torch_geometric.data import Data\n",
        "\n",
        "# convert our data to tensors, which are used for model training\n",
        "x = torch.tensor(atom_fvs, dtype=torch.float)\n",
        "edge_index = torch.tensor(edge_index, dtype=torch.long)\n",
        "edge_attr = torch.tensor(bond_fvs, dtype=torch.float)\n",
        "y = torch.tensor([0.944], dtype=torch.float)\n",
        "\n",
        "dmf_data = Data(x=x, edge_index=edge_index, edge_attr=edge_attr, y=y)\n",
        "dmf_data"
      ]
    },
    {
      "cell_type": "markdown",
      "id": "37b4e523",
      "metadata": {
        "id": "37b4e523"
      },
      "source": [
        "## Graph Neural Network\n",
        "\n",
        "A [graph neural network (GNN)](https://en.wikipedia.org/wiki/Graph_neural_network) is a class of artificial neural networks for processing data that can be represented as graphs. GNNs rely on [message passing methods](https://arxiv.org/abs/1704.01212), which means that nodes exchange information with the neighbors, and send \"messages\" to each other. Generally, GNNs operate in two phases: a **message passing** phase, which transmits information across the molecule to build a neural representation of the molecule, and a **readout** phase, which uses the final representation of the molecule to make predictions about the properties of interest."
      ]
    },
    {
      "cell_type": "markdown",
      "id": "8de73f99",
      "metadata": {
        "id": "8de73f99"
      },
      "source": [
        "Here, we will define a GNN model using message passing neural network (MPNN) according to paper [\"Neural Message Passing for Quantum Chemistry\"](https://arxiv.org/abs/1704.01212). We just use [NNConv](https://pytorch-geometric.readthedocs.io/en/latest/generated/torch_geometric.nn.conv.NNConv.html#torch_geometric.nn.conv.NNConv) class to create message passing layers of our models (the various steps outlined in the lecture, i.e., 'send messages' + 'message aggregation' + 'node update' all happen under the hood inside this class). The [torch_geometric.nn](https://pytorch-geometric.readthedocs.io/en/latest/modules/nn.html) module of PyG contains many different types of layers for message passing and readout, which can help us define GNN models more conveniently."
      ]
    },
    {
      "cell_type": "code",
      "execution_count": 1,
      "id": "f67d234a",
      "metadata": {
        "id": "f67d234a"
      },
      "outputs": [],
      "source": [
        "import torch\n",
        "import torch.nn.functional as F\n",
        "from torch.nn import GRU\n",
        "import pytorch_lightning as pl\n",
        "from pytorch_lightning.loggers import WandbLogger\n",
        "from torch_geometric.loader import DataLoader\n",
        "from torch_geometric.nn import NNConv, MLP, global_add_pool\n",
        "from ogb.graphproppred.mol_encoder import AtomEncoder, BondEncoder\n",
        "\n",
        "\n",
        "class MPNN(pl.LightningModule):\n",
        "    def __init__(self, hidden_dim, out_dim,\n",
        "                 train_data, valid_data, test_data,\n",
        "                 std, batch_size=32, lr=1e-3):\n",
        "        super().__init__()\n",
        "        self.std = std  # std of data's target\n",
        "        self.train_data = train_data\n",
        "        self.valid_data = valid_data\n",
        "        self.test_data = test_data\n",
        "        self.batch_size = batch_size\n",
        "        self.lr = lr\n",
        "        # Initial layers\n",
        "        self.atom_emb = AtomEncoder(emb_dim=hidden_dim)\n",
        "        self.bond_emb = BondEncoder(emb_dim=hidden_dim)\n",
        "        # Message passing layers\n",
        "        nn = MLP([hidden_dim, hidden_dim*2, hidden_dim*hidden_dim])\n",
        "        self.conv = NNConv(hidden_dim, hidden_dim, nn, aggr='mean')\n",
        "        self.gru = GRU(hidden_dim, hidden_dim)\n",
        "        # Readout layers\n",
        "        self.mlp = MLP([hidden_dim, int(hidden_dim/2), out_dim])\n",
        "\n",
        "    def forward(self, data, mode=\"train\"):\n",
        "\n",
        "        # Initialization\n",
        "        x = self.atom_emb(data.x)\n",
        "        h = x.unsqueeze(0)\n",
        "        edge_attr = self.bond_emb(data.edge_attr)\n",
        "\n",
        "        # Message passing\n",
        "        for i in range(3):\n",
        "            m = F.relu(self.conv(x, data.edge_index, edge_attr))  # send message and aggregation\n",
        "            x, h = self.gru(m.unsqueeze(0), h)  # node update\n",
        "            x = x.squeeze(0)\n",
        "\n",
        "        # Readout\n",
        "        x = global_add_pool(x, data.batch)\n",
        "        x = self.mlp(x)\n",
        "\n",
        "        return x.view(-1)\n",
        "\n",
        "    def training_step(self, batch, batch_idx):\n",
        "        # Here we define the train loop.\n",
        "        out = self.forward(batch, mode=\"train\")\n",
        "        loss = F.mse_loss(out, batch.y)\n",
        "        self.log(\"Train loss\", loss)\n",
        "        return loss\n",
        "\n",
        "    def validation_step(self, batch, batch_idx):\n",
        "        # Define validation step. At the end of every epoch, this will be executed\n",
        "        out = self.forward(batch, mode=\"valid\")\n",
        "        loss = F.mse_loss(out * self.std, batch.y * self.std)  # report MSE\n",
        "        self.log(\"Valid MSE\", loss)\n",
        "\n",
        "    def test_step(self, batch, batch_idx):\n",
        "        # What to do in test\n",
        "        out = self.forward(batch, mode=\"test\")\n",
        "        loss = F.mse_loss(out * self.std, batch.y * self.std)  # report MSE\n",
        "        self.log(\"Test MSE\", loss)\n",
        "\n",
        "    def configure_optimizers(self):\n",
        "        # Here we configure the optimization algorithm.\n",
        "        optimizer = torch.optim.Adam(\n",
        "            self.parameters(),\n",
        "            lr=self.lr\n",
        "        )\n",
        "        return optimizer\n",
        "\n",
        "    def train_dataloader(self):\n",
        "        return DataLoader(self.train_data, batch_size=self.batch_size, shuffle=True)\n",
        "\n",
        "    def val_dataloader(self):\n",
        "        return DataLoader(self.valid_data, batch_size=self.batch_size, shuffle=False)\n",
        "\n",
        "    def test_dataloader(self):\n",
        "        return DataLoader(self.test_data, batch_size=self.batch_size, shuffle=False)"
      ]
    },
    {
      "cell_type": "markdown",
      "id": "04593bf6",
      "metadata": {
        "id": "04593bf6"
      },
      "source": [
        "Here, we can use [InMemoryDataset]() class in PyG to create the graph dataset of ESOL conveniently. You can also browse its [tutorial](https://pytorch-geometric.readthedocs.io/en/latest/tutorial/create_dataset.html) and [pre-defined dataset](https://pytorch-geometric.readthedocs.io/en/latest/modules/datasets.html) to learn about how to create graph datasets quickly by PyG."
      ]
    },
    {
      "cell_type": "code",
      "execution_count": 2,
      "id": "9f7eeec9",
      "metadata": {
        "id": "9f7eeec9"
      },
      "outputs": [],
      "source": [
        "from tqdm import tqdm\n",
        "import pandas as pd\n",
        "import torch\n",
        "from torch_geometric.data import (\n",
        "    Data,\n",
        "    InMemoryDataset,\n",
        "    download_url,\n",
        ")\n",
        "from ogb.utils import smiles2graph\n",
        "\n",
        "\n",
        "class ESOLGraphData(InMemoryDataset):\n",
        "    \"\"\"The ESOL graph dataset using PyG\n",
        "    \"\"\"\n",
        "    # ESOL dataset download link\n",
        "    raw_url = 'https://deepchemdata.s3-us-west-1.amazonaws.com/datasets/delaney-processed.csv'\n",
        "\n",
        "    def __init__(self, root, transform=None):\n",
        "        super().__init__(root, transform)\n",
        "        self.data, self.slices = torch.load(self.processed_paths[0])\n",
        "\n",
        "    @property\n",
        "    def raw_file_names(self):\n",
        "        return ['delaney-processed.csv']\n",
        "\n",
        "    @property\n",
        "    def processed_file_names(self):\n",
        "        return ['data.pt']\n",
        "\n",
        "    def download(self):\n",
        "        print('Downloading ESOL dataset...')\n",
        "        file_path = download_url(self.raw_url, self.raw_dir)\n",
        "\n",
        "    def process(self):\n",
        "        # load raw data from a csv file\n",
        "        df = pd.read_csv(self.raw_paths[0])\n",
        "        smiles = df['smiles'].values.tolist()\n",
        "        target = df['measured log solubility in mols per litre'].values.tolist()\n",
        "\n",
        "        # Convert SMILES into graph data\n",
        "        print('Converting SMILES strings into graphs...')\n",
        "        data_list = []\n",
        "        for i, smi in enumerate(tqdm(smiles)):\n",
        "\n",
        "            # get graph data from SMILES\n",
        "            graph = smiles2graph(smi)\n",
        "\n",
        "            # convert to tensor and pyg data\n",
        "            x = torch.tensor(graph['node_feat'], dtype=torch.long)\n",
        "            edge_index = torch.tensor(graph['edge_index'], dtype=torch.long)\n",
        "            edge_attr = torch.tensor(graph['edge_feat'], dtype=torch.long)\n",
        "            y = torch.tensor([target[i]], dtype=torch.float)\n",
        "            data = Data(x=x, edge_index=edge_index, edge_attr=edge_attr, y=y)\n",
        "            data_list.append(data)\n",
        "\n",
        "        # save data\n",
        "        torch.save(self.collate(data_list), self.processed_paths[0])"
      ]
    },
    {
      "cell_type": "markdown",
      "id": "9f352ca3",
      "metadata": {
        "id": "9f352ca3"
      },
      "source": [
        "Create, normalize and split ESOL graph dataset."
      ]
    },
    {
      "cell_type": "code",
      "execution_count": 3,
      "id": "9c5d536d",
      "metadata": {
        "id": "9c5d536d"
      },
      "outputs": [],
      "source": [
        "from typing import Optional, Tuple\n",
        "import numpy as np\n",
        "from torch_geometric.data.dataset import Dataset\n",
        "\n",
        "\n",
        "class RandomSplitter(object):\n",
        "    \"\"\"Class for doing random data splits.\"\"\"\n",
        "\n",
        "    def split(\n",
        "        self,\n",
        "        dataset: Dataset,\n",
        "        frac_train: float = 0.7,\n",
        "        frac_valid: float = 0.1,\n",
        "        frac_test: float = 0.2,\n",
        "        seed: Optional[int] = None,\n",
        "    ) -> Tuple[np.ndarray, np.ndarray, np.ndarray]:\n",
        "        \"\"\"\n",
        "        Splits internal compounds randomly into train/validation/test.\n",
        "\n",
        "        Parameters\n",
        "        ----------\n",
        "        dataset: Dataset\n",
        "          Dataset to be split.\n",
        "        seed: int, optional (default None)\n",
        "          Random seed to use.\n",
        "        frac_train: float, optional (default 0.8)\n",
        "          The fraction of data to be used for the training split.\n",
        "        frac_valid: float, optional (default 0.1)\n",
        "          The fraction of data to be used for the validation split.\n",
        "        frac_test: float, optional (default 0.1)\n",
        "          The fraction of data to be used for the test split.\n",
        "        seed: int, optional (default None)\n",
        "          Random seed to use.\n",
        "\n",
        "        Returns\n",
        "        -------\n",
        "        Tuple[np.ndarray, np.ndarray, np.ndarray]\n",
        "          A tuple of train indices, valid indices, and test indices.\n",
        "          Each indices is a numpy array.\n",
        "        \"\"\"\n",
        "        np.testing.assert_almost_equal(frac_train + frac_valid + frac_test, 1.0)\n",
        "        if seed is not None:\n",
        "            np.random.seed(seed)\n",
        "        num_datapoints = len(dataset)\n",
        "        train_cutoff = int(frac_train * num_datapoints)\n",
        "        valid_cutoff = int((frac_train + frac_valid) * num_datapoints)\n",
        "        shuffled = np.random.permutation(range(num_datapoints))\n",
        "        return (\n",
        "            shuffled[:train_cutoff],\n",
        "            shuffled[train_cutoff:valid_cutoff],\n",
        "            shuffled[valid_cutoff:],\n",
        "        )"
      ]
    },
    {
      "cell_type": "code",
      "execution_count": 4,
      "id": "fdb4e4f8-86b4-4edd-998d-897d5eb02d2c",
      "metadata": {
        "id": "fdb4e4f8-86b4-4edd-998d-897d5eb02d2c"
      },
      "outputs": [
        {
          "name": "stderr",
          "output_type": "stream",
          "text": [
            "/opt/anaconda3/lib/python3.11/site-packages/torch_geometric/data/in_memory_dataset.py:300: UserWarning: It is not recommended to directly access the internal storage format `data` of an 'InMemoryDataset'. The given 'InMemoryDataset' only references a subset of examples of the full dataset, but 'data' will contain information of the full dataset. If you are absolutely certain what you are doing, access the internal storage via `InMemoryDataset._data` instead to suppress this warning. Alternatively, you can access stacked individual attributes of every graph via `dataset.{attr_name}`.\n",
            "  warnings.warn(msg)\n"
          ]
        }
      ],
      "source": [
        "# create dataset\n",
        "dataset = ESOLGraphData('./esol_pyg').shuffle()\n",
        "\n",
        "# Normalize target to mean = 0 and std = 1.\n",
        "mean = dataset.data.y.mean()\n",
        "std = dataset.data.y.std()\n",
        "dataset.data.y = (dataset.data.y - mean) / std\n",
        "mean, std = mean.item(), std.item()\n",
        "\n",
        "# split data\n",
        "splitter = RandomSplitter()\n",
        "train_idx, valid_idx, test_idx = splitter.split(dataset, frac_train=0.7, frac_valid=0.1, frac_test=0.2)\n",
        "train_dataset = dataset[train_idx]\n",
        "valid_dataset = dataset[valid_idx]\n",
        "test_dataset = dataset[test_idx]"
      ]
    },
    {
      "cell_type": "code",
      "execution_count": 10,
      "id": "9d8ad21d",
      "metadata": {},
      "outputs": [
        {
          "name": "stderr",
          "output_type": "stream",
          "text": [
            "Using default `ModelCheckpoint`. Consider installing `litmodels` package to enable `LitModelCheckpoint` for automatic upload to the Lightning model registry.\n",
            "GPU available: False, used: False\n",
            "TPU available: False, using: 0 TPU cores\n",
            "HPU available: False, using: 0 HPUs\n",
            "\n",
            "  | Name     | Type        | Params | Mode \n",
            "-------------------------------------------------\n",
            "0 | atom_emb | AtomEncoder | 11.1 K | train\n",
            "1 | bond_emb | BondEncoder | 832    | train\n",
            "2 | conv     | NNConv      | 541 K  | train\n",
            "3 | gru      | GRU         | 25.0 K | train\n",
            "4 | mlp      | MLP         | 2.2 K  | train\n",
            "-------------------------------------------------\n",
            "580 K     Trainable params\n",
            "0         Non-trainable params\n",
            "580 K     Total params\n",
            "2.321     Total estimated model params size (MB)\n",
            "36        Modules in train mode\n",
            "0         Modules in eval mode\n"
          ]
        },
        {
          "data": {
            "application/vnd.jupyter.widget-view+json": {
              "model_id": "902df0e22dff4350947302ad5f84fb53",
              "version_major": 2,
              "version_minor": 0
            },
            "text/plain": [
              "Sanity Checking: |          | 0/? [00:00<?, ?it/s]"
            ]
          },
          "metadata": {},
          "output_type": "display_data"
        },
        {
          "data": {
            "application/vnd.jupyter.widget-view+json": {
              "model_id": "361596b3e2484b36b2cd6242438ba282",
              "version_major": 2,
              "version_minor": 0
            },
            "text/plain": [
              "Training: |          | 0/? [00:00<?, ?it/s]"
            ]
          },
          "metadata": {},
          "output_type": "display_data"
        },
        {
          "data": {
            "application/vnd.jupyter.widget-view+json": {
              "model_id": "43971d8c2f5743bf991d840d80d735d9",
              "version_major": 2,
              "version_minor": 0
            },
            "text/plain": [
              "Validation: |          | 0/? [00:00<?, ?it/s]"
            ]
          },
          "metadata": {},
          "output_type": "display_data"
        },
        {
          "data": {
            "application/vnd.jupyter.widget-view+json": {
              "model_id": "122aa874b0344c76bfb8e4915acc1881",
              "version_major": 2,
              "version_minor": 0
            },
            "text/plain": [
              "Validation: |          | 0/? [00:00<?, ?it/s]"
            ]
          },
          "metadata": {},
          "output_type": "display_data"
        },
        {
          "data": {
            "application/vnd.jupyter.widget-view+json": {
              "model_id": "553d71fef6024b0b95a77744e3c1cb0c",
              "version_major": 2,
              "version_minor": 0
            },
            "text/plain": [
              "Validation: |          | 0/? [00:00<?, ?it/s]"
            ]
          },
          "metadata": {},
          "output_type": "display_data"
        },
        {
          "data": {
            "application/vnd.jupyter.widget-view+json": {
              "model_id": "63ba1cdd65374f55b88fcca9c6f8bc5a",
              "version_major": 2,
              "version_minor": 0
            },
            "text/plain": [
              "Validation: |          | 0/? [00:00<?, ?it/s]"
            ]
          },
          "metadata": {},
          "output_type": "display_data"
        },
        {
          "data": {
            "application/vnd.jupyter.widget-view+json": {
              "model_id": "6f7bc3e83e9f4148a8553d83cf4704af",
              "version_major": 2,
              "version_minor": 0
            },
            "text/plain": [
              "Validation: |          | 0/? [00:00<?, ?it/s]"
            ]
          },
          "metadata": {},
          "output_type": "display_data"
        },
        {
          "data": {
            "application/vnd.jupyter.widget-view+json": {
              "model_id": "0fcc0fa2f89c4cf69b8206c964423443",
              "version_major": 2,
              "version_minor": 0
            },
            "text/plain": [
              "Validation: |          | 0/? [00:00<?, ?it/s]"
            ]
          },
          "metadata": {},
          "output_type": "display_data"
        },
        {
          "data": {
            "application/vnd.jupyter.widget-view+json": {
              "model_id": "a1976d45bd2b4acc908c70a0241f9172",
              "version_major": 2,
              "version_minor": 0
            },
            "text/plain": [
              "Validation: |          | 0/? [00:00<?, ?it/s]"
            ]
          },
          "metadata": {},
          "output_type": "display_data"
        },
        {
          "data": {
            "application/vnd.jupyter.widget-view+json": {
              "model_id": "02d5dcc70116407893234cf144a1b088",
              "version_major": 2,
              "version_minor": 0
            },
            "text/plain": [
              "Validation: |          | 0/? [00:00<?, ?it/s]"
            ]
          },
          "metadata": {},
          "output_type": "display_data"
        },
        {
          "data": {
            "application/vnd.jupyter.widget-view+json": {
              "model_id": "571d570e4c8548acb4f4c35a9f002935",
              "version_major": 2,
              "version_minor": 0
            },
            "text/plain": [
              "Validation: |          | 0/? [00:00<?, ?it/s]"
            ]
          },
          "metadata": {},
          "output_type": "display_data"
        },
        {
          "data": {
            "application/vnd.jupyter.widget-view+json": {
              "model_id": "3c246d64fedb4a5e8ae9e4c03be56489",
              "version_major": 2,
              "version_minor": 0
            },
            "text/plain": [
              "Validation: |          | 0/? [00:00<?, ?it/s]"
            ]
          },
          "metadata": {},
          "output_type": "display_data"
        },
        {
          "data": {
            "application/vnd.jupyter.widget-view+json": {
              "model_id": "52079129f7474699a027c1a003ade427",
              "version_major": 2,
              "version_minor": 0
            },
            "text/plain": [
              "Validation: |          | 0/? [00:00<?, ?it/s]"
            ]
          },
          "metadata": {},
          "output_type": "display_data"
        },
        {
          "data": {
            "application/vnd.jupyter.widget-view+json": {
              "model_id": "432e71cef9834580bb8c951622cb1c08",
              "version_major": 2,
              "version_minor": 0
            },
            "text/plain": [
              "Validation: |          | 0/? [00:00<?, ?it/s]"
            ]
          },
          "metadata": {},
          "output_type": "display_data"
        },
        {
          "data": {
            "application/vnd.jupyter.widget-view+json": {
              "model_id": "f01ef5cab9814f4f95ea0d119529bf4c",
              "version_major": 2,
              "version_minor": 0
            },
            "text/plain": [
              "Validation: |          | 0/? [00:00<?, ?it/s]"
            ]
          },
          "metadata": {},
          "output_type": "display_data"
        },
        {
          "data": {
            "application/vnd.jupyter.widget-view+json": {
              "model_id": "c22db88d7dd74d129973fc959a3beaf6",
              "version_major": 2,
              "version_minor": 0
            },
            "text/plain": [
              "Validation: |          | 0/? [00:00<?, ?it/s]"
            ]
          },
          "metadata": {},
          "output_type": "display_data"
        },
        {
          "data": {
            "application/vnd.jupyter.widget-view+json": {
              "model_id": "c7874438735e4a49bd1b1fb8bae36d2d",
              "version_major": 2,
              "version_minor": 0
            },
            "text/plain": [
              "Validation: |          | 0/? [00:00<?, ?it/s]"
            ]
          },
          "metadata": {},
          "output_type": "display_data"
        },
        {
          "data": {
            "application/vnd.jupyter.widget-view+json": {
              "model_id": "5d5118058b844a9ca17a1a7e339394f8",
              "version_major": 2,
              "version_minor": 0
            },
            "text/plain": [
              "Validation: |          | 0/? [00:00<?, ?it/s]"
            ]
          },
          "metadata": {},
          "output_type": "display_data"
        },
        {
          "data": {
            "application/vnd.jupyter.widget-view+json": {
              "model_id": "5b101ed4451d41039e63894f9693ba1f",
              "version_major": 2,
              "version_minor": 0
            },
            "text/plain": [
              "Validation: |          | 0/? [00:00<?, ?it/s]"
            ]
          },
          "metadata": {},
          "output_type": "display_data"
        },
        {
          "data": {
            "application/vnd.jupyter.widget-view+json": {
              "model_id": "06f708996b2843d78d65248d9248346c",
              "version_major": 2,
              "version_minor": 0
            },
            "text/plain": [
              "Validation: |          | 0/? [00:00<?, ?it/s]"
            ]
          },
          "metadata": {},
          "output_type": "display_data"
        },
        {
          "data": {
            "application/vnd.jupyter.widget-view+json": {
              "model_id": "629ca7f82f0c4723af3ae57eb0661f09",
              "version_major": 2,
              "version_minor": 0
            },
            "text/plain": [
              "Validation: |          | 0/? [00:00<?, ?it/s]"
            ]
          },
          "metadata": {},
          "output_type": "display_data"
        },
        {
          "data": {
            "application/vnd.jupyter.widget-view+json": {
              "model_id": "14c1a8e9c20d4892bbc54a52ee24948f",
              "version_major": 2,
              "version_minor": 0
            },
            "text/plain": [
              "Validation: |          | 0/? [00:00<?, ?it/s]"
            ]
          },
          "metadata": {},
          "output_type": "display_data"
        },
        {
          "data": {
            "application/vnd.jupyter.widget-view+json": {
              "model_id": "8333a626f988491b91a7e6f884f21b30",
              "version_major": 2,
              "version_minor": 0
            },
            "text/plain": [
              "Validation: |          | 0/? [00:00<?, ?it/s]"
            ]
          },
          "metadata": {},
          "output_type": "display_data"
        },
        {
          "data": {
            "application/vnd.jupyter.widget-view+json": {
              "model_id": "3a9a198e8f1441aa88e90cc5e033dca9",
              "version_major": 2,
              "version_minor": 0
            },
            "text/plain": [
              "Validation: |          | 0/? [00:00<?, ?it/s]"
            ]
          },
          "metadata": {},
          "output_type": "display_data"
        },
        {
          "data": {
            "application/vnd.jupyter.widget-view+json": {
              "model_id": "64a267e3f0504ddd9e76e3e6ea580f02",
              "version_major": 2,
              "version_minor": 0
            },
            "text/plain": [
              "Validation: |          | 0/? [00:00<?, ?it/s]"
            ]
          },
          "metadata": {},
          "output_type": "display_data"
        },
        {
          "data": {
            "application/vnd.jupyter.widget-view+json": {
              "model_id": "3cc6679563e144a0b5ecbb0d0bfa2266",
              "version_major": 2,
              "version_minor": 0
            },
            "text/plain": [
              "Validation: |          | 0/? [00:00<?, ?it/s]"
            ]
          },
          "metadata": {},
          "output_type": "display_data"
        },
        {
          "data": {
            "application/vnd.jupyter.widget-view+json": {
              "model_id": "d0d3cb018ac748f0920ff47256d4a2ca",
              "version_major": 2,
              "version_minor": 0
            },
            "text/plain": [
              "Validation: |          | 0/? [00:00<?, ?it/s]"
            ]
          },
          "metadata": {},
          "output_type": "display_data"
        },
        {
          "data": {
            "application/vnd.jupyter.widget-view+json": {
              "model_id": "e96b57257205438287a8e11a2ff290e4",
              "version_major": 2,
              "version_minor": 0
            },
            "text/plain": [
              "Validation: |          | 0/? [00:00<?, ?it/s]"
            ]
          },
          "metadata": {},
          "output_type": "display_data"
        },
        {
          "data": {
            "application/vnd.jupyter.widget-view+json": {
              "model_id": "78d91bdebebe44c9a24940c7b41e2aa8",
              "version_major": 2,
              "version_minor": 0
            },
            "text/plain": [
              "Validation: |          | 0/? [00:00<?, ?it/s]"
            ]
          },
          "metadata": {},
          "output_type": "display_data"
        },
        {
          "data": {
            "application/vnd.jupyter.widget-view+json": {
              "model_id": "47fb4727d1c44caa824a342966f02b3e",
              "version_major": 2,
              "version_minor": 0
            },
            "text/plain": [
              "Validation: |          | 0/? [00:00<?, ?it/s]"
            ]
          },
          "metadata": {},
          "output_type": "display_data"
        },
        {
          "data": {
            "application/vnd.jupyter.widget-view+json": {
              "model_id": "f5c5d73b7df346a297ca0501e74e40b2",
              "version_major": 2,
              "version_minor": 0
            },
            "text/plain": [
              "Validation: |          | 0/? [00:00<?, ?it/s]"
            ]
          },
          "metadata": {},
          "output_type": "display_data"
        },
        {
          "data": {
            "application/vnd.jupyter.widget-view+json": {
              "model_id": "0fccdf84e81b4ce1b5437247676d00d5",
              "version_major": 2,
              "version_minor": 0
            },
            "text/plain": [
              "Validation: |          | 0/? [00:00<?, ?it/s]"
            ]
          },
          "metadata": {},
          "output_type": "display_data"
        },
        {
          "data": {
            "application/vnd.jupyter.widget-view+json": {
              "model_id": "5193df2231fe4cd39edf63c9397276ff",
              "version_major": 2,
              "version_minor": 0
            },
            "text/plain": [
              "Validation: |          | 0/? [00:00<?, ?it/s]"
            ]
          },
          "metadata": {},
          "output_type": "display_data"
        },
        {
          "data": {
            "application/vnd.jupyter.widget-view+json": {
              "model_id": "9465eb3de2114a199fb7364cdcc6d4b2",
              "version_major": 2,
              "version_minor": 0
            },
            "text/plain": [
              "Validation: |          | 0/? [00:00<?, ?it/s]"
            ]
          },
          "metadata": {},
          "output_type": "display_data"
        },
        {
          "data": {
            "application/vnd.jupyter.widget-view+json": {
              "model_id": "395ffdd57e7a4f8b8d156523e9763761",
              "version_major": 2,
              "version_minor": 0
            },
            "text/plain": [
              "Validation: |          | 0/? [00:00<?, ?it/s]"
            ]
          },
          "metadata": {},
          "output_type": "display_data"
        },
        {
          "data": {
            "application/vnd.jupyter.widget-view+json": {
              "model_id": "d20680fe0c3b4a2fada269ca0c322511",
              "version_major": 2,
              "version_minor": 0
            },
            "text/plain": [
              "Validation: |          | 0/? [00:00<?, ?it/s]"
            ]
          },
          "metadata": {},
          "output_type": "display_data"
        },
        {
          "data": {
            "application/vnd.jupyter.widget-view+json": {
              "model_id": "f79fc9eac344499cad712745138f94c3",
              "version_major": 2,
              "version_minor": 0
            },
            "text/plain": [
              "Validation: |          | 0/? [00:00<?, ?it/s]"
            ]
          },
          "metadata": {},
          "output_type": "display_data"
        },
        {
          "data": {
            "application/vnd.jupyter.widget-view+json": {
              "model_id": "13a75b45f9d949b4a504ba36788fd921",
              "version_major": 2,
              "version_minor": 0
            },
            "text/plain": [
              "Validation: |          | 0/? [00:00<?, ?it/s]"
            ]
          },
          "metadata": {},
          "output_type": "display_data"
        },
        {
          "data": {
            "application/vnd.jupyter.widget-view+json": {
              "model_id": "4310ca1f606a40628ffa38cd83a7b28a",
              "version_major": 2,
              "version_minor": 0
            },
            "text/plain": [
              "Validation: |          | 0/? [00:00<?, ?it/s]"
            ]
          },
          "metadata": {},
          "output_type": "display_data"
        },
        {
          "data": {
            "application/vnd.jupyter.widget-view+json": {
              "model_id": "dc967773a0a64b32a087d6f04a8fc473",
              "version_major": 2,
              "version_minor": 0
            },
            "text/plain": [
              "Validation: |          | 0/? [00:00<?, ?it/s]"
            ]
          },
          "metadata": {},
          "output_type": "display_data"
        },
        {
          "data": {
            "application/vnd.jupyter.widget-view+json": {
              "model_id": "cd850987f6b8494e93bfb8ea04e20d22",
              "version_major": 2,
              "version_minor": 0
            },
            "text/plain": [
              "Validation: |          | 0/? [00:00<?, ?it/s]"
            ]
          },
          "metadata": {},
          "output_type": "display_data"
        },
        {
          "data": {
            "application/vnd.jupyter.widget-view+json": {
              "model_id": "3bd2f4e77a654ef4b0497146489850d0",
              "version_major": 2,
              "version_minor": 0
            },
            "text/plain": [
              "Validation: |          | 0/? [00:00<?, ?it/s]"
            ]
          },
          "metadata": {},
          "output_type": "display_data"
        },
        {
          "data": {
            "application/vnd.jupyter.widget-view+json": {
              "model_id": "8f68d08c875a47419dc254ff8c4ea906",
              "version_major": 2,
              "version_minor": 0
            },
            "text/plain": [
              "Validation: |          | 0/? [00:00<?, ?it/s]"
            ]
          },
          "metadata": {},
          "output_type": "display_data"
        },
        {
          "data": {
            "application/vnd.jupyter.widget-view+json": {
              "model_id": "bdacc831dbd34c70b709ff14cf24ac9d",
              "version_major": 2,
              "version_minor": 0
            },
            "text/plain": [
              "Validation: |          | 0/? [00:00<?, ?it/s]"
            ]
          },
          "metadata": {},
          "output_type": "display_data"
        },
        {
          "data": {
            "application/vnd.jupyter.widget-view+json": {
              "model_id": "fcfa456ed6c44c439e3c441c03954224",
              "version_major": 2,
              "version_minor": 0
            },
            "text/plain": [
              "Validation: |          | 0/? [00:00<?, ?it/s]"
            ]
          },
          "metadata": {},
          "output_type": "display_data"
        },
        {
          "data": {
            "application/vnd.jupyter.widget-view+json": {
              "model_id": "c2e0c670c0274c8e8dd4df9fa608e673",
              "version_major": 2,
              "version_minor": 0
            },
            "text/plain": [
              "Validation: |          | 0/? [00:00<?, ?it/s]"
            ]
          },
          "metadata": {},
          "output_type": "display_data"
        },
        {
          "data": {
            "application/vnd.jupyter.widget-view+json": {
              "model_id": "ec096d718cc24fdb8b2868feac593a41",
              "version_major": 2,
              "version_minor": 0
            },
            "text/plain": [
              "Validation: |          | 0/? [00:00<?, ?it/s]"
            ]
          },
          "metadata": {},
          "output_type": "display_data"
        },
        {
          "data": {
            "application/vnd.jupyter.widget-view+json": {
              "model_id": "634d8983876341dea83f6af05566a5c9",
              "version_major": 2,
              "version_minor": 0
            },
            "text/plain": [
              "Validation: |          | 0/? [00:00<?, ?it/s]"
            ]
          },
          "metadata": {},
          "output_type": "display_data"
        },
        {
          "data": {
            "application/vnd.jupyter.widget-view+json": {
              "model_id": "feb2ab85fcbf434db9b428a0e3265e72",
              "version_major": 2,
              "version_minor": 0
            },
            "text/plain": [
              "Validation: |          | 0/? [00:00<?, ?it/s]"
            ]
          },
          "metadata": {},
          "output_type": "display_data"
        },
        {
          "data": {
            "application/vnd.jupyter.widget-view+json": {
              "model_id": "ab7431c590af4e21b97324a8cb54ede8",
              "version_major": 2,
              "version_minor": 0
            },
            "text/plain": [
              "Validation: |          | 0/? [00:00<?, ?it/s]"
            ]
          },
          "metadata": {},
          "output_type": "display_data"
        },
        {
          "data": {
            "application/vnd.jupyter.widget-view+json": {
              "model_id": "eabf4ca4a0ef451da1c18e53329c20af",
              "version_major": 2,
              "version_minor": 0
            },
            "text/plain": [
              "Validation: |          | 0/? [00:00<?, ?it/s]"
            ]
          },
          "metadata": {},
          "output_type": "display_data"
        },
        {
          "data": {
            "application/vnd.jupyter.widget-view+json": {
              "model_id": "b245b0cc4ce244d994ca4b77e478d43a",
              "version_major": 2,
              "version_minor": 0
            },
            "text/plain": [
              "Validation: |          | 0/? [00:00<?, ?it/s]"
            ]
          },
          "metadata": {},
          "output_type": "display_data"
        },
        {
          "data": {
            "application/vnd.jupyter.widget-view+json": {
              "model_id": "635dfaf95bb64cffb3cda22c80b18bda",
              "version_major": 2,
              "version_minor": 0
            },
            "text/plain": [
              "Validation: |          | 0/? [00:00<?, ?it/s]"
            ]
          },
          "metadata": {},
          "output_type": "display_data"
        },
        {
          "data": {
            "application/vnd.jupyter.widget-view+json": {
              "model_id": "bdbb5f2861b14df99d8bdc38d14ffa7f",
              "version_major": 2,
              "version_minor": 0
            },
            "text/plain": [
              "Validation: |          | 0/? [00:00<?, ?it/s]"
            ]
          },
          "metadata": {},
          "output_type": "display_data"
        },
        {
          "data": {
            "application/vnd.jupyter.widget-view+json": {
              "model_id": "03cc6242157f499893a7b7f2615a518d",
              "version_major": 2,
              "version_minor": 0
            },
            "text/plain": [
              "Validation: |          | 0/? [00:00<?, ?it/s]"
            ]
          },
          "metadata": {},
          "output_type": "display_data"
        },
        {
          "data": {
            "application/vnd.jupyter.widget-view+json": {
              "model_id": "fa4c29cd47b543c189d6eb62cab910ab",
              "version_major": 2,
              "version_minor": 0
            },
            "text/plain": [
              "Validation: |          | 0/? [00:00<?, ?it/s]"
            ]
          },
          "metadata": {},
          "output_type": "display_data"
        },
        {
          "data": {
            "application/vnd.jupyter.widget-view+json": {
              "model_id": "302b1804e33f43b3ac4f89138d33d092",
              "version_major": 2,
              "version_minor": 0
            },
            "text/plain": [
              "Validation: |          | 0/? [00:00<?, ?it/s]"
            ]
          },
          "metadata": {},
          "output_type": "display_data"
        },
        {
          "data": {
            "application/vnd.jupyter.widget-view+json": {
              "model_id": "55b2f5f4b7c1446f92f6ee1fcd5921c3",
              "version_major": 2,
              "version_minor": 0
            },
            "text/plain": [
              "Validation: |          | 0/? [00:00<?, ?it/s]"
            ]
          },
          "metadata": {},
          "output_type": "display_data"
        },
        {
          "data": {
            "application/vnd.jupyter.widget-view+json": {
              "model_id": "46a6f2b02442450881507c2346bb3dde",
              "version_major": 2,
              "version_minor": 0
            },
            "text/plain": [
              "Validation: |          | 0/? [00:00<?, ?it/s]"
            ]
          },
          "metadata": {},
          "output_type": "display_data"
        },
        {
          "data": {
            "application/vnd.jupyter.widget-view+json": {
              "model_id": "481caa71a6cc42218aa14616602d84e7",
              "version_major": 2,
              "version_minor": 0
            },
            "text/plain": [
              "Validation: |          | 0/? [00:00<?, ?it/s]"
            ]
          },
          "metadata": {},
          "output_type": "display_data"
        },
        {
          "data": {
            "application/vnd.jupyter.widget-view+json": {
              "model_id": "db63fde6279e4148b5724386b5511a7a",
              "version_major": 2,
              "version_minor": 0
            },
            "text/plain": [
              "Validation: |          | 0/? [00:00<?, ?it/s]"
            ]
          },
          "metadata": {},
          "output_type": "display_data"
        },
        {
          "data": {
            "application/vnd.jupyter.widget-view+json": {
              "model_id": "eba031bec0b44cfd9f35f341d5bc3737",
              "version_major": 2,
              "version_minor": 0
            },
            "text/plain": [
              "Validation: |          | 0/? [00:00<?, ?it/s]"
            ]
          },
          "metadata": {},
          "output_type": "display_data"
        },
        {
          "name": "stderr",
          "output_type": "stream",
          "text": [
            "`Trainer.fit` stopped: `max_epochs=60` reached.\n",
            "Restoring states from the checkpoint path at /Users/thijsstuyver/Desktop/teaching_resources/GNN/lightning_logs/version_3/checkpoints/epoch=59-step=1500.ckpt\n",
            "Loaded model weights from the checkpoint at /Users/thijsstuyver/Desktop/teaching_resources/GNN/lightning_logs/version_3/checkpoints/epoch=59-step=1500.ckpt\n"
          ]
        },
        {
          "data": {
            "application/vnd.jupyter.widget-view+json": {
              "model_id": "4272d07f63594177ba5fd7f5909590de",
              "version_major": 2,
              "version_minor": 0
            },
            "text/plain": [
              "Testing: |          | 0/? [00:00<?, ?it/s]"
            ]
          },
          "metadata": {},
          "output_type": "display_data"
        },
        {
          "data": {
            "text/html": [
              "<pre style=\"white-space:pre;overflow-x:auto;line-height:normal;font-family:Menlo,'DejaVu Sans Mono',consolas,'Courier New',monospace\">┏━━━━━━━━━━━━━━━━━━━━━━━━━━━┳━━━━━━━━━━━━━━━━━━━━━━━━━━━┓\n",
              "┃<span style=\"font-weight: bold\">        Test metric        </span>┃<span style=\"font-weight: bold\">       DataLoader 0        </span>┃\n",
              "┡━━━━━━━━━━━━━━━━━━━━━━━━━━━╇━━━━━━━━━━━━━━━━━━━━━━━━━━━┩\n",
              "│<span style=\"color: #008080; text-decoration-color: #008080\">         Test MSE          </span>│<span style=\"color: #800080; text-decoration-color: #800080\">    0.47308290004730225    </span>│\n",
              "└───────────────────────────┴───────────────────────────┘\n",
              "</pre>\n"
            ],
            "text/plain": [
              "┏━━━━━━━━━━━━━━━━━━━━━━━━━━━┳━━━━━━━━━━━━━━━━━━━━━━━━━━━┓\n",
              "┃\u001b[1m \u001b[0m\u001b[1m       Test metric       \u001b[0m\u001b[1m \u001b[0m┃\u001b[1m \u001b[0m\u001b[1m      DataLoader 0       \u001b[0m\u001b[1m \u001b[0m┃\n",
              "┡━━━━━━━━━━━━━━━━━━━━━━━━━━━╇━━━━━━━━━━━━━━━━━━━━━━━━━━━┩\n",
              "│\u001b[36m \u001b[0m\u001b[36m        Test MSE         \u001b[0m\u001b[36m \u001b[0m│\u001b[35m \u001b[0m\u001b[35m   0.47308290004730225   \u001b[0m\u001b[35m \u001b[0m│\n",
              "└───────────────────────────┴───────────────────────────┘\n"
            ]
          },
          "metadata": {},
          "output_type": "display_data"
        },
        {
          "name": "stdout",
          "output_type": "stream",
          "text": [
            "\n",
            "MPNN model performance: RMSE on test set = 0.6878.\n",
            "\n"
          ]
        }
      ],
      "source": [
        "# Here we create an instance of our GNN.\n",
        "# Play around with the hyperparameters!\n",
        "gnn_model = MPNN(\n",
        "    hidden_dim=64,\n",
        "    out_dim=1,\n",
        "    std=std,\n",
        "    train_data=train_dataset,\n",
        "    valid_data=valid_dataset,\n",
        "    test_data=test_dataset,\n",
        "    lr=0.001,\n",
        "    batch_size=32\n",
        ")\n",
        "\n",
        "trainer = pl.Trainer(max_epochs = 60)\n",
        "\n",
        "trainer.fit(model=gnn_model)\n",
        "\n",
        "# Now run test\n",
        "results = trainer.test(ckpt_path=\"best\")\n",
        "\n",
        "# Test RMSE\n",
        "test_mse = results[0][\"Test MSE\"]\n",
        "test_rmse = test_mse ** 0.5\n",
        "print(f\"\\nMPNN model performance: RMSE on test set = {test_rmse:.4f}.\\n\")"
      ]
    }
  ],
  "metadata": {
    "colab": {
      "provenance": []
    },
    "kernelspec": {
      "display_name": "base",
      "language": "python",
      "name": "python3"
    },
    "language_info": {
      "codemirror_mode": {
        "name": "ipython",
        "version": 3
      },
      "file_extension": ".py",
      "mimetype": "text/x-python",
      "name": "python",
      "nbconvert_exporter": "python",
      "pygments_lexer": "ipython3",
      "version": "3.11.8"
    }
  },
  "nbformat": 4,
  "nbformat_minor": 5
}
